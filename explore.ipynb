{
 "cells": [
  {
   "cell_type": "code",
   "execution_count": 1,
   "metadata": {},
   "outputs": [
    {
     "name": "stderr",
     "output_type": "stream",
     "text": [
      "D:\\IDE_Project_Programming\\Anaconda\\lib\\site-packages\\sklearn\\ensemble\\weight_boosting.py:29: DeprecationWarning: numpy.core.umath_tests is an internal NumPy module and should not be imported. It will be removed in a future NumPy release.\n",
      "  from numpy.core.umath_tests import inner1d\n"
     ]
    }
   ],
   "source": [
    "from module.prepare import *\n",
    "from itertools import product\n",
    "from sklearn.externals import joblib\n",
    "from sklearn import metrics\n",
    "from catboost import *\n",
    "# import pygraphviz"
   ]
  },
  {
   "cell_type": "code",
   "execution_count": 2,
   "metadata": {},
   "outputs": [],
   "source": [
    "def scoreFunction(cv_results):\n",
    "    scores = {\n",
    "        'acc':[],\n",
    "        'auc':[],\n",
    "    }\n",
    "\n",
    "    for result in cv_results:\n",
    "        acc = metrics.accuracy_score(result[0],result[1])\n",
    "        auc = metrics.roc_auc_score(result[0],result[1])\n",
    "        scores['acc'].append(acc)\n",
    "        scores['auc'].append(auc)\n",
    "    \n",
    "    return scores"
   ]
  },
  {
   "cell_type": "markdown",
   "metadata": {},
   "source": [
    "#### LGB"
   ]
  },
  {
   "cell_type": "code",
   "execution_count": 4,
   "metadata": {},
   "outputs": [],
   "source": [
    "def LGBTuning(Xtrain,Xtest,Ytrain,Ytest,tuning=True):\n",
    "    \n",
    "    clf = lgb.LGBMClassifier(objective='binary',\n",
    "                             silent=False,\n",
    "                             verbose=1,\n",
    "                             random_state=seed,\n",
    "                             n_jobs=4,\n",
    "#                              class_weight\n",
    "                            )\n",
    "    \n",
    "    gridParams = {\n",
    "        # step 1\n",
    "#     'learning_rate': [0.01,0.05,0.1],\n",
    "#     'boosting_type':['gbdt','goss'],\n",
    "#     'n_estimators': [50,200,500],\n",
    "#     'num_iterations':[200,400,1000],\n",
    "        # step 1 fixed\n",
    "    'learning_rate': [0.1], ### 0.1\n",
    "    'boosting_type':['gbdt'], ### goss>gbdt\n",
    "    'n_estimators': [300],\n",
    "    'num_iterations':[2000], ### 2000\n",
    "        # step 2\n",
    "    'num_leaves': [675], ### 675\n",
    "#     'min_data_in_leaf':[18,20,22], ### 20 default\n",
    "#     'max_bin':[127,255,511],\n",
    "        # step 2 fixed\n",
    "#     'num_leaves': [800],\n",
    "    'max_bin':[256],\n",
    "        # step 3\n",
    "#     'max_depth':[7,8,9,10], ### missed\n",
    "    'colsample_bytree' : [0.75], ### 0.75\n",
    "#     'subsample_freq':[1,2,3], ### 1\n",
    "#     'subsample' : [0.6,0.8,1], ### 1\n",
    "#     'reg_alpha' : [0,0.1,0.5], ### 0\n",
    "#     'reg_lambda' : [0,0.1,0.5], ### 0\n",
    "    }\n",
    "\n",
    "    if tuning:\n",
    "        grid = GridSearchCV(clf, gridParams,\n",
    "                        scoring='roc_auc',\n",
    "                        verbose=3,\n",
    "                        cv=5,\n",
    "                        n_jobs=1)\n",
    "        print('default params\\n',clf.get_params())\n",
    "        grid.fit(Xtrain,Ytrain)\n",
    "        return grid\n",
    "    else:\n",
    "        arg_str = ''\n",
    "        for k,v in gridParams.items():\n",
    "            if type(v[0])==str:\n",
    "                arg_str += k+'='+\"'\"+v[0]+\"',\"\n",
    "            else:\n",
    "                arg_str += k+'='+str(v[0])+\",\"\n",
    "        eval(\n",
    "            'clf.'+clf.set_params.__name__+\"(\"\n",
    "                +arg_str.rstrip(',')+\n",
    "                \")\"\n",
    "            )\n",
    "#         clf.class_weight = {1:sum(Ytrain==1),0:sum(Ytrain==0)}\n",
    "        print('default params\\n',clf.get_params())\n",
    "        clf.fit(Xtrain,Ytrain)\n",
    "        Ypred = clf.predict_proba(Xtest)\n",
    "        return [Ypred,Ytest,clf.score(Xtrain,Ytrain)]"
   ]
  },
  {
   "cell_type": "code",
   "execution_count": null,
   "metadata": {},
   "outputs": [],
   "source": [
    "def LGBFit(X_train,X_test,Y_train,Y_test):\n",
    "    lgb_train = lgb.Dataset(X_train, Y_train)\n",
    "    lgb_test = lgb.Dataset(X_test, Y_test, reference=lgb_train)\n",
    "\n",
    "    params = {    \n",
    "                'boosting_type': 'gbdt',\n",
    "                'objective': 'binary',\n",
    "                'metric': 'roc-auc',\n",
    "#                 'nthread':6,\n",
    "                'learning_rate':0.08,\n",
    "                'num_leaves':300, \n",
    "                'max_depth': -1,   \n",
    "                'subsample': 0.9, \n",
    "                'colsample_bytree': 0.9, \n",
    "                'feature_fraction': 1,\n",
    "#                 'bagging_freq': 8,\n",
    "# #                 'num_iterations':300,\n",
    "#                 'min_data_in_leaf':2,\n",
    "#                 'bagging_fraction': 0.8,\n",
    "#                 'num_boost_round':3000,\n",
    "            }\n",
    "\n",
    "    cv_results = lgb.cv(params, lgb_train, nfold=5  \n",
    "                        ,stratified=False, shuffle=True\n",
    "                        ,seed=seed,\n",
    "                        metrics=['auc','binary_logloss','mae']\n",
    "                        ,verbose_eval=1)\n",
    "    print('best n_estimators:', len(cv_results['auc-mean']))\n",
    "    for k,v in cv_results.items():\n",
    "        print('best cv score:', k, pd.Series(cv_results[k]).max())\n",
    "    return [lgb,cv_results]"
   ]
  },
  {
   "cell_type": "markdown",
   "metadata": {},
   "source": [
    "#### main"
   ]
  },
  {
   "cell_type": "code",
   "execution_count": 5,
   "metadata": {},
   "outputs": [],
   "source": [
    "hyper_params = GetConfigure()\n",
    "num_hyper_params = len(hyper_params)\n",
    "\n",
    "cv = 5\n",
    "generalize_ratio = 1.0/cv\n",
    "test_ratio = 1.0/cv\n",
    "mi_use = True\n",
    "\n",
    "tuning_mode = True\n",
    "if tuning_mode:\n",
    "    cv = 1\n",
    "\n",
    "cv_results = []"
   ]
  },
  {
   "cell_type": "code",
   "execution_count": 6,
   "metadata": {
    "scrolled": true,
    "slideshow": {
     "slide_type": "-"
    }
   },
   "outputs": [
    {
     "name": "stdout",
     "output_type": "stream",
     "text": [
      "=============RETRIEVE TRIAN DATA=================\n",
      "# DEBUG: # DEBUG: **************new dl 0***************\n",
      "# DEBUG: READ SEQ FROM FILE\n",
      "# DEBUG: READ CLUSTER FROM FILE\n",
      "regex error \n",
      "regex error \n",
      "# DEBUG: READ PAIR FROM FILE\n",
      "read line error \n",
      "# DEBUG: GENERATE NEGATIVE PAIR\n",
      "# DEBUG: negative pair number 10412\n",
      "INFO::count of negative pairs10412\n",
      "# DEBUG: PAIR UNION\n",
      "# DEBUG: EXTRACT FEATURES--PROTEIN\n",
      "# DEBUG: EXTRACT FEATURES--RNA\n",
      "# DEBUG: K-MER CALCULATION\n",
      "# DEBUG: FEATURE UNION\n",
      "# DEBUG: GARBAGE COLLECTION\n",
      "MATRIX TRANSFORMATION\n",
      "INFO::cross validation batch 0\n",
      "data shape 20824 8984\n",
      "dimension ratio 0.806768 dimension remained 7248\n",
      "INFO::mutual information sum 35.750516 select 0.988227\n",
      "INFO::MI params 0.000500\n",
      "rf raw data fit score 1.000000\n",
      "select top K features importances 0.9843642991841478\n",
      "dimension remained 3500\n"
     ]
    }
   ],
   "source": [
    "[data,T] = ReadData()\n",
    "\n",
    "# for i in \n",
    "for batch in range(cv):\n",
    "    INFO('cross validation batch %d'%batch)\n",
    "    if mi_use==True:\n",
    "        arr = ToMatrix(data,'sparse')\n",
    "        [X_train,X_test,Y_train,Y_test] = MutualInformationFeatureSelection2(arr,data,generalize_ratio)\n",
    "        [X_train,X_test,Y_train,Y_test] = \\\n",
    "            RandomForestDimensionalityReduction(X_train,X_test,Y_train,Y_test)\n",
    "    else:\n",
    "        [X,Y] = ToMatrix(data,'dense')\n",
    "        [X_train,X_test,Y_train,Y_test] = SplitDataset(X,Y,generalize_ratio)\n",
    "        [X_train,X_test,Y_train,Y_test] = \\\n",
    "            RandomForestDimensionalityReduction(X_train,X_test,Y_train,Y_test)\n",
    "    if tuning_mode:\n",
    "        break\n",
    "        [Xtrain,Ytrain] = merge_train_test(X_train,X_test,Y_train,Y_test)\n",
    "        grid = LGBTuning(Xtrain,[],Ytrain,[],True)\n",
    "        cv_results.append(grid)\n",
    "    else:\n",
    "        scores = LGBTuning(X_train,X_test,Y_train,Y_test,False)\n",
    "        cv_results.append(scores)\n"
   ]
  },
  {
   "cell_type": "markdown",
   "metadata": {},
   "source": [
    "#### test"
   ]
  },
  {
   "cell_type": "code",
   "execution_count": null,
   "metadata": {
    "slideshow": {
     "slide_type": "-"
    }
   },
   "outputs": [],
   "source": [
    "# DecisionTreePrefit(X_train,X_test,Y_train,Y_test)\n",
    "[lgb,cv_results] = LGBFit(X_train,X_test,Y_train,Y_test)\n",
    "WriteResult(DATASET,cv_results,conf,commons)"
   ]
  },
  {
   "cell_type": "markdown",
   "metadata": {},
   "source": [
    "#### tuning"
   ]
  },
  {
   "cell_type": "code",
   "execution_count": 92,
   "metadata": {},
   "outputs": [
    {
     "data": {
      "image/png": "[encoded data removed]",
      "text/plain": [
       "<Figure size 432x288 with 1 Axes>"
      ]
     },
     "metadata": {
      "needs_background": "light"
     },
     "output_type": "display_data"
    },
    {
     "data": {
      "text/plain": [
       "array([[0.9842361044112363,\n",
       "        {'boosting_type': 'gbdt', 'colsample_bytree': 0.75, 'learning_rate': 0.1, 'max_bin': 256, 'n_estimators': 300, 'num_iterations': 2000, 'num_leaves': 675}],\n",
       "       [0.9841772232605589,\n",
       "        {'boosting_type': 'gbdt', 'colsample_bytree': 0.65, 'learning_rate': 0.1, 'max_bin': 256, 'n_estimators': 300, 'num_iterations': 2000, 'num_leaves': 675}],\n",
       "       [0.9840418205184233,\n",
       "        {'boosting_type': 'gbdt', 'colsample_bytree': 0.7, 'learning_rate': 0.1, 'max_bin': 256, 'n_estimators': 300, 'num_iterations': 2000, 'num_leaves': 675}]],\n",
       "      dtype=object)"
      ]
     },
     "execution_count": 92,
     "metadata": {},
     "output_type": "execute_result"
    }
   ],
   "source": [
    "sns.distplot(grid.cv_results_['mean_test_score'],rug=True,bins=20)\n",
    "plt.show()\n",
    "param_rank = np.array([grid.cv_results_['mean_test_score'],grid.cv_results_['params']]).T\n",
    "a = sorted(param_rank,key=lambda x:x[0],reverse=True)\n",
    "a = np.array(list(a))\n",
    "\n",
    "a"
   ]
  },
  {
   "cell_type": "code",
   "execution_count": 12,
   "metadata": {},
   "outputs": [
    {
     "name": "stdout",
     "output_type": "stream",
     "text": [
      "0.9956780118854673\n",
      "0.9308523409363746\n"
     ]
    }
   ],
   "source": [
    "from sklearn.naive_bayes import *\n",
    "from sklearn.ensemble import *\n",
    "nb = RandomForestClassifier()\n",
    "nb.fit(X_train,Y_train)\n",
    "print(nb.score(X_train,Y_train))\n",
    "print(nb.score(X_test,Y_test))"
   ]
  },
  {
   "cell_type": "code",
   "execution_count": 8,
   "metadata": {},
   "outputs": [
    {
     "data": {
      "text/plain": [
       "array([0, 1, 0, ..., 0, 1, 1])"
      ]
     },
     "execution_count": 8,
     "metadata": {},
     "output_type": "execute_result"
    }
   ],
   "source": [
    "Y_test"
   ]
  }
 ],
 "metadata": {
  "kernelspec": {
   "display_name": "Python 3",
   "language": "python",
   "name": "python3"
  },
  "language_info": {
   "codemirror_mode": {
    "name": "ipython",
    "version": 3
   },
   "file_extension": ".py",
   "mimetype": "text/x-python",
   "name": "python",
   "nbconvert_exporter": "python",
   "pygments_lexer": "ipython3",
   "version": "3.7.3"
  }
 },
 "nbformat": 4,
 "nbformat_minor": 4
}

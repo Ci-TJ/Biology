{
 "cells": [
  {
   "cell_type": "code",
   "execution_count": null,
   "metadata": {},
   "outputs": [],
   "source": [
    "from module.prepare import *"
   ]
  },
  {
   "cell_type": "code",
   "execution_count": null,
   "metadata": {},
   "outputs": [],
   "source": [
    "help(GridSearchCV)"
   ]
  },
  {
   "cell_type": "markdown",
   "metadata": {},
   "source": [
    "#### LGB"
   ]
  },
  {
   "cell_type": "code",
   "execution_count": null,
   "metadata": {},
   "outputs": [],
   "source": [
    "def LGBTuning(X_train,X_test,Y_train,Y_test):\n",
    "    \n",
    "    clf = lgb.LGBMClassifier(objective='binary',\n",
    "                             silent=False,\n",
    "                             verbose=1,\n",
    "                             random_state=seed,\n",
    "                             n_jobs=1,\n",
    "#                              class_weight\n",
    "                            )\n",
    "    \n",
    "    gridParams = {\n",
    "    'learning_rate': [0.01,0.05,0.1],\n",
    "    'boosting_type':['gbdt','goss','rf'],\n",
    "    'n_estimators': [50,200,500],\n",
    "    'num_iterations':[200,400,800],\n",
    "#     'num_leaves': [200,500,800],\n",
    "#     'max_bin':[127,255,511],\n",
    "#     'colsample_bytree' : [0.65, 0.66],\n",
    "#     'subsample_freq':[1,2,3],\n",
    "#     'subsample' : [0.6,0.8,1],\n",
    "#     'reg_alpha' : [0,0.5,1],\n",
    "#     'reg_lambda' : [0,0.5,1],\n",
    "    }\n",
    "\n",
    "    print('default params\\n',clf.get_params())\n",
    "\n",
    "    grid = GridSearchCV(clf, gridParams,\n",
    "                    scoring=['roc_auc','accuracy'],\n",
    "                    refit=False,\n",
    "                    verbose=3,\n",
    "                    cv=5,\n",
    "                    n_jobs=1)\n",
    "\n",
    "    grid.fit(X_train, Y_train)\n",
    "\n",
    "    # Print the best parameters found\n",
    "    print(grid.best_params_)\n",
    "    print(grid.best_score_)\n",
    "    \n",
    "    return [grid,params]"
   ]
  },
  {
   "cell_type": "code",
   "execution_count": null,
   "metadata": {},
   "outputs": [],
   "source": [
    "def LGBTuningSingle(X_train,X_test,Y_train,Y_test):\n",
    "    \n",
    "    [X_train, X_test, Y_train, Y_test] = train_test_split(X_train,Y_train,test_size=0.3)\n",
    "    traindata = lgb.Dataset(X_train,Y_train)\n",
    "    testdata = lgb.Dataset(X_test,Y_test)\n",
    "    \n",
    "    params = {'boosting_type': 'gbdt',\n",
    "              'max_depth' : -1,\n",
    "              'objective': 'binary',\n",
    "              'n_jobs': 3, # Updated from nthread\n",
    "              'num_leaves': 500,\n",
    "              'learning_rate': 0.05,\n",
    "              'max_bin': 512,\n",
    "              'num_iterations':1000,\n",
    "              'n_estimators':500,\n",
    "              'metric' : 'binary_error'}\n",
    "    \n",
    "    clf = lgb.LGBMClassifier(boosting_type=params['boosting_type'],\n",
    "                             max_depth=params['max_depth'],\n",
    "                             objective=params['objective'],\n",
    "                             n_jobs=params['n_jobs'],\n",
    "                             num_leaves=params['num_leaves'],\n",
    "                             learning_rate=params['learning_rate'],\n",
    "                             max_bin=params['max_bin'],\n",
    "                             metric=params['metric'],\n",
    "                             num_iterations=params['num_iterations'],\n",
    "                             n_estimators=params['n_estimators'],\n",
    "                             silent=False,\n",
    "                             verbose=4,\n",
    "#                              eval_set=(X_test,Y_test)\n",
    "                            )\n",
    "\n",
    "    print('default params\\n',clf.get_params())\n",
    "\n",
    "    clf.fit(X_train,Y_train,verbose=4)\n",
    "    print('train',clf.score(X_train,Y_train))\n",
    "    print('test',clf.score(X_test,Y_test))\n",
    "    return clf"
   ]
  },
  {
   "cell_type": "code",
   "execution_count": null,
   "metadata": {},
   "outputs": [],
   "source": [
    "def LGBFit(X_train,X_test,Y_train,Y_test):\n",
    "    lgb_train = lgb.Dataset(X_train, Y_train)\n",
    "    lgb_test = lgb.Dataset(X_test, Y_test, reference=lgb_train)\n",
    "\n",
    "    params = {'boosting_type': 'gbdt',\n",
    "              'max_depth' : -1,\n",
    "              'objective': 'binary',\n",
    "              'n_jobs': 3, # Updated from nthread\n",
    "              'num_leaves': 500,\n",
    "              'learning_rate': 0.06,\n",
    "              'max_bin': 512,\n",
    "              'num_iterations':1000,\n",
    "              'n_estimators':500,\n",
    "              'metric' : 'binary_error'}\n",
    "\n",
    "    cv_results = lgb.cv(params, lgb_train, nfold=5  \n",
    "                        ,stratified=False, shuffle=True\n",
    "                        ,seed=seed,\n",
    "                        metrics=['auc','binary_logloss','mae']\n",
    "                        ,verbose_eval=1)\n",
    "    print('best n_estimators:', len(cv_results['auc-mean']))\n",
    "    for k,v in cv_results.items():\n",
    "        print('best cv score:', k, pd.Series(cv_results[k]).max())\n",
    "    return [lgb,cv_results]"
   ]
  },
  {
   "cell_type": "markdown",
   "metadata": {},
   "source": [
    "#### main"
   ]
  },
  {
   "cell_type": "code",
   "execution_count": null,
   "metadata": {
    "slideshow": {
     "slide_type": "-"
    }
   },
   "outputs": [],
   "source": [
    "[data,T] = ReadData()\n",
    "[X,Y] = ToMatrix(data,'dense')"
   ]
  },
  {
   "cell_type": "code",
   "execution_count": null,
   "metadata": {},
   "outputs": [],
   "source": [
    "[X_train,X_test,Y_train,Y_test] = SplitDataset(X,Y)\n",
    "[X_train,X_test,Y_train,Y_test] = \\\n",
    "    RandomForestDimensionalityReduction(X_train,X_test,Y_train,Y_test)"
   ]
  },
  {
   "cell_type": "code",
   "execution_count": null,
   "metadata": {},
   "outputs": [],
   "source": [
    "arr = ToMatrix(data,'sparse')\n",
    "# ENTROPY_IM = 1e-1\n",
    "[X,Y] = MutualInformationFeatureSelection(arr,data)\n",
    "[X_train,X_test,Y_train,Y_test] = SplitDataset(X,Y)\n",
    "[X_train,X_test,Y_train,Y_test] = \\\n",
    "    RandomForestDimensionalityReduction(X_train,X_test,Y_train,Y_test)"
   ]
  },
  {
   "cell_type": "markdown",
   "metadata": {},
   "source": [
    "#### test"
   ]
  },
  {
   "cell_type": "code",
   "execution_count": null,
   "metadata": {
    "slideshow": {
     "slide_type": "-"
    }
   },
   "outputs": [],
   "source": [
    "# DecisionTreePrefit(X_train,X_test,Y_train,Y_test)\n",
    "[lgb,cv_results] = LGBFit(X_train,X_test,Y_train,Y_test)\n",
    "WriteResult(DATASET,cv_results,conf,commons)"
   ]
  },
  {
   "cell_type": "markdown",
   "metadata": {},
   "source": [
    "#### tuning"
   ]
  },
  {
   "cell_type": "code",
   "execution_count": null,
   "metadata": {},
   "outputs": [],
   "source": [
    "clf1 = LGBTuningSingle(X_train,X_test,Y_train,Y_test)"
   ]
  },
  {
   "cell_type": "code",
   "execution_count": null,
   "metadata": {},
   "outputs": [],
   "source": [
    "clf2 = LGBTuning(X_train,X_test,Y_train,Y_test)"
   ]
  },
  {
   "cell_type": "code",
   "execution_count": 8,
   "metadata": {},
   "outputs": [],
   "source": [
    "clf3 = LGBFit(X_train,X_test,Y_train,Y_test)"
   ]
  },
  {
   "cell_type": "code",
   "execution_count": 10,
   "metadata": {},
   "outputs": [
    {
     "data": {
      "text/plain": [
       "[<16659x2547 sparse matrix of type '<class 'numpy.int32'>'\n",
       " \twith 6854953 stored elements in Compressed Sparse Row format>,\n",
       " <4165x2547 sparse matrix of type '<class 'numpy.int32'>'\n",
       " \twith 1719975 stored elements in Compressed Sparse Row format>]"
      ]
     },
     "execution_count": 10,
     "metadata": {},
     "output_type": "execute_result"
    }
   ],
   "source": []
  }
 ],
 "metadata": {
  "kernelspec": {
   "display_name": "Python 3",
   "language": "python",
   "name": "python3"
  },
  "language_info": {
   "codemirror_mode": {
    "name": "ipython",
    "version": 3
   },
   "file_extension": ".py",
   "mimetype": "text/x-python",
   "name": "python",
   "nbconvert_exporter": "python",
   "pygments_lexer": "ipython3",
   "version": "3.7.3"
  }
 },
 "nbformat": 4,
 "nbformat_minor": 4
}

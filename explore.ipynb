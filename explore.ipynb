{
 "cells": [
  {
   "cell_type": "code",
   "execution_count": 1,
   "metadata": {},
   "outputs": [
    {
     "name": "stderr",
     "output_type": "stream",
     "text": [
      "D:\\anaconda\\lib\\site-packages\\sklearn\\externals\\joblib\\__init__.py:15: DeprecationWarning: sklearn.externals.joblib is deprecated in 0.21 and will be removed in 0.23. Please import this functionality directly from joblib, which can be installed with: pip install joblib. If this warning is raised when loading pickled models, you may need to re-serialize those models with scikit-learn 0.21+.\n",
      "  warnings.warn(msg, category=DeprecationWarning)\n"
     ]
    }
   ],
   "source": [
    "from module.prepare import *\n",
    "from itertools import product\n",
    "from sklearn.externals import joblib\n",
    "# import pygraphviz"
   ]
  },
  {
   "cell_type": "code",
   "execution_count": null,
   "metadata": {},
   "outputs": [],
   "source": [
    "help(GridSearchCV)"
   ]
  },
  {
   "cell_type": "markdown",
   "metadata": {},
   "source": [
    "#### LGB"
   ]
  },
  {
   "cell_type": "code",
   "execution_count": 2,
   "metadata": {},
   "outputs": [],
   "source": [
    "def LGBTuning(Xtrain,Ytrain):\n",
    "    \n",
    "    clf = lgb.LGBMClassifier(objective='binary',\n",
    "                             silent=False,\n",
    "                             verbose=1,\n",
    "                             random_state=seed,\n",
    "                             n_jobs=4,\n",
    "#                              class_weight\n",
    "                            )\n",
    "    \n",
    "    gridParams = {\n",
    "        # step 1\n",
    "#     'learning_rate': [0.01,0.05,0.1],\n",
    "#     'boosting_type':['gbdt','goss'],\n",
    "#     'n_estimators': [50,200,500],\n",
    "#     'num_iterations':[200,400,1000],\n",
    "        # step 1 fixed\n",
    "    'learning_rate': [0.1], ### 0.1\n",
    "    'boosting_type':['gbdt'], ### goss>gbdt\n",
    "    'n_estimators': [300],\n",
    "    'num_iterations':[2000], ### 2000\n",
    "        # step 2\n",
    "    'num_leaves': [680], ### 680\n",
    "#     'max_bin':[127,255,511],\n",
    "        # step 2 fixed\n",
    "#     'num_leaves': [800],\n",
    "    'max_bin':[256],\n",
    "        # step 3\n",
    "#     'max_depth':[7,8,9,10], ### missed\n",
    "    'colsample_bytree' : [0.8], ### 0.8\n",
    "    'subsample_freq':[1,2,3],\n",
    "    'subsample' : [0.6,0.8,1],\n",
    "    'reg_alpha' : [0,0.1,0.5],\n",
    "    'reg_lambda' : [0,0.1,0.5],\n",
    "    }\n",
    "\n",
    "    print('default params\\n',clf.get_params())\n",
    "\n",
    "    grid = GridSearchCV(clf, gridParams,\n",
    "                    scoring='roc_auc',\n",
    "#                     refit=False,\n",
    "                    verbose=3,\n",
    "                    cv=5,\n",
    "                    n_jobs=1)\n",
    "\n",
    "    grid.fit(Xtrain,Ytrain)\n",
    "    \n",
    "    return grid"
   ]
  },
  {
   "cell_type": "code",
   "execution_count": 17,
   "metadata": {
    "jupyter": {
     "source_hidden": true
    }
   },
   "outputs": [],
   "source": [
    "def LGBTuningSingle(X_train,X_test,Y_train,Y_test,params):\n",
    "    \n",
    "    [X_train, X_test, Y_train, Y_test] = train_test_split(X_train,Y_train,test_size=0.3)\n",
    "    traindata = lgb.Dataset(X_train,Y_train)\n",
    "    testdata = lgb.Dataset(X_test,Y_test)\n",
    "    \n",
    "    params = {    \n",
    "                'boosting_type': 'gbdt',\n",
    "                'objective': 'binary',\n",
    "                'metric': 'roc-auc',\n",
    "                'n_estimators':800,\n",
    "                'learning_rate':0.08,\n",
    "                'num_leaves':500, \n",
    "                'max_depth': -1,   \n",
    "                'subsample': 0.9, \n",
    "                'colsample_bytree': 0.9, \n",
    "                'num_iterations':800,\n",
    "            }\n",
    "    \n",
    "    clf = lgb.LGBMClassifier(boosting_type=params['boosting_type'],\n",
    "                             max_depth=params['max_depth'],\n",
    "                             objective=params['objective'],\n",
    "                             num_leaves=params['num_leaves'],\n",
    "                             learning_rate=params['learning_rate'],\n",
    "                             subsample=params['subsample'],\n",
    "                             colsample_bytree=params['colsample_bytree'],\n",
    "                             metric=params['metric'],\n",
    "                             num_iterations=params['num_iterations'],\n",
    "                             n_estimators=params['n_estimators'],\n",
    "                             silent=False,\n",
    "                             verbose=4\n",
    "                            )\n",
    "\n",
    "    print('default params\\n',clf.get_params())\n",
    "\n",
    "    clf.fit(X_train,Y_train,verbose=4)\n",
    "    print('train',clf.score(X_train,Y_train))\n",
    "    print('test',clf.score(X_test,Y_test))\n",
    "    return clf"
   ]
  },
  {
   "cell_type": "code",
   "execution_count": 13,
   "metadata": {
    "jupyter": {
     "source_hidden": true
    }
   },
   "outputs": [],
   "source": [
    "def LGBFit(X_train,X_test,Y_train,Y_test):\n",
    "    lgb_train = lgb.Dataset(X_train, Y_train)\n",
    "    lgb_test = lgb.Dataset(X_test, Y_test, reference=lgb_train)\n",
    "\n",
    "    params = {    \n",
    "                'boosting_type': 'gbdt',\n",
    "                'objective': 'binary',\n",
    "                'metric': 'roc-auc',\n",
    "#                 'nthread':6,\n",
    "                'learning_rate':0.08,\n",
    "                'num_leaves':300, \n",
    "                'max_depth': -1,   \n",
    "                'subsample': 0.9, \n",
    "                'colsample_bytree': 0.9, \n",
    "                'feature_fraction': 1,\n",
    "#                 'bagging_freq': 8,\n",
    "# #                 'num_iterations':300,\n",
    "#                 'min_data_in_leaf':2,\n",
    "#                 'bagging_fraction': 0.8,\n",
    "#                 'num_boost_round':3000,\n",
    "            }\n",
    "\n",
    "    cv_results = lgb.cv(params, lgb_train, nfold=5  \n",
    "                        ,stratified=False, shuffle=True\n",
    "                        ,seed=seed,\n",
    "                        metrics=['auc','binary_logloss','mae']\n",
    "                        ,verbose_eval=1)\n",
    "    print('best n_estimators:', len(cv_results['auc-mean']))\n",
    "    for k,v in cv_results.items():\n",
    "        print('best cv score:', k, pd.Series(cv_results[k]).max())\n",
    "    return [lgb,cv_results]"
   ]
  },
  {
   "cell_type": "markdown",
   "metadata": {},
   "source": [
    "#### main"
   ]
  },
  {
   "cell_type": "code",
   "execution_count": 3,
   "metadata": {},
   "outputs": [],
   "source": [
    "hyper_params = GetConfigure()\n",
    "num_hyper_params = len(hyper_params)\n",
    "\n",
    "generalize_ratio = 0.3\n",
    "test_ratio = 0.3\n",
    "cv = 1\n",
    "mi_use = True\n",
    "\n",
    "tuning_mode = True\n",
    "if tuning_mode:\n",
    "    cv = 1\n",
    "\n",
    "cv_results = []"
   ]
  },
  {
   "cell_type": "code",
   "execution_count": 7,
   "metadata": {},
   "outputs": [
    {
     "data": {
      "text/plain": [
       "(20824,)"
      ]
     },
     "execution_count": 7,
     "metadata": {},
     "output_type": "execute_result"
    }
   ],
   "source": []
  },
  {
   "cell_type": "code",
   "execution_count": null,
   "metadata": {
    "scrolled": true,
    "slideshow": {
     "slide_type": "-"
    }
   },
   "outputs": [
    {
     "name": "stdout",
     "output_type": "stream",
     "text": [
      "=============RETRIEVE TRIAN DATA=================\n",
      "# DEBUG: # DEBUG: **************new dl 0***************\n",
      "# DEBUG: READ SEQ FROM FILE\n",
      "# DEBUG: READ CLUSTER FROM FILE\n",
      "regex error \n",
      "regex error \n",
      "# DEBUG: READ PAIR FROM FILE\n",
      "read line error \n",
      "# DEBUG: GENERATE NEGATIVE PAIR\n",
      "# DEBUG: negative pair number 10412\n",
      "INFO::count of negative pairs10412\n",
      "# DEBUG: PAIR UNION\n",
      "# DEBUG: EXTRACT FEATURES--PROTEIN\n",
      "# DEBUG: EXTRACT FEATURES--RNA\n",
      "# DEBUG: K-MER CALCULATION\n",
      "# DEBUG: FEATURE UNION\n",
      "# DEBUG: GARBAGE COLLECTION\n",
      "MATRIX TRANSFORMATION\n",
      "data shape 20824 8984\n",
      "dimension ratio 0.803317 dimension remained 7217\n",
      "INFO::mutual information sum 35.133866 select 0.988534\n",
      "INFO::MI params 0.000500\n",
      "rf raw data fit score 1.000000\n",
      "select top K features importances 0.9838798044166548\n",
      "dimension remained 3500\n",
      "default params\n",
      " {'boosting_type': 'gbdt', 'class_weight': None, 'colsample_bytree': 1.0, 'importance_type': 'split', 'learning_rate': 0.1, 'max_depth': -1, 'min_child_samples': 20, 'min_child_weight': 0.001, 'min_split_gain': 0.0, 'n_estimators': 100, 'n_jobs': 4, 'num_leaves': 31, 'objective': 'binary', 'random_state': 42, 'reg_alpha': 0.0, 'reg_lambda': 0.0, 'silent': False, 'subsample': 1.0, 'subsample_for_bin': 200000, 'subsample_freq': 0, 'verbose': 1}\n",
      "Fitting 5 folds for each of 81 candidates, totalling 405 fits\n",
      "[CV] boosting_type=gbdt, colsample_bytree=0.8, learning_rate=0.1, max_bin=256, n_estimators=300, num_iterations=2000, num_leaves=680, reg_alpha=0, reg_lambda=0, subsample=0.6, subsample_freq=1 \n"
     ]
    },
    {
     "name": "stderr",
     "output_type": "stream",
     "text": [
      "[Parallel(n_jobs=1)]: Using backend SequentialBackend with 1 concurrent workers.\n",
      "D:\\anaconda\\lib\\site-packages\\lightgbm\\engine.py:148: UserWarning: Found `num_iterations` in params. Will use it instead of argument\n",
      "  warnings.warn(\"Found `{}` in params. Will use it instead of argument\".format(alias))\n"
     ]
    },
    {
     "name": "stdout",
     "output_type": "stream",
     "text": [
      "[CV]  boosting_type=gbdt, colsample_bytree=0.8, learning_rate=0.1, max_bin=256, n_estimators=300, num_iterations=2000, num_leaves=680, reg_alpha=0, reg_lambda=0, subsample=0.6, subsample_freq=1, score=0.984, total=  57.6s\n",
      "[CV] boosting_type=gbdt, colsample_bytree=0.8, learning_rate=0.1, max_bin=256, n_estimators=300, num_iterations=2000, num_leaves=680, reg_alpha=0, reg_lambda=0, subsample=0.6, subsample_freq=1 \n"
     ]
    },
    {
     "name": "stderr",
     "output_type": "stream",
     "text": [
      "[Parallel(n_jobs=1)]: Done   1 out of   1 | elapsed:   57.5s remaining:    0.0s\n",
      "D:\\anaconda\\lib\\site-packages\\lightgbm\\engine.py:148: UserWarning: Found `num_iterations` in params. Will use it instead of argument\n",
      "  warnings.warn(\"Found `{}` in params. Will use it instead of argument\".format(alias))\n"
     ]
    },
    {
     "name": "stdout",
     "output_type": "stream",
     "text": [
      "[CV]  boosting_type=gbdt, colsample_bytree=0.8, learning_rate=0.1, max_bin=256, n_estimators=300, num_iterations=2000, num_leaves=680, reg_alpha=0, reg_lambda=0, subsample=0.6, subsample_freq=1, score=0.983, total=  57.9s\n",
      "[CV] boosting_type=gbdt, colsample_bytree=0.8, learning_rate=0.1, max_bin=256, n_estimators=300, num_iterations=2000, num_leaves=680, reg_alpha=0, reg_lambda=0, subsample=0.6, subsample_freq=1 \n"
     ]
    },
    {
     "name": "stderr",
     "output_type": "stream",
     "text": [
      "[Parallel(n_jobs=1)]: Done   2 out of   2 | elapsed:  1.9min remaining:    0.0s\n",
      "D:\\anaconda\\lib\\site-packages\\lightgbm\\engine.py:148: UserWarning: Found `num_iterations` in params. Will use it instead of argument\n",
      "  warnings.warn(\"Found `{}` in params. Will use it instead of argument\".format(alias))\n"
     ]
    },
    {
     "name": "stdout",
     "output_type": "stream",
     "text": [
      "[CV]  boosting_type=gbdt, colsample_bytree=0.8, learning_rate=0.1, max_bin=256, n_estimators=300, num_iterations=2000, num_leaves=680, reg_alpha=0, reg_lambda=0, subsample=0.6, subsample_freq=1, score=0.985, total=  59.6s\n",
      "[CV] boosting_type=gbdt, colsample_bytree=0.8, learning_rate=0.1, max_bin=256, n_estimators=300, num_iterations=2000, num_leaves=680, reg_alpha=0, reg_lambda=0, subsample=0.6, subsample_freq=1 \n"
     ]
    },
    {
     "name": "stderr",
     "output_type": "stream",
     "text": [
      "D:\\anaconda\\lib\\site-packages\\lightgbm\\engine.py:148: UserWarning: Found `num_iterations` in params. Will use it instead of argument\n",
      "  warnings.warn(\"Found `{}` in params. Will use it instead of argument\".format(alias))\n"
     ]
    },
    {
     "name": "stdout",
     "output_type": "stream",
     "text": [
      "[CV]  boosting_type=gbdt, colsample_bytree=0.8, learning_rate=0.1, max_bin=256, n_estimators=300, num_iterations=2000, num_leaves=680, reg_alpha=0, reg_lambda=0, subsample=0.6, subsample_freq=1, score=0.980, total=  58.7s\n",
      "[CV] boosting_type=gbdt, colsample_bytree=0.8, learning_rate=0.1, max_bin=256, n_estimators=300, num_iterations=2000, num_leaves=680, reg_alpha=0, reg_lambda=0, subsample=0.6, subsample_freq=1 \n"
     ]
    },
    {
     "name": "stderr",
     "output_type": "stream",
     "text": [
      "D:\\anaconda\\lib\\site-packages\\lightgbm\\engine.py:148: UserWarning: Found `num_iterations` in params. Will use it instead of argument\n",
      "  warnings.warn(\"Found `{}` in params. Will use it instead of argument\".format(alias))\n"
     ]
    },
    {
     "name": "stdout",
     "output_type": "stream",
     "text": [
      "[CV]  boosting_type=gbdt, colsample_bytree=0.8, learning_rate=0.1, max_bin=256, n_estimators=300, num_iterations=2000, num_leaves=680, reg_alpha=0, reg_lambda=0, subsample=0.6, subsample_freq=1, score=0.985, total= 1.0min\n",
      "[CV] boosting_type=gbdt, colsample_bytree=0.8, learning_rate=0.1, max_bin=256, n_estimators=300, num_iterations=2000, num_leaves=680, reg_alpha=0, reg_lambda=0, subsample=0.6, subsample_freq=2 \n"
     ]
    },
    {
     "name": "stderr",
     "output_type": "stream",
     "text": [
      "D:\\anaconda\\lib\\site-packages\\lightgbm\\engine.py:148: UserWarning: Found `num_iterations` in params. Will use it instead of argument\n",
      "  warnings.warn(\"Found `{}` in params. Will use it instead of argument\".format(alias))\n"
     ]
    },
    {
     "name": "stdout",
     "output_type": "stream",
     "text": [
      "[CV]  boosting_type=gbdt, colsample_bytree=0.8, learning_rate=0.1, max_bin=256, n_estimators=300, num_iterations=2000, num_leaves=680, reg_alpha=0, reg_lambda=0, subsample=0.6, subsample_freq=2, score=0.983, total= 1.0min\n",
      "[CV] boosting_type=gbdt, colsample_bytree=0.8, learning_rate=0.1, max_bin=256, n_estimators=300, num_iterations=2000, num_leaves=680, reg_alpha=0, reg_lambda=0, subsample=0.6, subsample_freq=2 \n"
     ]
    },
    {
     "name": "stderr",
     "output_type": "stream",
     "text": [
      "D:\\anaconda\\lib\\site-packages\\lightgbm\\engine.py:148: UserWarning: Found `num_iterations` in params. Will use it instead of argument\n",
      "  warnings.warn(\"Found `{}` in params. Will use it instead of argument\".format(alias))\n"
     ]
    },
    {
     "name": "stdout",
     "output_type": "stream",
     "text": [
      "[CV]  boosting_type=gbdt, colsample_bytree=0.8, learning_rate=0.1, max_bin=256, n_estimators=300, num_iterations=2000, num_leaves=680, reg_alpha=0, reg_lambda=0, subsample=0.6, subsample_freq=2, score=0.581, total=  40.6s\n",
      "[CV] boosting_type=gbdt, colsample_bytree=0.8, learning_rate=0.1, max_bin=256, n_estimators=300, num_iterations=2000, num_leaves=680, reg_alpha=0, reg_lambda=0, subsample=0.6, subsample_freq=2 \n"
     ]
    },
    {
     "name": "stderr",
     "output_type": "stream",
     "text": [
      "D:\\anaconda\\lib\\site-packages\\lightgbm\\engine.py:148: UserWarning: Found `num_iterations` in params. Will use it instead of argument\n",
      "  warnings.warn(\"Found `{}` in params. Will use it instead of argument\".format(alias))\n"
     ]
    },
    {
     "name": "stdout",
     "output_type": "stream",
     "text": [
      "[CV]  boosting_type=gbdt, colsample_bytree=0.8, learning_rate=0.1, max_bin=256, n_estimators=300, num_iterations=2000, num_leaves=680, reg_alpha=0, reg_lambda=0, subsample=0.6, subsample_freq=2, score=0.583, total=  40.7s\n",
      "[CV] boosting_type=gbdt, colsample_bytree=0.8, learning_rate=0.1, max_bin=256, n_estimators=300, num_iterations=2000, num_leaves=680, reg_alpha=0, reg_lambda=0, subsample=0.6, subsample_freq=2 \n"
     ]
    },
    {
     "name": "stderr",
     "output_type": "stream",
     "text": [
      "D:\\anaconda\\lib\\site-packages\\lightgbm\\engine.py:148: UserWarning: Found `num_iterations` in params. Will use it instead of argument\n",
      "  warnings.warn(\"Found `{}` in params. Will use it instead of argument\".format(alias))\n"
     ]
    },
    {
     "name": "stdout",
     "output_type": "stream",
     "text": [
      "[CV]  boosting_type=gbdt, colsample_bytree=0.8, learning_rate=0.1, max_bin=256, n_estimators=300, num_iterations=2000, num_leaves=680, reg_alpha=0, reg_lambda=0, subsample=0.6, subsample_freq=2, score=0.599, total=  47.8s\n",
      "[CV] boosting_type=gbdt, colsample_bytree=0.8, learning_rate=0.1, max_bin=256, n_estimators=300, num_iterations=2000, num_leaves=680, reg_alpha=0, reg_lambda=0, subsample=0.6, subsample_freq=2 \n"
     ]
    },
    {
     "name": "stderr",
     "output_type": "stream",
     "text": [
      "D:\\anaconda\\lib\\site-packages\\lightgbm\\engine.py:148: UserWarning: Found `num_iterations` in params. Will use it instead of argument\n",
      "  warnings.warn(\"Found `{}` in params. Will use it instead of argument\".format(alias))\n"
     ]
    },
    {
     "name": "stdout",
     "output_type": "stream",
     "text": [
      "[CV]  boosting_type=gbdt, colsample_bytree=0.8, learning_rate=0.1, max_bin=256, n_estimators=300, num_iterations=2000, num_leaves=680, reg_alpha=0, reg_lambda=0, subsample=0.6, subsample_freq=2, score=0.522, total=  49.9s\n",
      "[CV] boosting_type=gbdt, colsample_bytree=0.8, learning_rate=0.1, max_bin=256, n_estimators=300, num_iterations=2000, num_leaves=680, reg_alpha=0, reg_lambda=0, subsample=0.6, subsample_freq=3 \n"
     ]
    },
    {
     "name": "stderr",
     "output_type": "stream",
     "text": [
      "D:\\anaconda\\lib\\site-packages\\lightgbm\\engine.py:148: UserWarning: Found `num_iterations` in params. Will use it instead of argument\n",
      "  warnings.warn(\"Found `{}` in params. Will use it instead of argument\".format(alias))\n"
     ]
    },
    {
     "name": "stdout",
     "output_type": "stream",
     "text": [
      "[CV]  boosting_type=gbdt, colsample_bytree=0.8, learning_rate=0.1, max_bin=256, n_estimators=300, num_iterations=2000, num_leaves=680, reg_alpha=0, reg_lambda=0, subsample=0.6, subsample_freq=3, score=0.517, total=  48.2s\n",
      "[CV] boosting_type=gbdt, colsample_bytree=0.8, learning_rate=0.1, max_bin=256, n_estimators=300, num_iterations=2000, num_leaves=680, reg_alpha=0, reg_lambda=0, subsample=0.6, subsample_freq=3 \n"
     ]
    },
    {
     "name": "stderr",
     "output_type": "stream",
     "text": [
      "D:\\anaconda\\lib\\site-packages\\lightgbm\\engine.py:148: UserWarning: Found `num_iterations` in params. Will use it instead of argument\n",
      "  warnings.warn(\"Found `{}` in params. Will use it instead of argument\".format(alias))\n"
     ]
    },
    {
     "name": "stdout",
     "output_type": "stream",
     "text": [
      "[CV]  boosting_type=gbdt, colsample_bytree=0.8, learning_rate=0.1, max_bin=256, n_estimators=300, num_iterations=2000, num_leaves=680, reg_alpha=0, reg_lambda=0, subsample=0.6, subsample_freq=3, score=0.983, total= 1.0min\n",
      "[CV] boosting_type=gbdt, colsample_bytree=0.8, learning_rate=0.1, max_bin=256, n_estimators=300, num_iterations=2000, num_leaves=680, reg_alpha=0, reg_lambda=0, subsample=0.6, subsample_freq=3 \n"
     ]
    },
    {
     "name": "stderr",
     "output_type": "stream",
     "text": [
      "D:\\anaconda\\lib\\site-packages\\lightgbm\\engine.py:148: UserWarning: Found `num_iterations` in params. Will use it instead of argument\n",
      "  warnings.warn(\"Found `{}` in params. Will use it instead of argument\".format(alias))\n"
     ]
    },
    {
     "name": "stdout",
     "output_type": "stream",
     "text": [
      "[CV]  boosting_type=gbdt, colsample_bytree=0.8, learning_rate=0.1, max_bin=256, n_estimators=300, num_iterations=2000, num_leaves=680, reg_alpha=0, reg_lambda=0, subsample=0.6, subsample_freq=3, score=0.986, total= 1.0min\n",
      "[CV] boosting_type=gbdt, colsample_bytree=0.8, learning_rate=0.1, max_bin=256, n_estimators=300, num_iterations=2000, num_leaves=680, reg_alpha=0, reg_lambda=0, subsample=0.6, subsample_freq=3 \n"
     ]
    },
    {
     "name": "stderr",
     "output_type": "stream",
     "text": [
      "D:\\anaconda\\lib\\site-packages\\lightgbm\\engine.py:148: UserWarning: Found `num_iterations` in params. Will use it instead of argument\n",
      "  warnings.warn(\"Found `{}` in params. Will use it instead of argument\".format(alias))\n"
     ]
    },
    {
     "name": "stdout",
     "output_type": "stream",
     "text": [
      "[CV]  boosting_type=gbdt, colsample_bytree=0.8, learning_rate=0.1, max_bin=256, n_estimators=300, num_iterations=2000, num_leaves=680, reg_alpha=0, reg_lambda=0, subsample=0.6, subsample_freq=3, score=0.979, total= 1.0min\n",
      "[CV] boosting_type=gbdt, colsample_bytree=0.8, learning_rate=0.1, max_bin=256, n_estimators=300, num_iterations=2000, num_leaves=680, reg_alpha=0, reg_lambda=0, subsample=0.6, subsample_freq=3 \n"
     ]
    },
    {
     "name": "stderr",
     "output_type": "stream",
     "text": [
      "D:\\anaconda\\lib\\site-packages\\lightgbm\\engine.py:148: UserWarning: Found `num_iterations` in params. Will use it instead of argument\n",
      "  warnings.warn(\"Found `{}` in params. Will use it instead of argument\".format(alias))\n"
     ]
    },
    {
     "name": "stdout",
     "output_type": "stream",
     "text": [
      "[CV]  boosting_type=gbdt, colsample_bytree=0.8, learning_rate=0.1, max_bin=256, n_estimators=300, num_iterations=2000, num_leaves=680, reg_alpha=0, reg_lambda=0, subsample=0.6, subsample_freq=3, score=0.497, total=  57.3s\n",
      "[CV] boosting_type=gbdt, colsample_bytree=0.8, learning_rate=0.1, max_bin=256, n_estimators=300, num_iterations=2000, num_leaves=680, reg_alpha=0, reg_lambda=0, subsample=0.8, subsample_freq=1 \n"
     ]
    },
    {
     "name": "stderr",
     "output_type": "stream",
     "text": [
      "D:\\anaconda\\lib\\site-packages\\lightgbm\\engine.py:148: UserWarning: Found `num_iterations` in params. Will use it instead of argument\n",
      "  warnings.warn(\"Found `{}` in params. Will use it instead of argument\".format(alias))\n"
     ]
    },
    {
     "name": "stdout",
     "output_type": "stream",
     "text": [
      "[CV]  boosting_type=gbdt, colsample_bytree=0.8, learning_rate=0.1, max_bin=256, n_estimators=300, num_iterations=2000, num_leaves=680, reg_alpha=0, reg_lambda=0, subsample=0.8, subsample_freq=1, score=0.984, total= 1.2min\n",
      "[CV] boosting_type=gbdt, colsample_bytree=0.8, learning_rate=0.1, max_bin=256, n_estimators=300, num_iterations=2000, num_leaves=680, reg_alpha=0, reg_lambda=0, subsample=0.8, subsample_freq=1 \n"
     ]
    },
    {
     "name": "stderr",
     "output_type": "stream",
     "text": [
      "D:\\anaconda\\lib\\site-packages\\lightgbm\\engine.py:148: UserWarning: Found `num_iterations` in params. Will use it instead of argument\n",
      "  warnings.warn(\"Found `{}` in params. Will use it instead of argument\".format(alias))\n"
     ]
    },
    {
     "name": "stdout",
     "output_type": "stream",
     "text": [
      "[CV]  boosting_type=gbdt, colsample_bytree=0.8, learning_rate=0.1, max_bin=256, n_estimators=300, num_iterations=2000, num_leaves=680, reg_alpha=0, reg_lambda=0, subsample=0.8, subsample_freq=1, score=0.983, total= 1.1min\n",
      "[CV] boosting_type=gbdt, colsample_bytree=0.8, learning_rate=0.1, max_bin=256, n_estimators=300, num_iterations=2000, num_leaves=680, reg_alpha=0, reg_lambda=0, subsample=0.8, subsample_freq=1 \n"
     ]
    },
    {
     "name": "stderr",
     "output_type": "stream",
     "text": [
      "D:\\anaconda\\lib\\site-packages\\lightgbm\\engine.py:148: UserWarning: Found `num_iterations` in params. Will use it instead of argument\n",
      "  warnings.warn(\"Found `{}` in params. Will use it instead of argument\".format(alias))\n"
     ]
    },
    {
     "name": "stdout",
     "output_type": "stream",
     "text": [
      "[CV]  boosting_type=gbdt, colsample_bytree=0.8, learning_rate=0.1, max_bin=256, n_estimators=300, num_iterations=2000, num_leaves=680, reg_alpha=0, reg_lambda=0, subsample=0.8, subsample_freq=1, score=0.986, total= 1.2min\n",
      "[CV] boosting_type=gbdt, colsample_bytree=0.8, learning_rate=0.1, max_bin=256, n_estimators=300, num_iterations=2000, num_leaves=680, reg_alpha=0, reg_lambda=0, subsample=0.8, subsample_freq=1 \n"
     ]
    },
    {
     "name": "stderr",
     "output_type": "stream",
     "text": [
      "D:\\anaconda\\lib\\site-packages\\lightgbm\\engine.py:148: UserWarning: Found `num_iterations` in params. Will use it instead of argument\n",
      "  warnings.warn(\"Found `{}` in params. Will use it instead of argument\".format(alias))\n"
     ]
    },
    {
     "name": "stdout",
     "output_type": "stream",
     "text": [
      "[CV]  boosting_type=gbdt, colsample_bytree=0.8, learning_rate=0.1, max_bin=256, n_estimators=300, num_iterations=2000, num_leaves=680, reg_alpha=0, reg_lambda=0, subsample=0.8, subsample_freq=1, score=0.980, total= 1.1min\n",
      "[CV] boosting_type=gbdt, colsample_bytree=0.8, learning_rate=0.1, max_bin=256, n_estimators=300, num_iterations=2000, num_leaves=680, reg_alpha=0, reg_lambda=0, subsample=0.8, subsample_freq=1 \n"
     ]
    },
    {
     "name": "stderr",
     "output_type": "stream",
     "text": [
      "D:\\anaconda\\lib\\site-packages\\lightgbm\\engine.py:148: UserWarning: Found `num_iterations` in params. Will use it instead of argument\n",
      "  warnings.warn(\"Found `{}` in params. Will use it instead of argument\".format(alias))\n"
     ]
    },
    {
     "name": "stdout",
     "output_type": "stream",
     "text": [
      "[CV]  boosting_type=gbdt, colsample_bytree=0.8, learning_rate=0.1, max_bin=256, n_estimators=300, num_iterations=2000, num_leaves=680, reg_alpha=0, reg_lambda=0, subsample=0.8, subsample_freq=1, score=0.986, total= 1.2min\n",
      "[CV] boosting_type=gbdt, colsample_bytree=0.8, learning_rate=0.1, max_bin=256, n_estimators=300, num_iterations=2000, num_leaves=680, reg_alpha=0, reg_lambda=0, subsample=0.8, subsample_freq=2 \n"
     ]
    },
    {
     "name": "stderr",
     "output_type": "stream",
     "text": [
      "D:\\anaconda\\lib\\site-packages\\lightgbm\\engine.py:148: UserWarning: Found `num_iterations` in params. Will use it instead of argument\n",
      "  warnings.warn(\"Found `{}` in params. Will use it instead of argument\".format(alias))\n"
     ]
    },
    {
     "name": "stdout",
     "output_type": "stream",
     "text": [
      "[CV]  boosting_type=gbdt, colsample_bytree=0.8, learning_rate=0.1, max_bin=256, n_estimators=300, num_iterations=2000, num_leaves=680, reg_alpha=0, reg_lambda=0, subsample=0.8, subsample_freq=2, score=0.984, total= 1.1min\n",
      "[CV] boosting_type=gbdt, colsample_bytree=0.8, learning_rate=0.1, max_bin=256, n_estimators=300, num_iterations=2000, num_leaves=680, reg_alpha=0, reg_lambda=0, subsample=0.8, subsample_freq=2 \n"
     ]
    },
    {
     "name": "stderr",
     "output_type": "stream",
     "text": [
      "D:\\anaconda\\lib\\site-packages\\lightgbm\\engine.py:148: UserWarning: Found `num_iterations` in params. Will use it instead of argument\n",
      "  warnings.warn(\"Found `{}` in params. Will use it instead of argument\".format(alias))\n"
     ]
    },
    {
     "name": "stdout",
     "output_type": "stream",
     "text": [
      "[CV]  boosting_type=gbdt, colsample_bytree=0.8, learning_rate=0.1, max_bin=256, n_estimators=300, num_iterations=2000, num_leaves=680, reg_alpha=0, reg_lambda=0, subsample=0.8, subsample_freq=2, score=0.983, total= 1.1min\n",
      "[CV] boosting_type=gbdt, colsample_bytree=0.8, learning_rate=0.1, max_bin=256, n_estimators=300, num_iterations=2000, num_leaves=680, reg_alpha=0, reg_lambda=0, subsample=0.8, subsample_freq=2 \n"
     ]
    },
    {
     "name": "stderr",
     "output_type": "stream",
     "text": [
      "D:\\anaconda\\lib\\site-packages\\lightgbm\\engine.py:148: UserWarning: Found `num_iterations` in params. Will use it instead of argument\n",
      "  warnings.warn(\"Found `{}` in params. Will use it instead of argument\".format(alias))\n"
     ]
    },
    {
     "name": "stdout",
     "output_type": "stream",
     "text": [
      "[CV]  boosting_type=gbdt, colsample_bytree=0.8, learning_rate=0.1, max_bin=256, n_estimators=300, num_iterations=2000, num_leaves=680, reg_alpha=0, reg_lambda=0, subsample=0.8, subsample_freq=2, score=0.986, total= 1.2min\n",
      "[CV] boosting_type=gbdt, colsample_bytree=0.8, learning_rate=0.1, max_bin=256, n_estimators=300, num_iterations=2000, num_leaves=680, reg_alpha=0, reg_lambda=0, subsample=0.8, subsample_freq=2 \n"
     ]
    },
    {
     "name": "stderr",
     "output_type": "stream",
     "text": [
      "D:\\anaconda\\lib\\site-packages\\lightgbm\\engine.py:148: UserWarning: Found `num_iterations` in params. Will use it instead of argument\n",
      "  warnings.warn(\"Found `{}` in params. Will use it instead of argument\".format(alias))\n"
     ]
    },
    {
     "name": "stdout",
     "output_type": "stream",
     "text": [
      "[CV]  boosting_type=gbdt, colsample_bytree=0.8, learning_rate=0.1, max_bin=256, n_estimators=300, num_iterations=2000, num_leaves=680, reg_alpha=0, reg_lambda=0, subsample=0.8, subsample_freq=2, score=0.980, total= 1.1min\n",
      "[CV] boosting_type=gbdt, colsample_bytree=0.8, learning_rate=0.1, max_bin=256, n_estimators=300, num_iterations=2000, num_leaves=680, reg_alpha=0, reg_lambda=0, subsample=0.8, subsample_freq=2 \n"
     ]
    },
    {
     "name": "stderr",
     "output_type": "stream",
     "text": [
      "D:\\anaconda\\lib\\site-packages\\lightgbm\\engine.py:148: UserWarning: Found `num_iterations` in params. Will use it instead of argument\n",
      "  warnings.warn(\"Found `{}` in params. Will use it instead of argument\".format(alias))\n"
     ]
    },
    {
     "name": "stdout",
     "output_type": "stream",
     "text": [
      "[CV]  boosting_type=gbdt, colsample_bytree=0.8, learning_rate=0.1, max_bin=256, n_estimators=300, num_iterations=2000, num_leaves=680, reg_alpha=0, reg_lambda=0, subsample=0.8, subsample_freq=2, score=0.985, total= 1.2min\n",
      "[CV] boosting_type=gbdt, colsample_bytree=0.8, learning_rate=0.1, max_bin=256, n_estimators=300, num_iterations=2000, num_leaves=680, reg_alpha=0, reg_lambda=0, subsample=0.8, subsample_freq=3 \n"
     ]
    },
    {
     "name": "stderr",
     "output_type": "stream",
     "text": [
      "D:\\anaconda\\lib\\site-packages\\lightgbm\\engine.py:148: UserWarning: Found `num_iterations` in params. Will use it instead of argument\n",
      "  warnings.warn(\"Found `{}` in params. Will use it instead of argument\".format(alias))\n"
     ]
    },
    {
     "name": "stdout",
     "output_type": "stream",
     "text": [
      "[CV]  boosting_type=gbdt, colsample_bytree=0.8, learning_rate=0.1, max_bin=256, n_estimators=300, num_iterations=2000, num_leaves=680, reg_alpha=0, reg_lambda=0, subsample=0.8, subsample_freq=3, score=0.501, total=  42.1s\n",
      "[CV] boosting_type=gbdt, colsample_bytree=0.8, learning_rate=0.1, max_bin=256, n_estimators=300, num_iterations=2000, num_leaves=680, reg_alpha=0, reg_lambda=0, subsample=0.8, subsample_freq=3 \n"
     ]
    },
    {
     "name": "stderr",
     "output_type": "stream",
     "text": [
      "D:\\anaconda\\lib\\site-packages\\lightgbm\\engine.py:148: UserWarning: Found `num_iterations` in params. Will use it instead of argument\n",
      "  warnings.warn(\"Found `{}` in params. Will use it instead of argument\".format(alias))\n"
     ]
    },
    {
     "name": "stdout",
     "output_type": "stream",
     "text": [
      "[CV]  boosting_type=gbdt, colsample_bytree=0.8, learning_rate=0.1, max_bin=256, n_estimators=300, num_iterations=2000, num_leaves=680, reg_alpha=0, reg_lambda=0, subsample=0.8, subsample_freq=3, score=0.983, total= 1.1min\n",
      "[CV] boosting_type=gbdt, colsample_bytree=0.8, learning_rate=0.1, max_bin=256, n_estimators=300, num_iterations=2000, num_leaves=680, reg_alpha=0, reg_lambda=0, subsample=0.8, subsample_freq=3 \n"
     ]
    },
    {
     "name": "stderr",
     "output_type": "stream",
     "text": [
      "D:\\anaconda\\lib\\site-packages\\lightgbm\\engine.py:148: UserWarning: Found `num_iterations` in params. Will use it instead of argument\n",
      "  warnings.warn(\"Found `{}` in params. Will use it instead of argument\".format(alias))\n"
     ]
    },
    {
     "name": "stdout",
     "output_type": "stream",
     "text": [
      "[CV]  boosting_type=gbdt, colsample_bytree=0.8, learning_rate=0.1, max_bin=256, n_estimators=300, num_iterations=2000, num_leaves=680, reg_alpha=0, reg_lambda=0, subsample=0.8, subsample_freq=3, score=0.986, total= 1.2min\n",
      "[CV] boosting_type=gbdt, colsample_bytree=0.8, learning_rate=0.1, max_bin=256, n_estimators=300, num_iterations=2000, num_leaves=680, reg_alpha=0, reg_lambda=0, subsample=0.8, subsample_freq=3 \n"
     ]
    },
    {
     "name": "stderr",
     "output_type": "stream",
     "text": [
      "D:\\anaconda\\lib\\site-packages\\lightgbm\\engine.py:148: UserWarning: Found `num_iterations` in params. Will use it instead of argument\n",
      "  warnings.warn(\"Found `{}` in params. Will use it instead of argument\".format(alias))\n"
     ]
    },
    {
     "name": "stdout",
     "output_type": "stream",
     "text": [
      "[CV]  boosting_type=gbdt, colsample_bytree=0.8, learning_rate=0.1, max_bin=256, n_estimators=300, num_iterations=2000, num_leaves=680, reg_alpha=0, reg_lambda=0, subsample=0.8, subsample_freq=3, score=0.979, total= 1.1min\n",
      "[CV] boosting_type=gbdt, colsample_bytree=0.8, learning_rate=0.1, max_bin=256, n_estimators=300, num_iterations=2000, num_leaves=680, reg_alpha=0, reg_lambda=0, subsample=0.8, subsample_freq=3 \n"
     ]
    },
    {
     "name": "stderr",
     "output_type": "stream",
     "text": [
      "D:\\anaconda\\lib\\site-packages\\lightgbm\\engine.py:148: UserWarning: Found `num_iterations` in params. Will use it instead of argument\n",
      "  warnings.warn(\"Found `{}` in params. Will use it instead of argument\".format(alias))\n"
     ]
    },
    {
     "name": "stdout",
     "output_type": "stream",
     "text": [
      "[CV]  boosting_type=gbdt, colsample_bytree=0.8, learning_rate=0.1, max_bin=256, n_estimators=300, num_iterations=2000, num_leaves=680, reg_alpha=0, reg_lambda=0, subsample=0.8, subsample_freq=3, score=0.663, total=  53.7s\n",
      "[CV] boosting_type=gbdt, colsample_bytree=0.8, learning_rate=0.1, max_bin=256, n_estimators=300, num_iterations=2000, num_leaves=680, reg_alpha=0, reg_lambda=0, subsample=1, subsample_freq=1 \n"
     ]
    },
    {
     "name": "stderr",
     "output_type": "stream",
     "text": [
      "D:\\anaconda\\lib\\site-packages\\lightgbm\\engine.py:148: UserWarning: Found `num_iterations` in params. Will use it instead of argument\n",
      "  warnings.warn(\"Found `{}` in params. Will use it instead of argument\".format(alias))\n"
     ]
    },
    {
     "name": "stdout",
     "output_type": "stream",
     "text": [
      "[CV]  boosting_type=gbdt, colsample_bytree=0.8, learning_rate=0.1, max_bin=256, n_estimators=300, num_iterations=2000, num_leaves=680, reg_alpha=0, reg_lambda=0, subsample=1, subsample_freq=1, score=0.984, total= 1.3min\n",
      "[CV] boosting_type=gbdt, colsample_bytree=0.8, learning_rate=0.1, max_bin=256, n_estimators=300, num_iterations=2000, num_leaves=680, reg_alpha=0, reg_lambda=0, subsample=1, subsample_freq=1 \n"
     ]
    },
    {
     "name": "stderr",
     "output_type": "stream",
     "text": [
      "D:\\anaconda\\lib\\site-packages\\lightgbm\\engine.py:148: UserWarning: Found `num_iterations` in params. Will use it instead of argument\n",
      "  warnings.warn(\"Found `{}` in params. Will use it instead of argument\".format(alias))\n"
     ]
    },
    {
     "name": "stdout",
     "output_type": "stream",
     "text": [
      "[CV]  boosting_type=gbdt, colsample_bytree=0.8, learning_rate=0.1, max_bin=256, n_estimators=300, num_iterations=2000, num_leaves=680, reg_alpha=0, reg_lambda=0, subsample=1, subsample_freq=1, score=0.984, total= 1.3min\n",
      "[CV] boosting_type=gbdt, colsample_bytree=0.8, learning_rate=0.1, max_bin=256, n_estimators=300, num_iterations=2000, num_leaves=680, reg_alpha=0, reg_lambda=0, subsample=1, subsample_freq=1 \n"
     ]
    },
    {
     "name": "stderr",
     "output_type": "stream",
     "text": [
      "D:\\anaconda\\lib\\site-packages\\lightgbm\\engine.py:148: UserWarning: Found `num_iterations` in params. Will use it instead of argument\n",
      "  warnings.warn(\"Found `{}` in params. Will use it instead of argument\".format(alias))\n"
     ]
    },
    {
     "name": "stdout",
     "output_type": "stream",
     "text": [
      "[CV]  boosting_type=gbdt, colsample_bytree=0.8, learning_rate=0.1, max_bin=256, n_estimators=300, num_iterations=2000, num_leaves=680, reg_alpha=0, reg_lambda=0, subsample=1, subsample_freq=1, score=0.986, total= 1.3min\n",
      "[CV] boosting_type=gbdt, colsample_bytree=0.8, learning_rate=0.1, max_bin=256, n_estimators=300, num_iterations=2000, num_leaves=680, reg_alpha=0, reg_lambda=0, subsample=1, subsample_freq=1 \n"
     ]
    },
    {
     "name": "stderr",
     "output_type": "stream",
     "text": [
      "D:\\anaconda\\lib\\site-packages\\lightgbm\\engine.py:148: UserWarning: Found `num_iterations` in params. Will use it instead of argument\n",
      "  warnings.warn(\"Found `{}` in params. Will use it instead of argument\".format(alias))\n"
     ]
    },
    {
     "name": "stdout",
     "output_type": "stream",
     "text": [
      "[CV]  boosting_type=gbdt, colsample_bytree=0.8, learning_rate=0.1, max_bin=256, n_estimators=300, num_iterations=2000, num_leaves=680, reg_alpha=0, reg_lambda=0, subsample=1, subsample_freq=1, score=0.979, total= 1.3min\n",
      "[CV] boosting_type=gbdt, colsample_bytree=0.8, learning_rate=0.1, max_bin=256, n_estimators=300, num_iterations=2000, num_leaves=680, reg_alpha=0, reg_lambda=0, subsample=1, subsample_freq=1 \n"
     ]
    },
    {
     "name": "stderr",
     "output_type": "stream",
     "text": [
      "D:\\anaconda\\lib\\site-packages\\lightgbm\\engine.py:148: UserWarning: Found `num_iterations` in params. Will use it instead of argument\n",
      "  warnings.warn(\"Found `{}` in params. Will use it instead of argument\".format(alias))\n"
     ]
    },
    {
     "name": "stdout",
     "output_type": "stream",
     "text": [
      "[CV]  boosting_type=gbdt, colsample_bytree=0.8, learning_rate=0.1, max_bin=256, n_estimators=300, num_iterations=2000, num_leaves=680, reg_alpha=0, reg_lambda=0, subsample=1, subsample_freq=1, score=0.985, total= 1.3min\n",
      "[CV] boosting_type=gbdt, colsample_bytree=0.8, learning_rate=0.1, max_bin=256, n_estimators=300, num_iterations=2000, num_leaves=680, reg_alpha=0, reg_lambda=0, subsample=1, subsample_freq=2 \n"
     ]
    },
    {
     "name": "stderr",
     "output_type": "stream",
     "text": [
      "D:\\anaconda\\lib\\site-packages\\lightgbm\\engine.py:148: UserWarning: Found `num_iterations` in params. Will use it instead of argument\n",
      "  warnings.warn(\"Found `{}` in params. Will use it instead of argument\".format(alias))\n"
     ]
    },
    {
     "name": "stdout",
     "output_type": "stream",
     "text": [
      "[CV]  boosting_type=gbdt, colsample_bytree=0.8, learning_rate=0.1, max_bin=256, n_estimators=300, num_iterations=2000, num_leaves=680, reg_alpha=0, reg_lambda=0, subsample=1, subsample_freq=2, score=0.984, total= 1.3min\n",
      "[CV] boosting_type=gbdt, colsample_bytree=0.8, learning_rate=0.1, max_bin=256, n_estimators=300, num_iterations=2000, num_leaves=680, reg_alpha=0, reg_lambda=0, subsample=1, subsample_freq=2 \n"
     ]
    },
    {
     "name": "stderr",
     "output_type": "stream",
     "text": [
      "D:\\anaconda\\lib\\site-packages\\lightgbm\\engine.py:148: UserWarning: Found `num_iterations` in params. Will use it instead of argument\n",
      "  warnings.warn(\"Found `{}` in params. Will use it instead of argument\".format(alias))\n"
     ]
    },
    {
     "name": "stdout",
     "output_type": "stream",
     "text": [
      "[CV]  boosting_type=gbdt, colsample_bytree=0.8, learning_rate=0.1, max_bin=256, n_estimators=300, num_iterations=2000, num_leaves=680, reg_alpha=0, reg_lambda=0, subsample=1, subsample_freq=2, score=0.984, total= 1.4min\n",
      "[CV] boosting_type=gbdt, colsample_bytree=0.8, learning_rate=0.1, max_bin=256, n_estimators=300, num_iterations=2000, num_leaves=680, reg_alpha=0, reg_lambda=0, subsample=1, subsample_freq=2 \n"
     ]
    },
    {
     "name": "stderr",
     "output_type": "stream",
     "text": [
      "D:\\anaconda\\lib\\site-packages\\lightgbm\\engine.py:148: UserWarning: Found `num_iterations` in params. Will use it instead of argument\n",
      "  warnings.warn(\"Found `{}` in params. Will use it instead of argument\".format(alias))\n"
     ]
    },
    {
     "name": "stdout",
     "output_type": "stream",
     "text": [
      "[CV]  boosting_type=gbdt, colsample_bytree=0.8, learning_rate=0.1, max_bin=256, n_estimators=300, num_iterations=2000, num_leaves=680, reg_alpha=0, reg_lambda=0, subsample=1, subsample_freq=2, score=0.986, total= 1.6min\n",
      "[CV] boosting_type=gbdt, colsample_bytree=0.8, learning_rate=0.1, max_bin=256, n_estimators=300, num_iterations=2000, num_leaves=680, reg_alpha=0, reg_lambda=0, subsample=1, subsample_freq=2 \n"
     ]
    },
    {
     "name": "stderr",
     "output_type": "stream",
     "text": [
      "D:\\anaconda\\lib\\site-packages\\lightgbm\\engine.py:148: UserWarning: Found `num_iterations` in params. Will use it instead of argument\n",
      "  warnings.warn(\"Found `{}` in params. Will use it instead of argument\".format(alias))\n"
     ]
    },
    {
     "name": "stdout",
     "output_type": "stream",
     "text": [
      "[CV]  boosting_type=gbdt, colsample_bytree=0.8, learning_rate=0.1, max_bin=256, n_estimators=300, num_iterations=2000, num_leaves=680, reg_alpha=0, reg_lambda=0, subsample=1, subsample_freq=2, score=0.979, total= 1.4min\n",
      "[CV] boosting_type=gbdt, colsample_bytree=0.8, learning_rate=0.1, max_bin=256, n_estimators=300, num_iterations=2000, num_leaves=680, reg_alpha=0, reg_lambda=0, subsample=1, subsample_freq=2 \n"
     ]
    },
    {
     "name": "stderr",
     "output_type": "stream",
     "text": [
      "D:\\anaconda\\lib\\site-packages\\lightgbm\\engine.py:148: UserWarning: Found `num_iterations` in params. Will use it instead of argument\n",
      "  warnings.warn(\"Found `{}` in params. Will use it instead of argument\".format(alias))\n"
     ]
    },
    {
     "name": "stdout",
     "output_type": "stream",
     "text": [
      "[CV]  boosting_type=gbdt, colsample_bytree=0.8, learning_rate=0.1, max_bin=256, n_estimators=300, num_iterations=2000, num_leaves=680, reg_alpha=0, reg_lambda=0, subsample=1, subsample_freq=2, score=0.985, total= 1.4min\n",
      "[CV] boosting_type=gbdt, colsample_bytree=0.8, learning_rate=0.1, max_bin=256, n_estimators=300, num_iterations=2000, num_leaves=680, reg_alpha=0, reg_lambda=0, subsample=1, subsample_freq=3 \n"
     ]
    },
    {
     "name": "stderr",
     "output_type": "stream",
     "text": [
      "D:\\anaconda\\lib\\site-packages\\lightgbm\\engine.py:148: UserWarning: Found `num_iterations` in params. Will use it instead of argument\n",
      "  warnings.warn(\"Found `{}` in params. Will use it instead of argument\".format(alias))\n"
     ]
    },
    {
     "name": "stdout",
     "output_type": "stream",
     "text": [
      "[CV]  boosting_type=gbdt, colsample_bytree=0.8, learning_rate=0.1, max_bin=256, n_estimators=300, num_iterations=2000, num_leaves=680, reg_alpha=0, reg_lambda=0, subsample=1, subsample_freq=3, score=0.984, total= 1.2min\n",
      "[CV] boosting_type=gbdt, colsample_bytree=0.8, learning_rate=0.1, max_bin=256, n_estimators=300, num_iterations=2000, num_leaves=680, reg_alpha=0, reg_lambda=0, subsample=1, subsample_freq=3 \n"
     ]
    },
    {
     "name": "stderr",
     "output_type": "stream",
     "text": [
      "D:\\anaconda\\lib\\site-packages\\lightgbm\\engine.py:148: UserWarning: Found `num_iterations` in params. Will use it instead of argument\n",
      "  warnings.warn(\"Found `{}` in params. Will use it instead of argument\".format(alias))\n"
     ]
    },
    {
     "name": "stdout",
     "output_type": "stream",
     "text": [
      "[CV]  boosting_type=gbdt, colsample_bytree=0.8, learning_rate=0.1, max_bin=256, n_estimators=300, num_iterations=2000, num_leaves=680, reg_alpha=0, reg_lambda=0, subsample=1, subsample_freq=3, score=0.984, total= 1.2min\n",
      "[CV] boosting_type=gbdt, colsample_bytree=0.8, learning_rate=0.1, max_bin=256, n_estimators=300, num_iterations=2000, num_leaves=680, reg_alpha=0, reg_lambda=0, subsample=1, subsample_freq=3 \n"
     ]
    },
    {
     "name": "stderr",
     "output_type": "stream",
     "text": [
      "D:\\anaconda\\lib\\site-packages\\lightgbm\\engine.py:148: UserWarning: Found `num_iterations` in params. Will use it instead of argument\n",
      "  warnings.warn(\"Found `{}` in params. Will use it instead of argument\".format(alias))\n"
     ]
    },
    {
     "name": "stdout",
     "output_type": "stream",
     "text": [
      "[CV]  boosting_type=gbdt, colsample_bytree=0.8, learning_rate=0.1, max_bin=256, n_estimators=300, num_iterations=2000, num_leaves=680, reg_alpha=0, reg_lambda=0, subsample=1, subsample_freq=3, score=0.986, total= 1.3min\n",
      "[CV] boosting_type=gbdt, colsample_bytree=0.8, learning_rate=0.1, max_bin=256, n_estimators=300, num_iterations=2000, num_leaves=680, reg_alpha=0, reg_lambda=0, subsample=1, subsample_freq=3 \n"
     ]
    },
    {
     "name": "stderr",
     "output_type": "stream",
     "text": [
      "D:\\anaconda\\lib\\site-packages\\lightgbm\\engine.py:148: UserWarning: Found `num_iterations` in params. Will use it instead of argument\n",
      "  warnings.warn(\"Found `{}` in params. Will use it instead of argument\".format(alias))\n"
     ]
    },
    {
     "name": "stdout",
     "output_type": "stream",
     "text": [
      "[CV]  boosting_type=gbdt, colsample_bytree=0.8, learning_rate=0.1, max_bin=256, n_estimators=300, num_iterations=2000, num_leaves=680, reg_alpha=0, reg_lambda=0, subsample=1, subsample_freq=3, score=0.979, total= 1.5min\n",
      "[CV] boosting_type=gbdt, colsample_bytree=0.8, learning_rate=0.1, max_bin=256, n_estimators=300, num_iterations=2000, num_leaves=680, reg_alpha=0, reg_lambda=0, subsample=1, subsample_freq=3 \n"
     ]
    },
    {
     "name": "stderr",
     "output_type": "stream",
     "text": [
      "D:\\anaconda\\lib\\site-packages\\lightgbm\\engine.py:148: UserWarning: Found `num_iterations` in params. Will use it instead of argument\n",
      "  warnings.warn(\"Found `{}` in params. Will use it instead of argument\".format(alias))\n"
     ]
    },
    {
     "name": "stdout",
     "output_type": "stream",
     "text": [
      "[CV]  boosting_type=gbdt, colsample_bytree=0.8, learning_rate=0.1, max_bin=256, n_estimators=300, num_iterations=2000, num_leaves=680, reg_alpha=0, reg_lambda=0, subsample=1, subsample_freq=3, score=0.985, total= 1.5min\n",
      "[CV] boosting_type=gbdt, colsample_bytree=0.8, learning_rate=0.1, max_bin=256, n_estimators=300, num_iterations=2000, num_leaves=680, reg_alpha=0, reg_lambda=0.1, subsample=0.6, subsample_freq=1 \n"
     ]
    },
    {
     "name": "stderr",
     "output_type": "stream",
     "text": [
      "D:\\anaconda\\lib\\site-packages\\lightgbm\\engine.py:148: UserWarning: Found `num_iterations` in params. Will use it instead of argument\n",
      "  warnings.warn(\"Found `{}` in params. Will use it instead of argument\".format(alias))\n"
     ]
    },
    {
     "name": "stdout",
     "output_type": "stream",
     "text": [
      "[CV]  boosting_type=gbdt, colsample_bytree=0.8, learning_rate=0.1, max_bin=256, n_estimators=300, num_iterations=2000, num_leaves=680, reg_alpha=0, reg_lambda=0.1, subsample=0.6, subsample_freq=1, score=0.983, total= 1.4min\n",
      "[CV] boosting_type=gbdt, colsample_bytree=0.8, learning_rate=0.1, max_bin=256, n_estimators=300, num_iterations=2000, num_leaves=680, reg_alpha=0, reg_lambda=0.1, subsample=0.6, subsample_freq=1 \n"
     ]
    },
    {
     "name": "stderr",
     "output_type": "stream",
     "text": [
      "D:\\anaconda\\lib\\site-packages\\lightgbm\\engine.py:148: UserWarning: Found `num_iterations` in params. Will use it instead of argument\n",
      "  warnings.warn(\"Found `{}` in params. Will use it instead of argument\".format(alias))\n"
     ]
    },
    {
     "name": "stdout",
     "output_type": "stream",
     "text": [
      "[CV]  boosting_type=gbdt, colsample_bytree=0.8, learning_rate=0.1, max_bin=256, n_estimators=300, num_iterations=2000, num_leaves=680, reg_alpha=0, reg_lambda=0.1, subsample=0.6, subsample_freq=1, score=0.983, total= 1.4min\n",
      "[CV] boosting_type=gbdt, colsample_bytree=0.8, learning_rate=0.1, max_bin=256, n_estimators=300, num_iterations=2000, num_leaves=680, reg_alpha=0, reg_lambda=0.1, subsample=0.6, subsample_freq=1 \n"
     ]
    },
    {
     "name": "stderr",
     "output_type": "stream",
     "text": [
      "D:\\anaconda\\lib\\site-packages\\lightgbm\\engine.py:148: UserWarning: Found `num_iterations` in params. Will use it instead of argument\n",
      "  warnings.warn(\"Found `{}` in params. Will use it instead of argument\".format(alias))\n"
     ]
    },
    {
     "name": "stdout",
     "output_type": "stream",
     "text": [
      "[CV]  boosting_type=gbdt, colsample_bytree=0.8, learning_rate=0.1, max_bin=256, n_estimators=300, num_iterations=2000, num_leaves=680, reg_alpha=0, reg_lambda=0.1, subsample=0.6, subsample_freq=1, score=0.985, total= 1.3min\n",
      "[CV] boosting_type=gbdt, colsample_bytree=0.8, learning_rate=0.1, max_bin=256, n_estimators=300, num_iterations=2000, num_leaves=680, reg_alpha=0, reg_lambda=0.1, subsample=0.6, subsample_freq=1 \n"
     ]
    },
    {
     "name": "stderr",
     "output_type": "stream",
     "text": [
      "D:\\anaconda\\lib\\site-packages\\lightgbm\\engine.py:148: UserWarning: Found `num_iterations` in params. Will use it instead of argument\n",
      "  warnings.warn(\"Found `{}` in params. Will use it instead of argument\".format(alias))\n"
     ]
    }
   ],
   "source": [
    "[data,T] = ReadData()\n",
    "\n",
    "# for i in \n",
    "for batch in range(cv):\n",
    "    if mi_use==True:\n",
    "        arr = ToMatrix(data,'sparse')\n",
    "        [X_train,X_test,Y_train,Y_test] = MutualInformationFeatureSelection2(arr,data,generalize_ratio)\n",
    "        [X_train,X_test,Y_train,Y_test] = \\\n",
    "            RandomForestDimensionalityReduction(X_train,X_test,Y_train,Y_test)\n",
    "    else:\n",
    "        [X,Y] = ToMatrix(data,'dense')\n",
    "        [X_train,X_test,Y_train,Y_test] = SplitDataset(X,Y,generalize_ratio)\n",
    "        [X_train,X_test,Y_train,Y_test] = \\\n",
    "            RandomForestDimensionalityReduction(X_train,X_test,Y_train,Y_test)\n",
    "    if tuning_mode:\n",
    "        [Xtrain,Ytrain] = merge_train_test(X_train,X_test,Y_train,Y_test)\n",
    "        grid = LGBTuning(Xtrain,Ytrain)\n",
    "        cv_results.append(grid)\n",
    "\n",
    "joblib.dump(grid,'./2-19-lgb-grid-tune4.m')"
   ]
  },
  {
   "cell_type": "markdown",
   "metadata": {},
   "source": [
    "#### test"
   ]
  },
  {
   "cell_type": "code",
   "execution_count": null,
   "metadata": {
    "slideshow": {
     "slide_type": "-"
    }
   },
   "outputs": [],
   "source": [
    "# DecisionTreePrefit(X_train,X_test,Y_train,Y_test)\n",
    "[lgb,cv_results] = LGBFit(X_train,X_test,Y_train,Y_test)\n",
    "WriteResult(DATASET,cv_results,conf,commons)"
   ]
  },
  {
   "cell_type": "markdown",
   "metadata": {},
   "source": [
    "#### tuning"
   ]
  },
  {
   "cell_type": "code",
   "execution_count": null,
   "metadata": {},
   "outputs": [],
   "source": [
    "clf1 = LGBTuningSingle(X_train,X_test,Y_train,Y_test)"
   ]
  },
  {
   "cell_type": "code",
   "execution_count": null,
   "metadata": {
    "scrolled": true
   },
   "outputs": [],
   "source": [
    "clf2 = LGBTuning(X_train,X_test,Y_train,Y_test)"
   ]
  },
  {
   "cell_type": "code",
   "execution_count": null,
   "metadata": {},
   "outputs": [],
   "source": [
    "a = np.vstack([np.array(params),np.array(rank),np.array(score)])\n",
    "\n",
    "a = a.T\n",
    "\n",
    "a = np.array( list(sorted(a,key=lambda x:x[2],reverse=True)) )\n",
    "\n",
    "a"
   ]
  },
  {
   "cell_type": "code",
   "execution_count": 32,
   "metadata": {},
   "outputs": [
    {
     "data": {
      "text/plain": [
       "['mean_fit_time',\n",
       " 'std_fit_time',\n",
       " 'mean_score_time',\n",
       " 'std_score_time',\n",
       " 'param_boosting_type',\n",
       " 'param_learning_rate',\n",
       " 'param_n_estimators',\n",
       " 'param_num_iterations',\n",
       " 'params',\n",
       " 'split0_test_score',\n",
       " 'split1_test_score',\n",
       " 'split2_test_score',\n",
       " 'split3_test_score',\n",
       " 'split4_test_score',\n",
       " 'mean_test_score',\n",
       " 'std_test_score',\n",
       " 'rank_test_score']"
      ]
     },
     "execution_count": 32,
     "metadata": {},
     "output_type": "execute_result"
    }
   ],
   "source": [
    "list(grid.cv_results_.keys())"
   ]
  },
  {
   "cell_type": "code",
   "execution_count": 14,
   "metadata": {
    "scrolled": true
   },
   "outputs": [
    {
     "data": {
      "image/png": "[encoded data removed]",
      "text/plain": [
       "<Figure size 432x288 with 1 Axes>"
      ]
     },
     "metadata": {
      "needs_background": "light"
     },
     "output_type": "display_data"
    },
    {
     "data": {
      "text/plain": [
       "array([[0.9842239838679444,\n",
       "        {'boosting_type': 'gbdt', 'colsample_bytree': 0.8, 'learning_rate': 0.1, 'max_bin': 256, 'max_depth': 10, 'n_estimators': 300, 'num_iterations': 2000, 'num_leaves': 680}],\n",
       "       [0.9842239838679444,\n",
       "        {'boosting_type': 'gbdt', 'colsample_bytree': 0.8, 'learning_rate': 0.1, 'max_bin': 256, 'max_depth': 10, 'n_estimators': 300, 'num_iterations': 2000, 'num_leaves': 800}],\n",
       "       [0.9842239838679444,\n",
       "        {'boosting_type': 'gbdt', 'colsample_bytree': 0.8, 'learning_rate': 0.1, 'max_bin': 256, 'max_depth': 10, 'n_estimators': 300, 'num_iterations': 2000, 'num_leaves': 900}],\n",
       "       [0.9842239838679444,\n",
       "        {'boosting_type': 'gbdt', 'colsample_bytree': 0.8, 'learning_rate': 0.1, 'max_bin': 256, 'max_depth': 10, 'n_estimators': 300, 'num_iterations': 2000, 'num_leaves': 1000}],\n",
       "       [0.9840067524823375,\n",
       "        {'boosting_type': 'gbdt', 'colsample_bytree': 0.8, 'learning_rate': 0.1, 'max_bin': 256, 'max_depth': 9, 'n_estimators': 300, 'num_iterations': 2000, 'num_leaves': 680}],\n",
       "       [0.9840067524823375,\n",
       "        {'boosting_type': 'gbdt', 'colsample_bytree': 0.8, 'learning_rate': 0.1, 'max_bin': 256, 'max_depth': 9, 'n_estimators': 300, 'num_iterations': 2000, 'num_leaves': 800}],\n",
       "       [0.9840067524823375,\n",
       "        {'boosting_type': 'gbdt', 'colsample_bytree': 0.8, 'learning_rate': 0.1, 'max_bin': 256, 'max_depth': 9, 'n_estimators': 300, 'num_iterations': 2000, 'num_leaves': 900}],\n",
       "       [0.9840067524823375,\n",
       "        {'boosting_type': 'gbdt', 'colsample_bytree': 0.8, 'learning_rate': 0.1, 'max_bin': 256, 'max_depth': 9, 'n_estimators': 300, 'num_iterations': 2000, 'num_leaves': 1000}],\n",
       "       [0.9839678076290214,\n",
       "        {'boosting_type': 'gbdt', 'colsample_bytree': 0.8, 'learning_rate': 0.1, 'max_bin': 256, 'max_depth': 8, 'n_estimators': 300, 'num_iterations': 2000, 'num_leaves': 680}],\n",
       "       [0.9839678076290214,\n",
       "        {'boosting_type': 'gbdt', 'colsample_bytree': 0.8, 'learning_rate': 0.1, 'max_bin': 256, 'max_depth': 8, 'n_estimators': 300, 'num_iterations': 2000, 'num_leaves': 800}],\n",
       "       [0.9839678076290214,\n",
       "        {'boosting_type': 'gbdt', 'colsample_bytree': 0.8, 'learning_rate': 0.1, 'max_bin': 256, 'max_depth': 8, 'n_estimators': 300, 'num_iterations': 2000, 'num_leaves': 900}],\n",
       "       [0.9839678076290214,\n",
       "        {'boosting_type': 'gbdt', 'colsample_bytree': 0.8, 'learning_rate': 0.1, 'max_bin': 256, 'max_depth': 8, 'n_estimators': 300, 'num_iterations': 2000, 'num_leaves': 1000}],\n",
       "       [0.9837566186542887,\n",
       "        {'boosting_type': 'gbdt', 'colsample_bytree': 0.8, 'learning_rate': 0.1, 'max_bin': 256, 'max_depth': 7, 'n_estimators': 300, 'num_iterations': 2000, 'num_leaves': 680}],\n",
       "       [0.9837566186542887,\n",
       "        {'boosting_type': 'gbdt', 'colsample_bytree': 0.8, 'learning_rate': 0.1, 'max_bin': 256, 'max_depth': 7, 'n_estimators': 300, 'num_iterations': 2000, 'num_leaves': 800}],\n",
       "       [0.9837566186542887,\n",
       "        {'boosting_type': 'gbdt', 'colsample_bytree': 0.8, 'learning_rate': 0.1, 'max_bin': 256, 'max_depth': 7, 'n_estimators': 300, 'num_iterations': 2000, 'num_leaves': 900}],\n",
       "       [0.9837566186542887,\n",
       "        {'boosting_type': 'gbdt', 'colsample_bytree': 0.8, 'learning_rate': 0.1, 'max_bin': 256, 'max_depth': 7, 'n_estimators': 300, 'num_iterations': 2000, 'num_leaves': 1000}]],\n",
       "      dtype=object)"
      ]
     },
     "execution_count": 14,
     "metadata": {},
     "output_type": "execute_result"
    }
   ],
   "source": [
    "sns.distplot(grid.cv_results_['mean_test_score'],rug=True,bins=10)\n",
    "plt.show()\n",
    "param_rank = np.array([grid.cv_results_['mean_test_score'],grid.cv_results_['params']]).T\n",
    "a = sorted(param_rank,key=lambda x:x[0],reverse=True)\n",
    "a = np.array(list(a))\n",
    "\n",
    "a"
   ]
  },
  {
   "cell_type": "code",
   "execution_count": null,
   "metadata": {},
   "outputs": [],
   "source": []
  }
 ],
 "metadata": {
  "kernelspec": {
   "display_name": "Python 3",
   "language": "python",
   "name": "python3"
  },
  "language_info": {
   "codemirror_mode": {
    "name": "ipython",
    "version": 3
   },
   "file_extension": ".py",
   "mimetype": "text/x-python",
   "name": "python",
   "nbconvert_exporter": "python",
   "pygments_lexer": "ipython3",
   "version": "3.7.4"
  }
 },
 "nbformat": 4,
 "nbformat_minor": 4
}

{
 "cells": [
  {
   "cell_type": "code",
   "execution_count": 13,
   "metadata": {},
   "outputs": [],
   "source": [
    "import numpy as np\n",
    "import scipy as sp\n",
    "import os\n",
    "import sys\n",
    "sys.path.append('..')\n",
    "from module.module import *\n",
    "from module.process import *"
   ]
  },
  {
   "cell_type": "code",
   "execution_count": 3,
   "metadata": {},
   "outputs": [],
   "source": [
    "DATA_ROOT = 'D:/MYPROJECT/RPITER/data/'\n",
    "DATA_SET = 'RPI488'"
   ]
  },
  {
   "cell_type": "code",
   "execution_count": 4,
   "metadata": {},
   "outputs": [],
   "source": [
    "path = os.path.join(DATA_ROOT,DATA_SET+'_pairs.txt')"
   ]
  },
  {
   "cell_type": "code",
   "execution_count": 6,
   "metadata": {},
   "outputs": [],
   "source": [
    "### read pair data of one dataset\n",
    "with open(path,'r+') as f:\n",
    "    text = f.read()\n",
    "    content = text.split('\\n')\n",
    "    res = set()\n",
    "    for line in content:\n",
    "        items = line.split('\\t')\n",
    "        if len(items)>=2:\n",
    "            res.add(items[0])\n",
    "            res.add(items[1])\n",
    "    res = list(res)"
   ]
  },
  {
   "cell_type": "code",
   "execution_count": 30,
   "metadata": {},
   "outputs": [],
   "source": [
    "def OutputToFile(*args):\n",
    "    def wrapper(f):\n",
    "        print('wrapper',args)\n",
    "        def decorator(*d_args):\n",
    "            print('decorator',d_args)\n",
    "            f(d_args)\n",
    "            return\n",
    "        return decorator\n",
    "    return wrapper"
   ]
  },
  {
   "cell_type": "code",
   "execution_count": 33,
   "metadata": {},
   "outputs": [
    {
     "name": "stdout",
     "output_type": "stream",
     "text": [
      "wrapper (1, 2, 3)\n"
     ]
    }
   ],
   "source": [
    "@OutputToFile(1,2,3)\n",
    "def test(*args):\n",
    "    print('test',args)\n",
    "    return"
   ]
  },
  {
   "cell_type": "code",
   "execution_count": 34,
   "metadata": {},
   "outputs": [
    {
     "name": "stdout",
     "output_type": "stream",
     "text": [
      "decorator (123,)\n",
      "test ((123,),)\n"
     ]
    }
   ],
   "source": [
    "test(123)"
   ]
  }
 ],
 "metadata": {
  "kernelspec": {
   "display_name": "Python 3",
   "language": "python",
   "name": "python3"
  },
  "language_info": {
   "codemirror_mode": {
    "name": "ipython",
    "version": 3
   },
   "file_extension": ".py",
   "mimetype": "text/x-python",
   "name": "python",
   "nbconvert_exporter": "python",
   "pygments_lexer": "ipython3",
   "version": "3.7.3"
  }
 },
 "nbformat": 4,
 "nbformat_minor": 2
}

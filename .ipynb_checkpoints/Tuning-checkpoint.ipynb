{
 "cells": [
  {
   "cell_type": "code",
   "execution_count": 1,
   "metadata": {},
   "outputs": [
    {
     "name": "stderr",
     "output_type": "stream",
     "text": [
      "D:\\anaconda\\lib\\site-packages\\sklearn\\externals\\joblib\\__init__.py:15: FutureWarning: sklearn.externals.joblib is deprecated in 0.21 and will be removed in 0.23. Please import this functionality directly from joblib, which can be installed with: pip install joblib. If this warning is raised when loading pickled models, you may need to re-serialize those models with scikit-learn 0.21+.\n",
      "  warnings.warn(msg, category=FutureWarning)\n"
     ]
    }
   ],
   "source": [
    "from module.prepare import *\n",
    "from itertools import product\n",
    "from sklearn.externals import joblib\n",
    "from sklearn import metrics\n",
    "from sklearn.model_selection import ParameterGrid\n",
    "\n",
    "import gc\n",
    "import os\n",
    "import re\n",
    "import math\n",
    "import sys\n",
    "from collections import Counter\n",
    "import random\n",
    "from itertools import islice\n",
    "import time\n",
    "import configparser\n",
    "import json\n",
    "import datetime\n",
    "\n",
    "import seaborn as sns\n",
    "import matplotlib.pyplot as plt\n",
    "import bokeh\n",
    "\n",
    "import numpy as np\n",
    "import pandas as pd\n",
    "from scipy.sparse import csr_matrix\n",
    "import scipy as sp\n",
    "from scipy import stats\n",
    "\n",
    "import sklearn\n",
    "from joblib import dump, load\n",
    "from sklearn.decomposition import *\n",
    "from sklearn.feature_selection import *\n",
    "from sklearn.ensemble import *\n",
    "from sklearn.model_selection import *\n",
    "from sklearn.linear_model import *\n",
    "from sklearn.manifold import *\n",
    "import sklearn.tree as Tr \n",
    "\n",
    "import lightgbm as lgb\n",
    "\n",
    "from module.metrics import *"
   ]
  },
  {
   "cell_type": "code",
   "execution_count": 2,
   "metadata": {},
   "outputs": [],
   "source": [
    "def getCurrentTime():\n",
    "    return datetime.datetime.strftime(datetime.datetime.fromtimestamp(time.time()),format='%Y-%m-%d-%H-%M-%S')\n",
    "\n",
    "\n",
    "def LGBTuning(Xtrain,Xtest,Ytrain,Ytest,new_params=None):\n",
    "    \n",
    "    clf = lgb.LGBMClassifier(objective='cross_entropy', ### {cross_entropy, binary}\n",
    "                             silent=False,\n",
    "                             verbose=1,\n",
    "                             random_state=seed,\n",
    "                             n_jobs=20,\n",
    "#                              class_weight\n",
    "                            )\n",
    "    \n",
    "    default_params = {\n",
    "    'learning_rate': [0.1], \n",
    "    'boosting_type':['gbdt'], \n",
    "    'n_estimators': [500],\n",
    "    'num_iterations':[1000],\n",
    "    'max_bin':[256]\n",
    "    }\n",
    "    \n",
    "    if new_params is not None:\n",
    "        default_params.update(new_params)\n",
    "    \n",
    "    arg_str = ''\n",
    "    for k,v in default_params.items():\n",
    "        if type(v[0])==str:\n",
    "            arg_str += k+'='+\"'\"+v[0]+\"',\"\n",
    "        else:\n",
    "            arg_str += k+'='+str(v[0])+\",\"\n",
    "    eval(\n",
    "        'clf.'+clf.set_params.__name__+\"(\"\n",
    "            +arg_str.rstrip(',')+\n",
    "            \")\"\n",
    "        )\n",
    "\n",
    "    print('DEBUG:: tuning params\\n',clf.get_params())\n",
    "    clf.fit(Xtrain,Ytrain)\n",
    "    Ypred = clf.predict(Xtest)\n",
    "    score_train = clf.score(Xtrain,Ytrain)\n",
    "    print('train score %f'%score_train)\n",
    "    \n",
    "    return [Ypred,Ytest,score_train,clf]"
   ]
  },
  {
   "cell_type": "code",
   "execution_count": 3,
   "metadata": {},
   "outputs": [],
   "source": [
    "cv = 5\n",
    "generalize_ratio = 1.0/cv\n",
    "test_ratio = 1.0/cv\n",
    "tuning_mode = False\n",
    "\n",
    "if tuning_mode:\n",
    "    cv = 1"
   ]
  },
  {
   "cell_type": "markdown",
   "metadata": {},
   "source": [
    "tuning 1"
   ]
  },
  {
   "cell_type": "code",
   "execution_count": 4,
   "metadata": {},
   "outputs": [],
   "source": [
    "def TuningParametersStage1(fname=getCurrentTime()+'-stage1.csv'):\n",
    "    res = []\n",
    "    for DATAID in [0,1,2,3,4,5]:\n",
    "        INFO('data id %d'%DATAID)\n",
    "        for RNA_K in range(3,7):\n",
    "            for PROTEIN_K in range(3,7):\n",
    "                for TOP_RATIO in np.linspace(0.93,0.99,5):\n",
    "                    start_time = time.time()\n",
    "                    [data,T] = ReadData(DATAID,PROTEIN_K,RNA_K)\n",
    "                    [X,Y] = ToMatrix(data,'dense')\n",
    "                    [X_train,X_test,Y_train,Y_test] = SplitDataset(X,Y,generalize_ratio)\n",
    "                    [X_train,X_test,Y_train,Y_test] = \\\n",
    "                                RandomForestDimensionalityReduction(X_train,X_test,Y_train,Y_test,topRatio=TOP_RATIO)\n",
    "                    r = LGBTuning(X_train,X_test,Y_train,Y_test)\n",
    "                    r = {\n",
    "                        'DATAID': DATAID,\n",
    "                        'test_score':scoreFunction(r[0],r[1]),\n",
    "                        'train_score':r[2],\n",
    "                        'RNA_K':RNA_K,\n",
    "                        'PROTEIN_K':PROTEIN_K,\n",
    "                        'TOP_RATIO':TOP_RATIO\n",
    "                    }\n",
    "                    print('DEBUG:: result ',r)\n",
    "                    res.append(r)\n",
    "                    end_time = time.time()\n",
    "                    print('DEBUG:: time elapsed ',(end_time-start_time)/60)\n",
    "    df = pd.DataFrame(data=res,columns=['DATAID','test_score','train_score','RNA_K','PROTEIN_K','TOP_RATIO'])\n",
    "    df.to_csv(os.path.join('./result',fname))\n",
    "    \n",
    "    return\n"
   ]
  },
  {
   "cell_type": "code",
   "execution_count": null,
   "metadata": {
    "scrolled": true
   },
   "outputs": [],
   "source": [
    "# TuningParametersStage1()"
   ]
  },
  {
   "cell_type": "code",
   "execution_count": 5,
   "metadata": {},
   "outputs": [],
   "source": [
    "import json\n",
    "import re\n",
    "\n",
    "\n",
    "params_1 = {\n",
    "    0:[(5,5,0.99)],\n",
    "    1:[(3,3,0.99)],\n",
    "    2:[(4,4,0.96)],\n",
    "    3:[(3,3,0.975)],\n",
    "    4:[(4,3,0.96)],\n",
    "    5:[(4,6,0.945)]\n",
    "}\n",
    "\n"
   ]
  },
  {
   "cell_type": "markdown",
   "metadata": {},
   "source": [
    "stage 2"
   ]
  },
  {
   "cell_type": "code",
   "execution_count": 6,
   "metadata": {},
   "outputs": [],
   "source": [
    "fname_result2 = './result'+getCurrentTime()+'-stage2.csv'\n",
    "\n",
    "tune_grid = [\n",
    "    [{\n",
    "#         'learning_rate': [0.1], ### 0.1\n",
    "#         'boosting_type':['gbdt'], ### goss>gbdt\n",
    "#         'n_estimators': [500],\n",
    "#         'num_iterations':[2000], ### 2000\n",
    "# #         'max_depth': [7,8,9], ### <400<675\n",
    "#         'max_bin':[256],\n",
    "# #         'colsample_bytree' : [0.75,0.8,0.85], ### 0.75\n",
    "# # #         'subsample_freq':[0.9,0.95,1], ### 1\n",
    "# # #         'lambda_l1': [1e-3,0]\n",
    "    }],\n",
    "    [{\n",
    "#         'learning_rate': [0.01], ### 0.1\n",
    "#         'boosting_type':['gbdt'], ### goss>gbdt\n",
    "#         'n_estimators': [500],\n",
    "#         'num_iterations':[2000], ### 2000\n",
    "# # #         'max_depth': [50,85,120,150], ### <400<675\n",
    "#         'max_bin':[256],\n",
    "# #         'colsample_bytree' : [0.95,0.97,1], ### 0.75\n",
    "# # #         'subsample_freq':[0.9,0.95,1], ### 1\n",
    "# #         'lambda_l1': [1e-1,1e-2,1e-3,0]\n",
    "    }],\n",
    "    [{\n",
    "#         'learning_rate': [0.1], ### 0.1\n",
    "#         'boosting_type':['gbdt'], ### goss>gbdt\n",
    "#         'n_estimators': [500],\n",
    "#         'num_iterations':[1000], ### 2000\n",
    "# #         'num_leaves': [30,50,80,100], ### <400<675\n",
    "#         'max_bin':[256],\n",
    "# #         'colsample_bytree' : [0.5], ### 0.75\n",
    "# #         'subsample_freq': [0.9,0.95,1], ### 1\n",
    "# #         'lambda_l1': [1e-1]\n",
    "     }],\n",
    "    [{\n",
    "#         'learning_rate': [0.05], ### 0.1\n",
    "#         'boosting_type':['gbdt'], ### goss>gbdt\n",
    "#         'n_estimators': [500],\n",
    "#         'num_iterations':[1000], ### 2000\n",
    "# #         'num_leaves': [150,185,215,250], ### <400<675\n",
    "#         'max_bin':[256],\n",
    "#         'colsample_bytree' : [0.8], ### 0.75\n",
    "# #         'subsample_freq': [0.9,0.95,1], ### 1\n",
    "# #         'lambda_l1': [1e-1,1e-3,0]\n",
    "     }],\n",
    "    [{\n",
    "#         'learning_rate': [0.01], ### 0.1\n",
    "#         'boosting_type':['gbdt'], ### goss>gbdt\n",
    "#         'n_estimators': [500],\n",
    "#         'num_iterations':[2000], ### 2000\n",
    "# #         'num_leaves': [30,50,80,100], ### <400<675\n",
    "#         'max_bin':[256],\n",
    "# #         'colsample_bytree' : [0.5,0.6,0.7,0.8,0.95], ### 0.75\n",
    "# # #         'subsample_freq': [0.9,0.95,1], ### 1\n",
    "# # #         'lambda_l1': [1e-3,0]\n",
    "     }],\n",
    "    [{\n",
    "#         'learning_rate': [0.1], ### 0.1\n",
    "#         'boosting_type':['gbdt'], ### goss>gbdt\n",
    "#         'n_estimators': [500],\n",
    "#         'num_iterations':[1000], ### 2000\n",
    "# # #         'num_leaves': [30,50,80,100], ### <400<675\n",
    "#         'max_bin':[256],\n",
    "# #         'colsample_bytree' : [0.9,0.95,0.98,1], ### 0.75\n",
    "# # #         'subsample_freq': [0.9,1], ### 1\n",
    "# # #         'lambda_l1': [1e-3,0]\n",
    "     }]\n",
    "]\n",
    "\n",
    "tune_grid = list(map(lambda x:list(ParameterGrid(x)),tune_grid))\n"
   ]
  },
  {
   "cell_type": "code",
   "execution_count": 7,
   "metadata": {
    "scrolled": true
   },
   "outputs": [
    {
     "name": "stdout",
     "output_type": "stream",
     "text": [
      "INFO::dataid 0\n",
      "read data 5 5\n",
      "=============RETRIEVE TRIAN DATA=================\n",
      "# DEBUG: # DEBUG: **************new dl 0***************\n",
      "# DEBUG: READ SEQ FROM FILE\n",
      "# DEBUG: READ CLUSTER FROM FILE\n",
      "ERROR:: regex  \n",
      "ERROR:: regex  \n",
      "# DEBUG: READ PAIR FROM FILE\n",
      "read line error \n",
      "# DEBUG: GENERATE NEGATIVE PAIR\n",
      "# DEBUG: negative pair number 10411\n",
      "INFO::count of negative pairs10411\n",
      "# DEBUG: PAIR UNION\n",
      "# DEBUG: EXTRACT FEATURES--PROTEIN\n",
      "# DEBUG: EXTRACT FEATURES--RNA\n",
      "# DEBUG: K-MER CALCULATION\n",
      "# DEBUG: FEATURE UNION\n",
      "# DEBUG: GARBAGE COLLECTION\n",
      "MATRIX TRANSFORMATION\n",
      "DEBUG:: total features count  32068\n",
      "data shape 20822 32068\n",
      "INFO::tuning cv 0\n",
      "rf raw data fit score 1.000000\n",
      "INFO::dimension remained 31906 0.990000\n",
      "dimension remained 31906\n",
      "DEBUG:: tuning params\n",
      " {'boosting_type': 'gbdt', 'class_weight': None, 'colsample_bytree': 1.0, 'importance_type': 'split', 'learning_rate': 0.1, 'max_depth': -1, 'min_child_samples': 20, 'min_child_weight': 0.001, 'min_split_gain': 0.0, 'n_estimators': 500, 'n_jobs': 20, 'num_leaves': 31, 'objective': 'cross_entropy', 'random_state': 42, 'reg_alpha': 0.0, 'reg_lambda': 0.0, 'silent': False, 'subsample': 1.0, 'subsample_for_bin': 200000, 'subsample_freq': 0, 'verbose': 1, 'num_iterations': 2000, 'max_bin': 256}\n"
     ]
    },
    {
     "name": "stderr",
     "output_type": "stream",
     "text": [
      "D:\\anaconda\\lib\\site-packages\\lightgbm\\engine.py:148: UserWarning: Found `num_iterations` in params. Will use it instead of argument\n",
      "  warnings.warn(\"Found `{}` in params. Will use it instead of argument\".format(alias))\n"
     ]
    },
    {
     "name": "stdout",
     "output_type": "stream",
     "text": [
      "train score 1.000000\n",
      "INFO::tuning cv 1\n",
      "rf raw data fit score 1.000000\n",
      "INFO::dimension remained 31906 0.990000\n",
      "dimension remained 31906\n",
      "DEBUG:: tuning params\n",
      " {'boosting_type': 'gbdt', 'class_weight': None, 'colsample_bytree': 1.0, 'importance_type': 'split', 'learning_rate': 0.1, 'max_depth': -1, 'min_child_samples': 20, 'min_child_weight': 0.001, 'min_split_gain': 0.0, 'n_estimators': 500, 'n_jobs': 20, 'num_leaves': 31, 'objective': 'cross_entropy', 'random_state': 42, 'reg_alpha': 0.0, 'reg_lambda': 0.0, 'silent': False, 'subsample': 1.0, 'subsample_for_bin': 200000, 'subsample_freq': 0, 'verbose': 1, 'num_iterations': 2000, 'max_bin': 256}\n"
     ]
    },
    {
     "name": "stderr",
     "output_type": "stream",
     "text": [
      "D:\\anaconda\\lib\\site-packages\\lightgbm\\engine.py:148: UserWarning: Found `num_iterations` in params. Will use it instead of argument\n",
      "  warnings.warn(\"Found `{}` in params. Will use it instead of argument\".format(alias))\n"
     ]
    },
    {
     "name": "stdout",
     "output_type": "stream",
     "text": [
      "train score 1.000000\n",
      "INFO::tuning cv 2\n",
      "rf raw data fit score 1.000000\n",
      "INFO::dimension remained 31906 0.990000\n",
      "dimension remained 31906\n",
      "DEBUG:: tuning params\n",
      " {'boosting_type': 'gbdt', 'class_weight': None, 'colsample_bytree': 1.0, 'importance_type': 'split', 'learning_rate': 0.1, 'max_depth': -1, 'min_child_samples': 20, 'min_child_weight': 0.001, 'min_split_gain': 0.0, 'n_estimators': 500, 'n_jobs': 20, 'num_leaves': 31, 'objective': 'cross_entropy', 'random_state': 42, 'reg_alpha': 0.0, 'reg_lambda': 0.0, 'silent': False, 'subsample': 1.0, 'subsample_for_bin': 200000, 'subsample_freq': 0, 'verbose': 1, 'num_iterations': 2000, 'max_bin': 256}\n"
     ]
    },
    {
     "name": "stderr",
     "output_type": "stream",
     "text": [
      "D:\\anaconda\\lib\\site-packages\\lightgbm\\engine.py:148: UserWarning: Found `num_iterations` in params. Will use it instead of argument\n",
      "  warnings.warn(\"Found `{}` in params. Will use it instead of argument\".format(alias))\n"
     ]
    },
    {
     "name": "stdout",
     "output_type": "stream",
     "text": [
      "train score 1.000000\n",
      "INFO::tuning cv 3\n",
      "rf raw data fit score 1.000000\n",
      "INFO::dimension remained 31906 0.990000\n",
      "dimension remained 31906\n",
      "DEBUG:: tuning params\n",
      " {'boosting_type': 'gbdt', 'class_weight': None, 'colsample_bytree': 1.0, 'importance_type': 'split', 'learning_rate': 0.1, 'max_depth': -1, 'min_child_samples': 20, 'min_child_weight': 0.001, 'min_split_gain': 0.0, 'n_estimators': 500, 'n_jobs': 20, 'num_leaves': 31, 'objective': 'cross_entropy', 'random_state': 42, 'reg_alpha': 0.0, 'reg_lambda': 0.0, 'silent': False, 'subsample': 1.0, 'subsample_for_bin': 200000, 'subsample_freq': 0, 'verbose': 1, 'num_iterations': 2000, 'max_bin': 256}\n"
     ]
    },
    {
     "name": "stderr",
     "output_type": "stream",
     "text": [
      "D:\\anaconda\\lib\\site-packages\\lightgbm\\engine.py:148: UserWarning: Found `num_iterations` in params. Will use it instead of argument\n",
      "  warnings.warn(\"Found `{}` in params. Will use it instead of argument\".format(alias))\n"
     ]
    },
    {
     "name": "stdout",
     "output_type": "stream",
     "text": [
      "train score 1.000000\n",
      "INFO::tuning cv 4\n",
      "rf raw data fit score 1.000000\n",
      "INFO::dimension remained 31906 0.990000\n",
      "dimension remained 31906\n",
      "DEBUG:: tuning params\n",
      " {'boosting_type': 'gbdt', 'class_weight': None, 'colsample_bytree': 1.0, 'importance_type': 'split', 'learning_rate': 0.1, 'max_depth': -1, 'min_child_samples': 20, 'min_child_weight': 0.001, 'min_split_gain': 0.0, 'n_estimators': 500, 'n_jobs': 20, 'num_leaves': 31, 'objective': 'cross_entropy', 'random_state': 42, 'reg_alpha': 0.0, 'reg_lambda': 0.0, 'silent': False, 'subsample': 1.0, 'subsample_for_bin': 200000, 'subsample_freq': 0, 'verbose': 1, 'num_iterations': 2000, 'max_bin': 256}\n"
     ]
    },
    {
     "name": "stderr",
     "output_type": "stream",
     "text": [
      "D:\\anaconda\\lib\\site-packages\\lightgbm\\engine.py:148: UserWarning: Found `num_iterations` in params. Will use it instead of argument\n",
      "  warnings.warn(\"Found `{}` in params. Will use it instead of argument\".format(alias))\n"
     ]
    },
    {
     "name": "stdout",
     "output_type": "stream",
     "text": [
      "train score 1.000000\n",
      "DEBUG:: time elapsed  42.321741088231406\n",
      "INFO::dataid 1\n",
      "read data 3 3\n",
      "=============RETRIEVE TRIAN DATA=================\n",
      "# DEBUG: # DEBUG: **************new dl 1***************\n",
      "# DEBUG: READ SEQ FROM FILE\n",
      "# DEBUG: READ CLUSTER FROM FILE\n",
      "ERROR:: regex  \n",
      "ERROR:: regex  \n",
      "# DEBUG: READ PAIR FROM FILE\n",
      "# DEBUG: GENERATE NEGATIVE PAIR\n",
      "# DEBUG: negative pair number 2825\n",
      "INFO::count of negative pairs2825\n",
      "# DEBUG: PAIR UNION\n",
      "# DEBUG: EXTRACT FEATURES--PROTEIN\n",
      "# DEBUG: EXTRACT FEATURES--RNA\n",
      "# DEBUG: K-MER CALCULATION\n",
      "# DEBUG: FEATURE UNION\n",
      "# DEBUG: GARBAGE COLLECTION\n",
      "MATRIX TRANSFORMATION\n",
      "DEBUG:: total features count  2346\n",
      "data shape 5650 2346\n",
      "INFO::tuning cv 0\n",
      "rf raw data fit score 1.000000\n",
      "INFO::dimension remained 2334 0.990000\n",
      "dimension remained 2334\n",
      "DEBUG:: tuning params\n",
      " {'boosting_type': 'gbdt', 'class_weight': None, 'colsample_bytree': 1.0, 'importance_type': 'split', 'learning_rate': 0.01, 'max_depth': -1, 'min_child_samples': 20, 'min_child_weight': 0.001, 'min_split_gain': 0.0, 'n_estimators': 500, 'n_jobs': 20, 'num_leaves': 31, 'objective': 'cross_entropy', 'random_state': 42, 'reg_alpha': 0.0, 'reg_lambda': 0.0, 'silent': False, 'subsample': 1.0, 'subsample_for_bin': 200000, 'subsample_freq': 0, 'verbose': 1, 'num_iterations': 2000, 'max_bin': 256}\n"
     ]
    },
    {
     "name": "stderr",
     "output_type": "stream",
     "text": [
      "D:\\anaconda\\lib\\site-packages\\lightgbm\\engine.py:148: UserWarning: Found `num_iterations` in params. Will use it instead of argument\n",
      "  warnings.warn(\"Found `{}` in params. Will use it instead of argument\".format(alias))\n"
     ]
    },
    {
     "name": "stdout",
     "output_type": "stream",
     "text": [
      "train score 0.999115\n",
      "INFO::tuning cv 1\n",
      "rf raw data fit score 1.000000\n",
      "INFO::dimension remained 2334 0.990000\n",
      "dimension remained 2334\n",
      "DEBUG:: tuning params\n",
      " {'boosting_type': 'gbdt', 'class_weight': None, 'colsample_bytree': 1.0, 'importance_type': 'split', 'learning_rate': 0.01, 'max_depth': -1, 'min_child_samples': 20, 'min_child_weight': 0.001, 'min_split_gain': 0.0, 'n_estimators': 500, 'n_jobs': 20, 'num_leaves': 31, 'objective': 'cross_entropy', 'random_state': 42, 'reg_alpha': 0.0, 'reg_lambda': 0.0, 'silent': False, 'subsample': 1.0, 'subsample_for_bin': 200000, 'subsample_freq': 0, 'verbose': 1, 'num_iterations': 2000, 'max_bin': 256}\n"
     ]
    },
    {
     "name": "stderr",
     "output_type": "stream",
     "text": [
      "D:\\anaconda\\lib\\site-packages\\lightgbm\\engine.py:148: UserWarning: Found `num_iterations` in params. Will use it instead of argument\n",
      "  warnings.warn(\"Found `{}` in params. Will use it instead of argument\".format(alias))\n"
     ]
    },
    {
     "name": "stdout",
     "output_type": "stream",
     "text": [
      "train score 0.998230\n",
      "INFO::tuning cv 2\n",
      "rf raw data fit score 1.000000\n",
      "INFO::dimension remained 2334 0.990000\n",
      "dimension remained 2334\n",
      "DEBUG:: tuning params\n",
      " {'boosting_type': 'gbdt', 'class_weight': None, 'colsample_bytree': 1.0, 'importance_type': 'split', 'learning_rate': 0.01, 'max_depth': -1, 'min_child_samples': 20, 'min_child_weight': 0.001, 'min_split_gain': 0.0, 'n_estimators': 500, 'n_jobs': 20, 'num_leaves': 31, 'objective': 'cross_entropy', 'random_state': 42, 'reg_alpha': 0.0, 'reg_lambda': 0.0, 'silent': False, 'subsample': 1.0, 'subsample_for_bin': 200000, 'subsample_freq': 0, 'verbose': 1, 'num_iterations': 2000, 'max_bin': 256}\n"
     ]
    },
    {
     "name": "stderr",
     "output_type": "stream",
     "text": [
      "D:\\anaconda\\lib\\site-packages\\lightgbm\\engine.py:148: UserWarning: Found `num_iterations` in params. Will use it instead of argument\n",
      "  warnings.warn(\"Found `{}` in params. Will use it instead of argument\".format(alias))\n"
     ]
    },
    {
     "name": "stdout",
     "output_type": "stream",
     "text": [
      "train score 0.998673\n",
      "INFO::tuning cv 3\n",
      "rf raw data fit score 1.000000\n",
      "INFO::dimension remained 2334 0.990000\n",
      "dimension remained 2334\n",
      "DEBUG:: tuning params\n",
      " {'boosting_type': 'gbdt', 'class_weight': None, 'colsample_bytree': 1.0, 'importance_type': 'split', 'learning_rate': 0.01, 'max_depth': -1, 'min_child_samples': 20, 'min_child_weight': 0.001, 'min_split_gain': 0.0, 'n_estimators': 500, 'n_jobs': 20, 'num_leaves': 31, 'objective': 'cross_entropy', 'random_state': 42, 'reg_alpha': 0.0, 'reg_lambda': 0.0, 'silent': False, 'subsample': 1.0, 'subsample_for_bin': 200000, 'subsample_freq': 0, 'verbose': 1, 'num_iterations': 2000, 'max_bin': 256}\n"
     ]
    },
    {
     "name": "stderr",
     "output_type": "stream",
     "text": [
      "D:\\anaconda\\lib\\site-packages\\lightgbm\\engine.py:148: UserWarning: Found `num_iterations` in params. Will use it instead of argument\n",
      "  warnings.warn(\"Found `{}` in params. Will use it instead of argument\".format(alias))\n"
     ]
    },
    {
     "name": "stdout",
     "output_type": "stream",
     "text": [
      "train score 0.998009\n",
      "INFO::tuning cv 4\n",
      "rf raw data fit score 1.000000\n",
      "INFO::dimension remained 2334 0.990000\n",
      "dimension remained 2334\n",
      "DEBUG:: tuning params\n",
      " {'boosting_type': 'gbdt', 'class_weight': None, 'colsample_bytree': 1.0, 'importance_type': 'split', 'learning_rate': 0.01, 'max_depth': -1, 'min_child_samples': 20, 'min_child_weight': 0.001, 'min_split_gain': 0.0, 'n_estimators': 500, 'n_jobs': 20, 'num_leaves': 31, 'objective': 'cross_entropy', 'random_state': 42, 'reg_alpha': 0.0, 'reg_lambda': 0.0, 'silent': False, 'subsample': 1.0, 'subsample_for_bin': 200000, 'subsample_freq': 0, 'verbose': 1, 'num_iterations': 2000, 'max_bin': 256}\n"
     ]
    },
    {
     "name": "stderr",
     "output_type": "stream",
     "text": [
      "D:\\anaconda\\lib\\site-packages\\lightgbm\\engine.py:148: UserWarning: Found `num_iterations` in params. Will use it instead of argument\n",
      "  warnings.warn(\"Found `{}` in params. Will use it instead of argument\".format(alias))\n"
     ]
    },
    {
     "name": "stdout",
     "output_type": "stream",
     "text": [
      "train score 0.999558\n",
      "DEBUG:: time elapsed  1.393391446272532\n",
      "INFO::dataid 2\n",
      "read data 4 4\n",
      "=============RETRIEVE TRIAN DATA=================\n",
      "# DEBUG: # DEBUG: **************new dl 2***************\n",
      "# DEBUG: READ SEQ FROM FILE\n",
      "# DEBUG: READ CLUSTER FROM FILE\n",
      "# DEBUG: READ PAIR FROM FILE\n",
      "read line error \n",
      "# DEBUG: GENERATE NEGATIVE PAIR\n",
      "# DEBUG: negative pair number 486\n",
      "# DEBUG: PAIR UNION\n",
      "# DEBUG: EXTRACT FEATURES--PROTEIN\n",
      "# DEBUG: EXTRACT FEATURES--RNA\n",
      "# DEBUG: K-MER CALCULATION\n",
      "# DEBUG: FEATURE UNION\n",
      "# DEBUG: GARBAGE COLLECTION\n",
      "MATRIX TRANSFORMATION\n",
      "DEBUG:: total features count  6284\n",
      "data shape 486 6284\n",
      "INFO::tuning cv 0\n",
      "rf raw data fit score 1.000000\n",
      "INFO::dimension remained 6161 0.960000\n",
      "dimension remained 6161\n",
      "DEBUG:: tuning params\n",
      " {'boosting_type': 'gbdt', 'class_weight': None, 'colsample_bytree': 1.0, 'importance_type': 'split', 'learning_rate': 0.1, 'max_depth': -1, 'min_child_samples': 20, 'min_child_weight': 0.001, 'min_split_gain': 0.0, 'n_estimators': 500, 'n_jobs': 20, 'num_leaves': 31, 'objective': 'cross_entropy', 'random_state': 42, 'reg_alpha': 0.0, 'reg_lambda': 0.0, 'silent': False, 'subsample': 1.0, 'subsample_for_bin': 200000, 'subsample_freq': 0, 'verbose': 1, 'num_iterations': 1000, 'max_bin': 256}\n"
     ]
    },
    {
     "name": "stderr",
     "output_type": "stream",
     "text": [
      "D:\\anaconda\\lib\\site-packages\\lightgbm\\engine.py:148: UserWarning: Found `num_iterations` in params. Will use it instead of argument\n",
      "  warnings.warn(\"Found `{}` in params. Will use it instead of argument\".format(alias))\n"
     ]
    },
    {
     "name": "stdout",
     "output_type": "stream",
     "text": [
      "train score 1.000000\n",
      "INFO::tuning cv 1\n",
      "rf raw data fit score 1.000000\n",
      "INFO::dimension remained 6160 0.960000\n",
      "dimension remained 6160\n",
      "DEBUG:: tuning params\n",
      " {'boosting_type': 'gbdt', 'class_weight': None, 'colsample_bytree': 1.0, 'importance_type': 'split', 'learning_rate': 0.1, 'max_depth': -1, 'min_child_samples': 20, 'min_child_weight': 0.001, 'min_split_gain': 0.0, 'n_estimators': 500, 'n_jobs': 20, 'num_leaves': 31, 'objective': 'cross_entropy', 'random_state': 42, 'reg_alpha': 0.0, 'reg_lambda': 0.0, 'silent': False, 'subsample': 1.0, 'subsample_for_bin': 200000, 'subsample_freq': 0, 'verbose': 1, 'num_iterations': 1000, 'max_bin': 256}\n"
     ]
    },
    {
     "name": "stderr",
     "output_type": "stream",
     "text": [
      "D:\\anaconda\\lib\\site-packages\\lightgbm\\engine.py:148: UserWarning: Found `num_iterations` in params. Will use it instead of argument\n",
      "  warnings.warn(\"Found `{}` in params. Will use it instead of argument\".format(alias))\n"
     ]
    },
    {
     "name": "stdout",
     "output_type": "stream",
     "text": [
      "train score 1.000000\n",
      "INFO::tuning cv 2\n",
      "rf raw data fit score 1.000000\n",
      "INFO::dimension remained 6161 0.960000\n",
      "dimension remained 6161\n",
      "DEBUG:: tuning params\n",
      " {'boosting_type': 'gbdt', 'class_weight': None, 'colsample_bytree': 1.0, 'importance_type': 'split', 'learning_rate': 0.1, 'max_depth': -1, 'min_child_samples': 20, 'min_child_weight': 0.001, 'min_split_gain': 0.0, 'n_estimators': 500, 'n_jobs': 20, 'num_leaves': 31, 'objective': 'cross_entropy', 'random_state': 42, 'reg_alpha': 0.0, 'reg_lambda': 0.0, 'silent': False, 'subsample': 1.0, 'subsample_for_bin': 200000, 'subsample_freq': 0, 'verbose': 1, 'num_iterations': 1000, 'max_bin': 256}\n"
     ]
    },
    {
     "name": "stderr",
     "output_type": "stream",
     "text": [
      "D:\\anaconda\\lib\\site-packages\\lightgbm\\engine.py:148: UserWarning: Found `num_iterations` in params. Will use it instead of argument\n",
      "  warnings.warn(\"Found `{}` in params. Will use it instead of argument\".format(alias))\n"
     ]
    },
    {
     "name": "stdout",
     "output_type": "stream",
     "text": [
      "train score 1.000000\n",
      "INFO::tuning cv 3\n",
      "rf raw data fit score 1.000000\n",
      "INFO::dimension remained 6160 0.960000\n",
      "dimension remained 6160\n",
      "DEBUG:: tuning params\n",
      " {'boosting_type': 'gbdt', 'class_weight': None, 'colsample_bytree': 1.0, 'importance_type': 'split', 'learning_rate': 0.1, 'max_depth': -1, 'min_child_samples': 20, 'min_child_weight': 0.001, 'min_split_gain': 0.0, 'n_estimators': 500, 'n_jobs': 20, 'num_leaves': 31, 'objective': 'cross_entropy', 'random_state': 42, 'reg_alpha': 0.0, 'reg_lambda': 0.0, 'silent': False, 'subsample': 1.0, 'subsample_for_bin': 200000, 'subsample_freq': 0, 'verbose': 1, 'num_iterations': 1000, 'max_bin': 256}\n"
     ]
    },
    {
     "name": "stderr",
     "output_type": "stream",
     "text": [
      "D:\\anaconda\\lib\\site-packages\\lightgbm\\engine.py:148: UserWarning: Found `num_iterations` in params. Will use it instead of argument\n",
      "  warnings.warn(\"Found `{}` in params. Will use it instead of argument\".format(alias))\n"
     ]
    },
    {
     "name": "stdout",
     "output_type": "stream",
     "text": [
      "train score 1.000000\n",
      "INFO::tuning cv 4\n",
      "rf raw data fit score 1.000000\n",
      "INFO::dimension remained 6160 0.960000\n",
      "dimension remained 6160\n",
      "DEBUG:: tuning params\n",
      " {'boosting_type': 'gbdt', 'class_weight': None, 'colsample_bytree': 1.0, 'importance_type': 'split', 'learning_rate': 0.1, 'max_depth': -1, 'min_child_samples': 20, 'min_child_weight': 0.001, 'min_split_gain': 0.0, 'n_estimators': 500, 'n_jobs': 20, 'num_leaves': 31, 'objective': 'cross_entropy', 'random_state': 42, 'reg_alpha': 0.0, 'reg_lambda': 0.0, 'silent': False, 'subsample': 1.0, 'subsample_for_bin': 200000, 'subsample_freq': 0, 'verbose': 1, 'num_iterations': 1000, 'max_bin': 256}\n"
     ]
    },
    {
     "name": "stderr",
     "output_type": "stream",
     "text": [
      "D:\\anaconda\\lib\\site-packages\\lightgbm\\engine.py:148: UserWarning: Found `num_iterations` in params. Will use it instead of argument\n",
      "  warnings.warn(\"Found `{}` in params. Will use it instead of argument\".format(alias))\n"
     ]
    },
    {
     "name": "stdout",
     "output_type": "stream",
     "text": [
      "train score 1.000000\n",
      "DEBUG:: time elapsed  0.2506277839342753\n",
      "INFO::dataid 3\n",
      "read data 3 3\n",
      "=============RETRIEVE TRIAN DATA=================\n",
      "# DEBUG: # DEBUG: **************new dl 3***************\n",
      "# DEBUG: READ SEQ FROM FILE\n",
      "# DEBUG: READ CLUSTER FROM FILE\n",
      "ERROR:: regex  \n",
      "ERROR:: regex  \n",
      "# DEBUG: READ PAIR FROM FILE\n",
      "# DEBUG: GENERATE NEGATIVE PAIR\n",
      "# DEBUG: negative pair number 2240\n",
      "INFO::count of negative pairs2240\n",
      "# DEBUG: PAIR UNION\n",
      "# DEBUG: EXTRACT FEATURES--PROTEIN\n",
      "# DEBUG: EXTRACT FEATURES--RNA\n",
      "# DEBUG: K-MER CALCULATION\n",
      "# DEBUG: FEATURE UNION\n",
      "# DEBUG: GARBAGE COLLECTION\n",
      "MATRIX TRANSFORMATION\n",
      "DEBUG:: total features count  2375\n",
      "data shape 4480 2375\n",
      "INFO::tuning cv 0\n",
      "rf raw data fit score 0.999721\n",
      "INFO::dimension remained 2344 0.975000\n",
      "dimension remained 2344\n",
      "DEBUG:: tuning params\n",
      " {'boosting_type': 'gbdt', 'class_weight': None, 'colsample_bytree': 0.8, 'importance_type': 'split', 'learning_rate': 0.05, 'max_depth': -1, 'min_child_samples': 20, 'min_child_weight': 0.001, 'min_split_gain': 0.0, 'n_estimators': 500, 'n_jobs': 20, 'num_leaves': 31, 'objective': 'cross_entropy', 'random_state': 42, 'reg_alpha': 0.0, 'reg_lambda': 0.0, 'silent': False, 'subsample': 1.0, 'subsample_for_bin': 200000, 'subsample_freq': 0, 'verbose': 1, 'num_iterations': 1000, 'max_bin': 256}\n"
     ]
    },
    {
     "name": "stderr",
     "output_type": "stream",
     "text": [
      "D:\\anaconda\\lib\\site-packages\\lightgbm\\engine.py:148: UserWarning: Found `num_iterations` in params. Will use it instead of argument\n",
      "  warnings.warn(\"Found `{}` in params. Will use it instead of argument\".format(alias))\n"
     ]
    },
    {
     "name": "stdout",
     "output_type": "stream",
     "text": [
      "train score 0.999721\n",
      "INFO::tuning cv 1\n",
      "rf raw data fit score 1.000000\n",
      "INFO::dimension remained 2344 0.975000\n",
      "dimension remained 2344\n",
      "DEBUG:: tuning params\n",
      " {'boosting_type': 'gbdt', 'class_weight': None, 'colsample_bytree': 0.8, 'importance_type': 'split', 'learning_rate': 0.05, 'max_depth': -1, 'min_child_samples': 20, 'min_child_weight': 0.001, 'min_split_gain': 0.0, 'n_estimators': 500, 'n_jobs': 20, 'num_leaves': 31, 'objective': 'cross_entropy', 'random_state': 42, 'reg_alpha': 0.0, 'reg_lambda': 0.0, 'silent': False, 'subsample': 1.0, 'subsample_for_bin': 200000, 'subsample_freq': 0, 'verbose': 1, 'num_iterations': 1000, 'max_bin': 256}\n"
     ]
    },
    {
     "name": "stderr",
     "output_type": "stream",
     "text": [
      "D:\\anaconda\\lib\\site-packages\\lightgbm\\engine.py:148: UserWarning: Found `num_iterations` in params. Will use it instead of argument\n",
      "  warnings.warn(\"Found `{}` in params. Will use it instead of argument\".format(alias))\n"
     ]
    },
    {
     "name": "stdout",
     "output_type": "stream",
     "text": [
      "train score 1.000000\n",
      "INFO::tuning cv 2\n",
      "rf raw data fit score 0.999721\n",
      "INFO::dimension remained 2344 0.975000\n",
      "dimension remained 2344\n",
      "DEBUG:: tuning params\n",
      " {'boosting_type': 'gbdt', 'class_weight': None, 'colsample_bytree': 0.8, 'importance_type': 'split', 'learning_rate': 0.05, 'max_depth': -1, 'min_child_samples': 20, 'min_child_weight': 0.001, 'min_split_gain': 0.0, 'n_estimators': 500, 'n_jobs': 20, 'num_leaves': 31, 'objective': 'cross_entropy', 'random_state': 42, 'reg_alpha': 0.0, 'reg_lambda': 0.0, 'silent': False, 'subsample': 1.0, 'subsample_for_bin': 200000, 'subsample_freq': 0, 'verbose': 1, 'num_iterations': 1000, 'max_bin': 256}\n"
     ]
    },
    {
     "name": "stderr",
     "output_type": "stream",
     "text": [
      "D:\\anaconda\\lib\\site-packages\\lightgbm\\engine.py:148: UserWarning: Found `num_iterations` in params. Will use it instead of argument\n",
      "  warnings.warn(\"Found `{}` in params. Will use it instead of argument\".format(alias))\n"
     ]
    },
    {
     "name": "stdout",
     "output_type": "stream",
     "text": [
      "train score 0.999721\n",
      "INFO::tuning cv 3\n",
      "rf raw data fit score 0.999721\n",
      "INFO::dimension remained 2344 0.975000\n",
      "dimension remained 2344\n",
      "DEBUG:: tuning params\n",
      " {'boosting_type': 'gbdt', 'class_weight': None, 'colsample_bytree': 0.8, 'importance_type': 'split', 'learning_rate': 0.05, 'max_depth': -1, 'min_child_samples': 20, 'min_child_weight': 0.001, 'min_split_gain': 0.0, 'n_estimators': 500, 'n_jobs': 20, 'num_leaves': 31, 'objective': 'cross_entropy', 'random_state': 42, 'reg_alpha': 0.0, 'reg_lambda': 0.0, 'silent': False, 'subsample': 1.0, 'subsample_for_bin': 200000, 'subsample_freq': 0, 'verbose': 1, 'num_iterations': 1000, 'max_bin': 256}\n"
     ]
    },
    {
     "name": "stderr",
     "output_type": "stream",
     "text": [
      "D:\\anaconda\\lib\\site-packages\\lightgbm\\engine.py:148: UserWarning: Found `num_iterations` in params. Will use it instead of argument\n",
      "  warnings.warn(\"Found `{}` in params. Will use it instead of argument\".format(alias))\n"
     ]
    },
    {
     "name": "stdout",
     "output_type": "stream",
     "text": [
      "train score 0.999721\n",
      "INFO::tuning cv 4\n",
      "rf raw data fit score 0.999721\n",
      "INFO::dimension remained 2344 0.975000\n",
      "dimension remained 2344\n",
      "DEBUG:: tuning params\n",
      " {'boosting_type': 'gbdt', 'class_weight': None, 'colsample_bytree': 0.8, 'importance_type': 'split', 'learning_rate': 0.05, 'max_depth': -1, 'min_child_samples': 20, 'min_child_weight': 0.001, 'min_split_gain': 0.0, 'n_estimators': 500, 'n_jobs': 20, 'num_leaves': 31, 'objective': 'cross_entropy', 'random_state': 42, 'reg_alpha': 0.0, 'reg_lambda': 0.0, 'silent': False, 'subsample': 1.0, 'subsample_for_bin': 200000, 'subsample_freq': 0, 'verbose': 1, 'num_iterations': 1000, 'max_bin': 256}\n"
     ]
    },
    {
     "name": "stderr",
     "output_type": "stream",
     "text": [
      "D:\\anaconda\\lib\\site-packages\\lightgbm\\engine.py:148: UserWarning: Found `num_iterations` in params. Will use it instead of argument\n",
      "  warnings.warn(\"Found `{}` in params. Will use it instead of argument\".format(alias))\n"
     ]
    },
    {
     "name": "stdout",
     "output_type": "stream",
     "text": [
      "train score 0.999721\n",
      "DEBUG:: time elapsed  0.7676143209139507\n",
      "INFO::dataid 4\n",
      "read data 4 3\n",
      "=============RETRIEVE TRIAN DATA=================\n",
      "# DEBUG: # DEBUG: **************new dl 4***************\n",
      "# DEBUG: READ SEQ FROM FILE\n",
      "# DEBUG: READ CLUSTER FROM FILE\n",
      "# DEBUG: READ PAIR FROM FILE\n",
      "read line error \n",
      "# DEBUG: GENERATE NEGATIVE PAIR\n",
      "# DEBUG: negative pair number 3218\n",
      "# DEBUG: PAIR UNION\n",
      "# DEBUG: EXTRACT FEATURES--PROTEIN\n",
      "# DEBUG: EXTRACT FEATURES--RNA\n",
      "# DEBUG: K-MER CALCULATION\n",
      "# DEBUG: FEATURE UNION\n",
      "# DEBUG: GARBAGE COLLECTION\n",
      "MATRIX TRANSFORMATION\n",
      "DEBUG:: total features count  6841\n",
      "data shape 3218 6841\n",
      "INFO::tuning cv 0\n",
      "rf raw data fit score 0.994949\n",
      "INFO::dimension remained 6703 0.960000\n",
      "dimension remained 6703\n",
      "DEBUG:: tuning params\n",
      " {'boosting_type': 'gbdt', 'class_weight': None, 'colsample_bytree': 1.0, 'importance_type': 'split', 'learning_rate': 0.01, 'max_depth': -1, 'min_child_samples': 20, 'min_child_weight': 0.001, 'min_split_gain': 0.0, 'n_estimators': 500, 'n_jobs': 20, 'num_leaves': 31, 'objective': 'cross_entropy', 'random_state': 42, 'reg_alpha': 0.0, 'reg_lambda': 0.0, 'silent': False, 'subsample': 1.0, 'subsample_for_bin': 200000, 'subsample_freq': 0, 'verbose': 1, 'num_iterations': 2000, 'max_bin': 256}\n"
     ]
    },
    {
     "name": "stderr",
     "output_type": "stream",
     "text": [
      "D:\\anaconda\\lib\\site-packages\\lightgbm\\engine.py:148: UserWarning: Found `num_iterations` in params. Will use it instead of argument\n",
      "  warnings.warn(\"Found `{}` in params. Will use it instead of argument\".format(alias))\n"
     ]
    },
    {
     "name": "stdout",
     "output_type": "stream",
     "text": [
      "train score 0.994561\n",
      "INFO::tuning cv 1\n",
      "rf raw data fit score 0.994561\n",
      "INFO::dimension remained 6703 0.960000\n",
      "dimension remained 6703\n",
      "DEBUG:: tuning params\n",
      " {'boosting_type': 'gbdt', 'class_weight': None, 'colsample_bytree': 1.0, 'importance_type': 'split', 'learning_rate': 0.01, 'max_depth': -1, 'min_child_samples': 20, 'min_child_weight': 0.001, 'min_split_gain': 0.0, 'n_estimators': 500, 'n_jobs': 20, 'num_leaves': 31, 'objective': 'cross_entropy', 'random_state': 42, 'reg_alpha': 0.0, 'reg_lambda': 0.0, 'silent': False, 'subsample': 1.0, 'subsample_for_bin': 200000, 'subsample_freq': 0, 'verbose': 1, 'num_iterations': 2000, 'max_bin': 256}\n"
     ]
    },
    {
     "name": "stderr",
     "output_type": "stream",
     "text": [
      "D:\\anaconda\\lib\\site-packages\\lightgbm\\engine.py:148: UserWarning: Found `num_iterations` in params. Will use it instead of argument\n",
      "  warnings.warn(\"Found `{}` in params. Will use it instead of argument\".format(alias))\n"
     ]
    },
    {
     "name": "stdout",
     "output_type": "stream",
     "text": [
      "train score 0.994561\n",
      "INFO::tuning cv 2\n",
      "rf raw data fit score 0.994172\n",
      "INFO::dimension remained 6703 0.960000\n",
      "dimension remained 6703\n",
      "DEBUG:: tuning params\n",
      " {'boosting_type': 'gbdt', 'class_weight': None, 'colsample_bytree': 1.0, 'importance_type': 'split', 'learning_rate': 0.01, 'max_depth': -1, 'min_child_samples': 20, 'min_child_weight': 0.001, 'min_split_gain': 0.0, 'n_estimators': 500, 'n_jobs': 20, 'num_leaves': 31, 'objective': 'cross_entropy', 'random_state': 42, 'reg_alpha': 0.0, 'reg_lambda': 0.0, 'silent': False, 'subsample': 1.0, 'subsample_for_bin': 200000, 'subsample_freq': 0, 'verbose': 1, 'num_iterations': 2000, 'max_bin': 256}\n"
     ]
    },
    {
     "name": "stderr",
     "output_type": "stream",
     "text": [
      "D:\\anaconda\\lib\\site-packages\\lightgbm\\engine.py:148: UserWarning: Found `num_iterations` in params. Will use it instead of argument\n",
      "  warnings.warn(\"Found `{}` in params. Will use it instead of argument\".format(alias))\n"
     ]
    },
    {
     "name": "stdout",
     "output_type": "stream",
     "text": [
      "train score 0.993784\n",
      "INFO::tuning cv 3\n",
      "rf raw data fit score 0.993007\n",
      "INFO::dimension remained 6703 0.960000\n",
      "dimension remained 6703\n",
      "DEBUG:: tuning params\n",
      " {'boosting_type': 'gbdt', 'class_weight': None, 'colsample_bytree': 1.0, 'importance_type': 'split', 'learning_rate': 0.01, 'max_depth': -1, 'min_child_samples': 20, 'min_child_weight': 0.001, 'min_split_gain': 0.0, 'n_estimators': 500, 'n_jobs': 20, 'num_leaves': 31, 'objective': 'cross_entropy', 'random_state': 42, 'reg_alpha': 0.0, 'reg_lambda': 0.0, 'silent': False, 'subsample': 1.0, 'subsample_for_bin': 200000, 'subsample_freq': 0, 'verbose': 1, 'num_iterations': 2000, 'max_bin': 256}\n"
     ]
    },
    {
     "name": "stderr",
     "output_type": "stream",
     "text": [
      "D:\\anaconda\\lib\\site-packages\\lightgbm\\engine.py:148: UserWarning: Found `num_iterations` in params. Will use it instead of argument\n",
      "  warnings.warn(\"Found `{}` in params. Will use it instead of argument\".format(alias))\n"
     ]
    },
    {
     "name": "stdout",
     "output_type": "stream",
     "text": [
      "train score 0.993007\n",
      "INFO::tuning cv 4\n",
      "rf raw data fit score 0.993007\n",
      "INFO::dimension remained 6704 0.960000\n",
      "dimension remained 6704\n",
      "DEBUG:: tuning params\n",
      " {'boosting_type': 'gbdt', 'class_weight': None, 'colsample_bytree': 1.0, 'importance_type': 'split', 'learning_rate': 0.01, 'max_depth': -1, 'min_child_samples': 20, 'min_child_weight': 0.001, 'min_split_gain': 0.0, 'n_estimators': 500, 'n_jobs': 20, 'num_leaves': 31, 'objective': 'cross_entropy', 'random_state': 42, 'reg_alpha': 0.0, 'reg_lambda': 0.0, 'silent': False, 'subsample': 1.0, 'subsample_for_bin': 200000, 'subsample_freq': 0, 'verbose': 1, 'num_iterations': 2000, 'max_bin': 256}\n"
     ]
    },
    {
     "name": "stderr",
     "output_type": "stream",
     "text": [
      "D:\\anaconda\\lib\\site-packages\\lightgbm\\engine.py:148: UserWarning: Found `num_iterations` in params. Will use it instead of argument\n",
      "  warnings.warn(\"Found `{}` in params. Will use it instead of argument\".format(alias))\n"
     ]
    },
    {
     "name": "stdout",
     "output_type": "stream",
     "text": [
      "train score 0.993007\n",
      "DEBUG:: time elapsed  1.4785523732503256\n",
      "INFO::dataid 5\n",
      "read data 4 6\n",
      "=============RETRIEVE TRIAN DATA=================\n",
      "# DEBUG: # DEBUG: **************new dl 5***************\n",
      "# DEBUG: READ SEQ FROM FILE\n",
      "# DEBUG: READ CLUSTER FROM FILE\n",
      "ERROR:: regex  \n",
      "ERROR:: regex  \n",
      "# DEBUG: READ PAIR FROM FILE\n",
      "read line error \n",
      "# DEBUG: GENERATE NEGATIVE PAIR\n",
      "# DEBUG: negative pair number 43249\n",
      "INFO::count of negative pairs43249\n",
      "# DEBUG: PAIR UNION\n",
      "# DEBUG: EXTRACT FEATURES--PROTEIN\n",
      "# DEBUG: EXTRACT FEATURES--RNA\n",
      "# DEBUG: K-MER CALCULATION\n",
      "# DEBUG: FEATURE UNION\n",
      "# DEBUG: GARBAGE COLLECTION\n",
      "MATRIX TRANSFORMATION\n",
      "DEBUG:: total features count  33302\n",
      "data shape 86498 33302\n",
      "INFO::tuning cv 0\n",
      "rf raw data fit score 1.000000\n",
      "INFO::dimension remained 32369 0.945000\n",
      "dimension remained 32369\n",
      "DEBUG:: tuning params\n",
      " {'boosting_type': 'gbdt', 'class_weight': None, 'colsample_bytree': 1.0, 'importance_type': 'split', 'learning_rate': 0.1, 'max_depth': -1, 'min_child_samples': 20, 'min_child_weight': 0.001, 'min_split_gain': 0.0, 'n_estimators': 500, 'n_jobs': 20, 'num_leaves': 31, 'objective': 'cross_entropy', 'random_state': 42, 'reg_alpha': 0.0, 'reg_lambda': 0.0, 'silent': False, 'subsample': 1.0, 'subsample_for_bin': 200000, 'subsample_freq': 0, 'verbose': 1, 'num_iterations': 1000, 'max_bin': 256}\n"
     ]
    },
    {
     "name": "stderr",
     "output_type": "stream",
     "text": [
      "D:\\anaconda\\lib\\site-packages\\lightgbm\\engine.py:148: UserWarning: Found `num_iterations` in params. Will use it instead of argument\n",
      "  warnings.warn(\"Found `{}` in params. Will use it instead of argument\".format(alias))\n"
     ]
    },
    {
     "name": "stdout",
     "output_type": "stream",
     "text": [
      "train score 0.999075\n",
      "INFO::tuning cv 1\n",
      "rf raw data fit score 1.000000\n",
      "INFO::dimension remained 32369 0.945000\n",
      "dimension remained 32369\n",
      "DEBUG:: tuning params\n",
      " {'boosting_type': 'gbdt', 'class_weight': None, 'colsample_bytree': 1.0, 'importance_type': 'split', 'learning_rate': 0.1, 'max_depth': -1, 'min_child_samples': 20, 'min_child_weight': 0.001, 'min_split_gain': 0.0, 'n_estimators': 500, 'n_jobs': 20, 'num_leaves': 31, 'objective': 'cross_entropy', 'random_state': 42, 'reg_alpha': 0.0, 'reg_lambda': 0.0, 'silent': False, 'subsample': 1.0, 'subsample_for_bin': 200000, 'subsample_freq': 0, 'verbose': 1, 'num_iterations': 1000, 'max_bin': 256}\n"
     ]
    },
    {
     "name": "stderr",
     "output_type": "stream",
     "text": [
      "D:\\anaconda\\lib\\site-packages\\lightgbm\\engine.py:148: UserWarning: Found `num_iterations` in params. Will use it instead of argument\n",
      "  warnings.warn(\"Found `{}` in params. Will use it instead of argument\".format(alias))\n"
     ]
    },
    {
     "name": "stdout",
     "output_type": "stream",
     "text": [
      "train score 0.998699\n",
      "INFO::tuning cv 2\n",
      "rf raw data fit score 1.000000\n",
      "INFO::dimension remained 32370 0.945000\n",
      "dimension remained 32370\n",
      "DEBUG:: tuning params\n",
      " {'boosting_type': 'gbdt', 'class_weight': None, 'colsample_bytree': 1.0, 'importance_type': 'split', 'learning_rate': 0.1, 'max_depth': -1, 'min_child_samples': 20, 'min_child_weight': 0.001, 'min_split_gain': 0.0, 'n_estimators': 500, 'n_jobs': 20, 'num_leaves': 31, 'objective': 'cross_entropy', 'random_state': 42, 'reg_alpha': 0.0, 'reg_lambda': 0.0, 'silent': False, 'subsample': 1.0, 'subsample_for_bin': 200000, 'subsample_freq': 0, 'verbose': 1, 'num_iterations': 1000, 'max_bin': 256}\n"
     ]
    },
    {
     "name": "stderr",
     "output_type": "stream",
     "text": [
      "D:\\anaconda\\lib\\site-packages\\lightgbm\\engine.py:148: UserWarning: Found `num_iterations` in params. Will use it instead of argument\n",
      "  warnings.warn(\"Found `{}` in params. Will use it instead of argument\".format(alias))\n"
     ]
    },
    {
     "name": "stdout",
     "output_type": "stream",
     "text": [
      "train score 0.998844\n",
      "INFO::tuning cv 3\n",
      "rf raw data fit score 1.000000\n",
      "INFO::dimension remained 32370 0.945000\n",
      "dimension remained 32370\n",
      "DEBUG:: tuning params\n",
      " {'boosting_type': 'gbdt', 'class_weight': None, 'colsample_bytree': 1.0, 'importance_type': 'split', 'learning_rate': 0.1, 'max_depth': -1, 'min_child_samples': 20, 'min_child_weight': 0.001, 'min_split_gain': 0.0, 'n_estimators': 500, 'n_jobs': 20, 'num_leaves': 31, 'objective': 'cross_entropy', 'random_state': 42, 'reg_alpha': 0.0, 'reg_lambda': 0.0, 'silent': False, 'subsample': 1.0, 'subsample_for_bin': 200000, 'subsample_freq': 0, 'verbose': 1, 'num_iterations': 1000, 'max_bin': 256}\n"
     ]
    },
    {
     "name": "stderr",
     "output_type": "stream",
     "text": [
      "D:\\anaconda\\lib\\site-packages\\lightgbm\\engine.py:148: UserWarning: Found `num_iterations` in params. Will use it instead of argument\n",
      "  warnings.warn(\"Found `{}` in params. Will use it instead of argument\".format(alias))\n"
     ]
    },
    {
     "name": "stdout",
     "output_type": "stream",
     "text": [
      "train score 0.999191\n",
      "INFO::tuning cv 4\n",
      "rf raw data fit score 1.000000\n",
      "INFO::dimension remained 32369 0.945000\n",
      "dimension remained 32369\n",
      "DEBUG:: tuning params\n",
      " {'boosting_type': 'gbdt', 'class_weight': None, 'colsample_bytree': 1.0, 'importance_type': 'split', 'learning_rate': 0.1, 'max_depth': -1, 'min_child_samples': 20, 'min_child_weight': 0.001, 'min_split_gain': 0.0, 'n_estimators': 500, 'n_jobs': 20, 'num_leaves': 31, 'objective': 'cross_entropy', 'random_state': 42, 'reg_alpha': 0.0, 'reg_lambda': 0.0, 'silent': False, 'subsample': 1.0, 'subsample_for_bin': 200000, 'subsample_freq': 0, 'verbose': 1, 'num_iterations': 1000, 'max_bin': 256}\n"
     ]
    },
    {
     "name": "stderr",
     "output_type": "stream",
     "text": [
      "D:\\anaconda\\lib\\site-packages\\lightgbm\\engine.py:148: UserWarning: Found `num_iterations` in params. Will use it instead of argument\n",
      "  warnings.warn(\"Found `{}` in params. Will use it instead of argument\".format(alias))\n"
     ]
    },
    {
     "name": "stdout",
     "output_type": "stream",
     "text": [
      "train score 0.999090\n",
      "DEBUG:: time elapsed  165.00384215911228\n"
     ]
    }
   ],
   "source": [
    "tuning_cv2 = 5\n",
    "tuning_generalize_ratio2 = 1.0/tuning_cv2 if tuning_cv2!=1 else 0.2\n",
    "\n",
    "df_columns = ['dataid','protein_k','rna_k','top_ratio','training_score','tune_param','scores']\n",
    "df_result2 = pd.DataFrame([],columns=df_columns)\n",
    "\n",
    "for _dataid in [0,1,2,3,4,5]:\n",
    "    INFO('dataid %d'%_dataid)\n",
    "    for global_params in params_1[_dataid]:\n",
    "        start_time = time.time()\n",
    "        ### get conf of dataid\n",
    "        protein_k = global_params[0]\n",
    "        rna_k = global_params[1]\n",
    "        top_ratio = global_params[2]\n",
    "        ### read data\n",
    "        [data,T] = ReadData(_dataid,protein_k,rna_k)\n",
    "        [X,Y] = ToMatrix(data,'dense')\n",
    "\n",
    "        for _cv in range(tuning_cv2):\n",
    "            INFO('tuning cv %d'%_cv)\n",
    "            \n",
    "            ### split dataset\n",
    "            [X_train,X_test,Y_train,Y_test] = SplitDataset(X,Y,tuning_generalize_ratio2)\n",
    "            ### dimensionality reduction\n",
    "            [X_train,X_test,Y_train,Y_test] = \\\n",
    "                        RandomForestDimensionalityReduction(X_train,X_test,Y_train,Y_test,topRatio=top_ratio)\n",
    "            \n",
    "            for sp in tune_grid[_dataid]:\n",
    "                sp = dict(map(lambda x:(x,[sp[x]]),sp))\n",
    "                tune_results = LGBTuning(X_train,X_test,Y_train,Y_test,sp)\n",
    "                tune_score = scoreFunction(tune_results[0],tune_results[1])\n",
    "                r = pd.Series({\n",
    "                                'dataid':_dataid,\n",
    "                                'protein_k':protein_k,\n",
    "                                'rna_k':rna_k,\n",
    "                                'top_ratio':top_ratio,\n",
    "                                'training_score':tune_results[2],\n",
    "                                'tune_param':json.dumps(sp),\n",
    "                                'scores':json.dumps(tune_score),\n",
    "                })\n",
    "                df_result2 = df_result2.append(r,ignore_index=True)\n",
    "    \n",
    "        end_time = time.time()\n",
    "        print('DEBUG:: time elapsed ',(end_time-start_time)/60)\n",
    "df_result2.to_csv(fname_result2)\n",
    "            "
   ]
  },
  {
   "cell_type": "markdown",
   "metadata": {},
   "source": [
    "分析"
   ]
  },
  {
   "cell_type": "code",
   "execution_count": 8,
   "metadata": {},
   "outputs": [],
   "source": [
    "acc = [json.loads(row['scores'])['acc'] for idx,row in df_result2.iterrows()]\n",
    "auc = [json.loads(row['scores'])['auc'] for idx,row in df_result2.iterrows()]\n",
    "\n",
    "df_result2['acc'] = acc\n",
    "df_result2['auc'] = auc"
   ]
  },
  {
   "cell_type": "code",
   "execution_count": null,
   "metadata": {},
   "outputs": [],
   "source": [
    "a = df_result2.groupby(by=['dataid']).agg({'acc':max}).reset_index()\n",
    "df_result2\n",
    "# np.mean(acc)"
   ]
  },
  {
   "cell_type": "code",
   "execution_count": 10,
   "metadata": {
    "scrolled": true
   },
   "outputs": [
    {
     "data": {
      "text/html": [
       "<div>\n",
       "<style scoped>\n",
       "    .dataframe tbody tr th:only-of-type {\n",
       "        vertical-align: middle;\n",
       "    }\n",
       "\n",
       "    .dataframe tbody tr th {\n",
       "        vertical-align: top;\n",
       "    }\n",
       "\n",
       "    .dataframe thead th {\n",
       "        text-align: right;\n",
       "    }\n",
       "</style>\n",
       "<table border=\"1\" class=\"dataframe\">\n",
       "  <thead>\n",
       "    <tr style=\"text-align: right;\">\n",
       "      <th></th>\n",
       "      <th>dataid</th>\n",
       "      <th>acc</th>\n",
       "      <th>protein_k</th>\n",
       "      <th>rna_k</th>\n",
       "      <th>top_ratio</th>\n",
       "      <th>training_score</th>\n",
       "      <th>tune_param</th>\n",
       "      <th>scores</th>\n",
       "      <th>auc</th>\n",
       "    </tr>\n",
       "  </thead>\n",
       "  <tbody>\n",
       "    <tr>\n",
       "      <th>0</th>\n",
       "      <td>0</td>\n",
       "      <td>0.951981</td>\n",
       "      <td>5</td>\n",
       "      <td>5</td>\n",
       "      <td>0.990</td>\n",
       "      <td>1.000000</td>\n",
       "      <td>{\"boosting_type\": [\"gbdt\"], \"learning_rate\": [...</td>\n",
       "      <td>{\"acc\": 0.9519807923169268, \"auc\": 0.952548374...</td>\n",
       "      <td>0.952548</td>\n",
       "    </tr>\n",
       "    <tr>\n",
       "      <th>1</th>\n",
       "      <td>1</td>\n",
       "      <td>0.894690</td>\n",
       "      <td>3</td>\n",
       "      <td>3</td>\n",
       "      <td>0.990</td>\n",
       "      <td>0.998673</td>\n",
       "      <td>{\"boosting_type\": [\"gbdt\"], \"learning_rate\": [...</td>\n",
       "      <td>{\"acc\": 0.8946902654867257, \"auc\": 0.894704609...</td>\n",
       "      <td>0.894705</td>\n",
       "    </tr>\n",
       "    <tr>\n",
       "      <th>2</th>\n",
       "      <td>2</td>\n",
       "      <td>0.897959</td>\n",
       "      <td>4</td>\n",
       "      <td>4</td>\n",
       "      <td>0.960</td>\n",
       "      <td>1.000000</td>\n",
       "      <td>{\"boosting_type\": [\"gbdt\"], \"learning_rate\": [...</td>\n",
       "      <td>{\"acc\": 0.8979591836734694, \"auc\": 0.897788902...</td>\n",
       "      <td>0.897789</td>\n",
       "    </tr>\n",
       "    <tr>\n",
       "      <th>3</th>\n",
       "      <td>3</td>\n",
       "      <td>0.837054</td>\n",
       "      <td>3</td>\n",
       "      <td>3</td>\n",
       "      <td>0.975</td>\n",
       "      <td>0.999721</td>\n",
       "      <td>{\"boosting_type\": [\"gbdt\"], \"colsample_bytree\"...</td>\n",
       "      <td>{\"acc\": 0.8370535714285714, \"auc\": 0.836824465...</td>\n",
       "      <td>0.836824</td>\n",
       "    </tr>\n",
       "    <tr>\n",
       "      <th>4</th>\n",
       "      <td>4</td>\n",
       "      <td>0.979814</td>\n",
       "      <td>4</td>\n",
       "      <td>3</td>\n",
       "      <td>0.960</td>\n",
       "      <td>0.993007</td>\n",
       "      <td>{\"boosting_type\": [\"gbdt\"], \"learning_rate\": [...</td>\n",
       "      <td>{\"acc\": 0.9798136645962733, \"auc\": 0.978752853...</td>\n",
       "      <td>0.978753</td>\n",
       "    </tr>\n",
       "    <tr>\n",
       "      <th>5</th>\n",
       "      <td>5</td>\n",
       "      <td>0.941503</td>\n",
       "      <td>4</td>\n",
       "      <td>6</td>\n",
       "      <td>0.945</td>\n",
       "      <td>0.998699</td>\n",
       "      <td>{\"boosting_type\": [\"gbdt\"], \"learning_rate\": [...</td>\n",
       "      <td>{\"acc\": 0.9415028901734104, \"auc\": 0.941528902...</td>\n",
       "      <td>0.941529</td>\n",
       "    </tr>\n",
       "  </tbody>\n",
       "</table>\n",
       "</div>"
      ],
      "text/plain": [
       "   dataid       acc protein_k rna_k  top_ratio  training_score  \\\n",
       "0       0  0.951981         5     5      0.990        1.000000   \n",
       "1       1  0.894690         3     3      0.990        0.998673   \n",
       "2       2  0.897959         4     4      0.960        1.000000   \n",
       "3       3  0.837054         3     3      0.975        0.999721   \n",
       "4       4  0.979814         4     3      0.960        0.993007   \n",
       "5       5  0.941503         4     6      0.945        0.998699   \n",
       "\n",
       "                                          tune_param  \\\n",
       "0  {\"boosting_type\": [\"gbdt\"], \"learning_rate\": [...   \n",
       "1  {\"boosting_type\": [\"gbdt\"], \"learning_rate\": [...   \n",
       "2  {\"boosting_type\": [\"gbdt\"], \"learning_rate\": [...   \n",
       "3  {\"boosting_type\": [\"gbdt\"], \"colsample_bytree\"...   \n",
       "4  {\"boosting_type\": [\"gbdt\"], \"learning_rate\": [...   \n",
       "5  {\"boosting_type\": [\"gbdt\"], \"learning_rate\": [...   \n",
       "\n",
       "                                              scores       auc  \n",
       "0  {\"acc\": 0.9519807923169268, \"auc\": 0.952548374...  0.952548  \n",
       "1  {\"acc\": 0.8946902654867257, \"auc\": 0.894704609...  0.894705  \n",
       "2  {\"acc\": 0.8979591836734694, \"auc\": 0.897788902...  0.897789  \n",
       "3  {\"acc\": 0.8370535714285714, \"auc\": 0.836824465...  0.836824  \n",
       "4  {\"acc\": 0.9798136645962733, \"auc\": 0.978752853...  0.978753  \n",
       "5  {\"acc\": 0.9415028901734104, \"auc\": 0.941528902...  0.941529  "
      ]
     },
     "execution_count": 10,
     "metadata": {},
     "output_type": "execute_result"
    }
   ],
   "source": [
    "b = a.join(df_result2.set_index(['dataid','acc']),on=['dataid','acc'],how='inner',lsuffix='_left', rsuffix='_right')\n",
    "# b.to_csv('./result/stage2-join.csv')\n",
    "b"
   ]
  },
  {
   "cell_type": "code",
   "execution_count": 17,
   "metadata": {},
   "outputs": [
    {
     "data": {
      "text/html": [
       "<div>\n",
       "<style scoped>\n",
       "    .dataframe tbody tr th:only-of-type {\n",
       "        vertical-align: middle;\n",
       "    }\n",
       "\n",
       "    .dataframe tbody tr th {\n",
       "        vertical-align: top;\n",
       "    }\n",
       "\n",
       "    .dataframe thead th {\n",
       "        text-align: right;\n",
       "    }\n",
       "</style>\n",
       "<table border=\"1\" class=\"dataframe\">\n",
       "  <thead>\n",
       "    <tr style=\"text-align: right;\">\n",
       "      <th></th>\n",
       "      <th>acc</th>\n",
       "      <th>auc_left</th>\n",
       "      <th>Unnamed: 0</th>\n",
       "      <th>test_score</th>\n",
       "      <th>train_score</th>\n",
       "      <th>RNA_K</th>\n",
       "      <th>PROTEIN_K</th>\n",
       "      <th>TOP_RATIO</th>\n",
       "      <th>auc_right</th>\n",
       "    </tr>\n",
       "    <tr>\n",
       "      <th>DATAID</th>\n",
       "      <th></th>\n",
       "      <th></th>\n",
       "      <th></th>\n",
       "      <th></th>\n",
       "      <th></th>\n",
       "      <th></th>\n",
       "      <th></th>\n",
       "      <th></th>\n",
       "      <th></th>\n",
       "    </tr>\n",
       "  </thead>\n",
       "  <tbody>\n",
       "    <tr>\n",
       "      <th>0</th>\n",
       "      <td>0.957263</td>\n",
       "      <td>0.957874</td>\n",
       "      <td>54</td>\n",
       "      <td>{'acc': 0.9572629051620648, 'auc': 0.957874088...</td>\n",
       "      <td>1.000000</td>\n",
       "      <td>5</td>\n",
       "      <td>5</td>\n",
       "      <td>0.990</td>\n",
       "      <td>0.957874</td>\n",
       "    </tr>\n",
       "    <tr>\n",
       "      <th>1</th>\n",
       "      <td>0.903540</td>\n",
       "      <td>0.903557</td>\n",
       "      <td>84</td>\n",
       "      <td>{'acc': 0.9035398230088496, 'auc': 0.903556750...</td>\n",
       "      <td>1.000000</td>\n",
       "      <td>3</td>\n",
       "      <td>3</td>\n",
       "      <td>0.990</td>\n",
       "      <td>0.903557</td>\n",
       "    </tr>\n",
       "    <tr>\n",
       "      <th>2</th>\n",
       "      <td>0.938776</td>\n",
       "      <td>0.938131</td>\n",
       "      <td>187</td>\n",
       "      <td>{'acc': 0.9387755102040817, 'auc': 0.932758620...</td>\n",
       "      <td>1.000000</td>\n",
       "      <td>4</td>\n",
       "      <td>4</td>\n",
       "      <td>0.960</td>\n",
       "      <td>0.932759</td>\n",
       "    </tr>\n",
       "    <tr>\n",
       "      <th>2</th>\n",
       "      <td>0.938776</td>\n",
       "      <td>0.938131</td>\n",
       "      <td>237</td>\n",
       "      <td>{'acc': 0.9387755102040817, 'auc': 0.938131313...</td>\n",
       "      <td>0.881443</td>\n",
       "      <td>6</td>\n",
       "      <td>6</td>\n",
       "      <td>0.960</td>\n",
       "      <td>0.938131</td>\n",
       "    </tr>\n",
       "    <tr>\n",
       "      <th>3</th>\n",
       "      <td>0.851562</td>\n",
       "      <td>0.851166</td>\n",
       "      <td>243</td>\n",
       "      <td>{'acc': 0.8515625, 'auc': 0.8511661175438509, ...</td>\n",
       "      <td>0.999721</td>\n",
       "      <td>3</td>\n",
       "      <td>3</td>\n",
       "      <td>0.975</td>\n",
       "      <td>0.851166</td>\n",
       "    </tr>\n",
       "    <tr>\n",
       "      <th>4</th>\n",
       "      <td>0.987578</td>\n",
       "      <td>0.988242</td>\n",
       "      <td>389</td>\n",
       "      <td>{'acc': 0.9875776397515528, 'auc': 0.988242256...</td>\n",
       "      <td>0.991453</td>\n",
       "      <td>6</td>\n",
       "      <td>4</td>\n",
       "      <td>0.990</td>\n",
       "      <td>0.988242</td>\n",
       "    </tr>\n",
       "    <tr>\n",
       "      <th>5</th>\n",
       "      <td>0.942775</td>\n",
       "      <td>0.942947</td>\n",
       "      <td>411</td>\n",
       "      <td>{'acc': 0.9427745664739884, 'auc': 0.942871267...</td>\n",
       "      <td>0.999595</td>\n",
       "      <td>3</td>\n",
       "      <td>5</td>\n",
       "      <td>0.945</td>\n",
       "      <td>0.942871</td>\n",
       "    </tr>\n",
       "    <tr>\n",
       "      <th>5</th>\n",
       "      <td>0.942775</td>\n",
       "      <td>0.942947</td>\n",
       "      <td>436</td>\n",
       "      <td>{'acc': 0.9427745664739884, 'auc': 0.942946578...</td>\n",
       "      <td>0.999321</td>\n",
       "      <td>4</td>\n",
       "      <td>6</td>\n",
       "      <td>0.945</td>\n",
       "      <td>0.942947</td>\n",
       "    </tr>\n",
       "  </tbody>\n",
       "</table>\n",
       "</div>"
      ],
      "text/plain": [
       "             acc  auc_left  Unnamed: 0  \\\n",
       "DATAID                                   \n",
       "0       0.957263  0.957874          54   \n",
       "1       0.903540  0.903557          84   \n",
       "2       0.938776  0.938131         187   \n",
       "2       0.938776  0.938131         237   \n",
       "3       0.851562  0.851166         243   \n",
       "4       0.987578  0.988242         389   \n",
       "5       0.942775  0.942947         411   \n",
       "5       0.942775  0.942947         436   \n",
       "\n",
       "                                               test_score  train_score  RNA_K  \\\n",
       "DATAID                                                                          \n",
       "0       {'acc': 0.9572629051620648, 'auc': 0.957874088...     1.000000      5   \n",
       "1       {'acc': 0.9035398230088496, 'auc': 0.903556750...     1.000000      3   \n",
       "2       {'acc': 0.9387755102040817, 'auc': 0.932758620...     1.000000      4   \n",
       "2       {'acc': 0.9387755102040817, 'auc': 0.938131313...     0.881443      6   \n",
       "3       {'acc': 0.8515625, 'auc': 0.8511661175438509, ...     0.999721      3   \n",
       "4       {'acc': 0.9875776397515528, 'auc': 0.988242256...     0.991453      6   \n",
       "5       {'acc': 0.9427745664739884, 'auc': 0.942871267...     0.999595      3   \n",
       "5       {'acc': 0.9427745664739884, 'auc': 0.942946578...     0.999321      4   \n",
       "\n",
       "        PROTEIN_K  TOP_RATIO  auc_right  \n",
       "DATAID                                   \n",
       "0               5      0.990   0.957874  \n",
       "1               3      0.990   0.903557  \n",
       "2               4      0.960   0.932759  \n",
       "2               6      0.960   0.938131  \n",
       "3               3      0.975   0.851166  \n",
       "4               4      0.990   0.988242  \n",
       "5               5      0.945   0.942871  \n",
       "5               6      0.945   0.942947  "
      ]
     },
     "execution_count": 17,
     "metadata": {},
     "output_type": "execute_result"
    }
   ],
   "source": [
    "fname_optimal_stage1 = './result/2020-05-04-20-55-26-stage1.csv'\n",
    "df = pd.read_csv(fname_optimal_stage1)\n",
    "acc = [ float(re.findall('[0-9]+\\.[0-9]+',x)[0]) for x in df['test_score'] ]\n",
    "auc = [ float(re.findall('[0-9]+\\.[0-9]+',x)[1]) for x in df['test_score'] ]\n",
    "df['acc'] = acc\n",
    "df['auc'] = auc\n",
    "\n",
    "new_df1 = df.groupby(by=['DATAID','PROTEIN_K','RNA_K']).agg({'acc':np.max,'auc':np.max})\n",
    "new_df2 = df.groupby(by=['DATAID','PROTEIN_K','RNA_K']).agg({'acc':np.mean,'auc':np.mean})\n",
    "inspect_df = df.groupby(by=['DATAID']).agg({'acc':np.max,'auc':np.max})\n",
    "inspect_df.join(df.set_index(['DATAID','acc']),on=['DATAID','acc'],how='inner',lsuffix='_left', rsuffix='_right')"
   ]
  },
  {
   "cell_type": "code",
   "execution_count": 13,
   "metadata": {},
   "outputs": [
    {
     "data": {
      "text/html": [
       "<div>\n",
       "<style scoped>\n",
       "    .dataframe tbody tr th:only-of-type {\n",
       "        vertical-align: middle;\n",
       "    }\n",
       "\n",
       "    .dataframe tbody tr th {\n",
       "        vertical-align: top;\n",
       "    }\n",
       "\n",
       "    .dataframe thead th {\n",
       "        text-align: right;\n",
       "    }\n",
       "</style>\n",
       "<table border=\"1\" class=\"dataframe\">\n",
       "  <thead>\n",
       "    <tr style=\"text-align: right;\">\n",
       "      <th></th>\n",
       "      <th>acc</th>\n",
       "      <th>auc</th>\n",
       "    </tr>\n",
       "    <tr>\n",
       "      <th>DATAID</th>\n",
       "      <th></th>\n",
       "      <th></th>\n",
       "    </tr>\n",
       "  </thead>\n",
       "  <tbody>\n",
       "    <tr>\n",
       "      <th>0</th>\n",
       "      <td>0.957263</td>\n",
       "      <td>0.957874</td>\n",
       "    </tr>\n",
       "    <tr>\n",
       "      <th>1</th>\n",
       "      <td>0.903540</td>\n",
       "      <td>0.903557</td>\n",
       "    </tr>\n",
       "    <tr>\n",
       "      <th>2</th>\n",
       "      <td>0.938776</td>\n",
       "      <td>0.938131</td>\n",
       "    </tr>\n",
       "    <tr>\n",
       "      <th>3</th>\n",
       "      <td>0.851562</td>\n",
       "      <td>0.851166</td>\n",
       "    </tr>\n",
       "    <tr>\n",
       "      <th>4</th>\n",
       "      <td>0.987578</td>\n",
       "      <td>0.988242</td>\n",
       "    </tr>\n",
       "    <tr>\n",
       "      <th>5</th>\n",
       "      <td>0.942775</td>\n",
       "      <td>0.942947</td>\n",
       "    </tr>\n",
       "  </tbody>\n",
       "</table>\n",
       "</div>"
      ],
      "text/plain": [
       "             acc       auc\n",
       "DATAID                    \n",
       "0       0.957263  0.957874\n",
       "1       0.903540  0.903557\n",
       "2       0.938776  0.938131\n",
       "3       0.851562  0.851166\n",
       "4       0.987578  0.988242\n",
       "5       0.942775  0.942947"
      ]
     },
     "execution_count": 13,
     "metadata": {},
     "output_type": "execute_result"
    }
   ],
   "source": [
    "inspect_df"
   ]
  },
  {
   "cell_type": "code",
   "execution_count": 19,
   "metadata": {},
   "outputs": [
    {
     "data": {
      "text/html": [
       "<div>\n",
       "<style scoped>\n",
       "    .dataframe tbody tr th:only-of-type {\n",
       "        vertical-align: middle;\n",
       "    }\n",
       "\n",
       "    .dataframe tbody tr th {\n",
       "        vertical-align: top;\n",
       "    }\n",
       "\n",
       "    .dataframe thead th {\n",
       "        text-align: right;\n",
       "    }\n",
       "</style>\n",
       "<table border=\"1\" class=\"dataframe\">\n",
       "  <thead>\n",
       "    <tr style=\"text-align: right;\">\n",
       "      <th></th>\n",
       "      <th>acc</th>\n",
       "    </tr>\n",
       "    <tr>\n",
       "      <th>dataid</th>\n",
       "      <th></th>\n",
       "    </tr>\n",
       "  </thead>\n",
       "  <tbody>\n",
       "    <tr>\n",
       "      <th>0</th>\n",
       "      <td>0.949580</td>\n",
       "    </tr>\n",
       "    <tr>\n",
       "      <th>1</th>\n",
       "      <td>0.878584</td>\n",
       "    </tr>\n",
       "    <tr>\n",
       "      <th>2</th>\n",
       "      <td>0.834694</td>\n",
       "    </tr>\n",
       "    <tr>\n",
       "      <th>3</th>\n",
       "      <td>0.835714</td>\n",
       "    </tr>\n",
       "    <tr>\n",
       "      <th>4</th>\n",
       "      <td>0.969565</td>\n",
       "    </tr>\n",
       "    <tr>\n",
       "      <th>5</th>\n",
       "      <td>0.938867</td>\n",
       "    </tr>\n",
       "  </tbody>\n",
       "</table>\n",
       "</div>"
      ],
      "text/plain": [
       "             acc\n",
       "dataid          \n",
       "0       0.949580\n",
       "1       0.878584\n",
       "2       0.834694\n",
       "3       0.835714\n",
       "4       0.969565\n",
       "5       0.938867"
      ]
     },
     "execution_count": 19,
     "metadata": {},
     "output_type": "execute_result"
    }
   ],
   "source": [
    "acc = [json.loads(row['scores'])['acc'] for idx,row in df_result2.iterrows()]\n",
    "auc = [json.loads(row['scores'])['auc'] for idx,row in df_result2.iterrows()]\n",
    "\n",
    "df_result2['acc'] = acc\n",
    "df_result2['auc'] = auc\n",
    "\n",
    "df_result2.groupby(by=['dataid']).agg({'acc':np.mean})\n",
    "# df_result2"
   ]
  },
  {
   "cell_type": "code",
   "execution_count": 7,
   "metadata": {
    "scrolled": true
   },
   "outputs": [
    {
     "name": "stdout",
     "output_type": "stream",
     "text": [
      "read data 4 4\n",
      "=============RETRIEVE TRIAN DATA=================\n",
      "# DEBUG: # DEBUG: **************new dl 2***************\n",
      "# DEBUG: READ SEQ FROM FILE\n",
      "# DEBUG: READ CLUSTER FROM FILE\n",
      "# DEBUG: READ PAIR FROM FILE\n",
      "read line error \n",
      "# DEBUG: GENERATE NEGATIVE PAIR\n",
      "# DEBUG: negative pair number 486\n",
      "# DEBUG: PAIR UNION\n",
      "# DEBUG: EXTRACT FEATURES--PROTEIN\n",
      "# DEBUG: EXTRACT FEATURES--RNA\n",
      "# DEBUG: K-MER CALCULATION\n",
      "# DEBUG: FEATURE UNION\n",
      "# DEBUG: GARBAGE COLLECTION\n",
      "MATRIX TRANSFORMATION\n",
      "DEBUG:: total features count  6284\n",
      "data shape 486 6284\n",
      "rf raw data fit score 1.000000\n",
      "INFO::dimension remained 6160 0.960000\n",
      "dimension remained 6160\n",
      "DEBUG:: tuning params\n",
      " {'boosting_type': 'gbdt', 'class_weight': None, 'colsample_bytree': 1.0, 'importance_type': 'split', 'learning_rate': 0.1, 'max_depth': -1, 'min_child_samples': 20, 'min_child_weight': 0.001, 'min_split_gain': 0.0, 'n_estimators': 500, 'n_jobs': 20, 'num_leaves': 31, 'objective': 'cross_entropy', 'random_state': 42, 'reg_alpha': 0.0, 'reg_lambda': 0.0, 'silent': False, 'subsample': 1.0, 'subsample_for_bin': 200000, 'subsample_freq': 0, 'verbose': 1, 'num_iterations': 1000, 'max_bin': 256}\n"
     ]
    },
    {
     "name": "stderr",
     "output_type": "stream",
     "text": [
      "D:\\anaconda\\lib\\site-packages\\lightgbm\\engine.py:148: UserWarning: Found `num_iterations` in params. Will use it instead of argument\n",
      "  warnings.warn(\"Found `{}` in params. Will use it instead of argument\".format(alias))\n"
     ]
    },
    {
     "name": "stdout",
     "output_type": "stream",
     "text": [
      "train score 1.000000\n"
     ]
    }
   ],
   "source": [
    "import xgboost as xgb\n",
    "import catboost as cb\n",
    "\n",
    "DATAID = 2\n",
    "PROTEIN_K = params_1[DATAID][0][0]\n",
    "RNA_K = params_1[DATAID][0][1]\n",
    "topRatio = params_1[DATAID][0][2]\n",
    "[data,T] = ReadData(DATAID,PROTEIN_K,RNA_K)\n",
    "[X,Y] = ToMatrix(data,'dense')\n",
    "[X_train,X_test,Y_train,Y_test] = SplitDataset(X,Y,generalize_ratio)\n",
    "[X_train,X_test,Y_train,Y_test] = \\\n",
    "    RandomForestDimensionalityReduction(X_train,X_test,Y_train,Y_test,topRatio=0.96)\n",
    "r1 = LGBTuning(X_train,X_test,Y_train,Y_test)"
   ]
  },
  {
   "cell_type": "code",
   "execution_count": 8,
   "metadata": {},
   "outputs": [
    {
     "data": {
      "text/plain": [
       "{'acc': 0.8673469387755102,\n",
       " 'auc': 0.8688489516474112,\n",
       " 'fpr': [0.0, 0.09259259259259259, 1.0],\n",
       " 'tpr': [0.0, 0.8181818181818182, 1.0],\n",
       " 'mcc': 0.7316185142343553,\n",
       " 'tnr': 0.9074074074074074,\n",
       " 'ppv': 0.8780487804878049,\n",
       " 'f_score': 0.8470588235294119,\n",
       " 'ap': 0.8000362007330649,\n",
       " 'brier': 0.1326530612244898,\n",
       " 'sensitivity': 0.8181818181818182}"
      ]
     },
     "execution_count": 8,
     "metadata": {},
     "output_type": "execute_result"
    }
   ],
   "source": [
    "scoreFunction(r1[0],r1[1])"
   ]
  },
  {
   "cell_type": "code",
   "execution_count": 9,
   "metadata": {},
   "outputs": [
    {
     "data": {
      "text/plain": [
       "StackingClassifier(cv=None,\n",
       "                   estimators=[('cb',\n",
       "                                DecisionTreeClassifier(ccp_alpha=0.0,\n",
       "                                                       class_weight=None,\n",
       "                                                       criterion='gini',\n",
       "                                                       max_depth=None,\n",
       "                                                       max_features=None,\n",
       "                                                       max_leaf_nodes=None,\n",
       "                                                       min_impurity_decrease=0.0,\n",
       "                                                       min_impurity_split=None,\n",
       "                                                       min_samples_leaf=1,\n",
       "                                                       min_samples_split=2,\n",
       "                                                       min_weight_fraction_leaf=0.0,\n",
       "                                                       presort='deprecated',\n",
       "                                                       random_state=None,\n",
       "                                                       splitter='best')),\n",
       "                               ('lgb...\n",
       "                                              verbosity=None))],\n",
       "                   final_estimator=LogisticRegressionCV(Cs=10,\n",
       "                                                        class_weight=None,\n",
       "                                                        cv=None, dual=False,\n",
       "                                                        fit_intercept=True,\n",
       "                                                        intercept_scaling=1.0,\n",
       "                                                        l1_ratios=None,\n",
       "                                                        max_iter=100,\n",
       "                                                        multi_class='auto',\n",
       "                                                        n_jobs=None,\n",
       "                                                        penalty='l2',\n",
       "                                                        random_state=None,\n",
       "                                                        refit=True,\n",
       "                                                        scoring=None,\n",
       "                                                        solver='lbfgs',\n",
       "                                                        tol=0.0001, verbose=0),\n",
       "                   n_jobs=None, passthrough=False, stack_method='auto',\n",
       "                   verbose=0)"
      ]
     },
     "execution_count": 9,
     "metadata": {},
     "output_type": "execute_result"
    }
   ],
   "source": [
    "estimators = [\n",
    "    ('cb', Tr.DecisionTreeClassifier()),\n",
    "    ('lgb', lgb.LGBMClassifier(objective='cross_entropy', ### {cross_entropy, binary}\n",
    "                             silent=False,\n",
    "                             verbose=1,\n",
    "                             random_state=seed,\n",
    "                             n_jobs=12,\n",
    "                            )),\n",
    "    ('xgb',xgb.XGBClassifier()),\n",
    "]\n",
    "clf = StackingClassifier(\n",
    "    estimators=estimators, final_estimator=LogisticRegressionCV()\n",
    ")\n",
    "\n",
    "clf.fit(X_train,Y_train)"
   ]
  },
  {
   "cell_type": "code",
   "execution_count": 10,
   "metadata": {},
   "outputs": [
    {
     "data": {
      "text/plain": [
       "{'acc': 0.8877551020408163,\n",
       " 'auc': 0.8937418513689701,\n",
       " 'fpr': [0.0, 0.05555555555555555, 1.0],\n",
       " 'tpr': [0.0, 0.8181818181818182, 1.0],\n",
       " 'mcc': 0.7749553232916889,\n",
       " 'tnr': 0.9444444444444444,\n",
       " 'ppv': 0.9230769230769231,\n",
       " 'f_score': 0.8674698795180724,\n",
       " 'ap': 0.8368774083059798,\n",
       " 'brier': 0.11224489795918367,\n",
       " 'sensitivity': 0.8181818181818182}"
      ]
     },
     "execution_count": 10,
     "metadata": {},
     "output_type": "execute_result"
    }
   ],
   "source": [
    "Y_pred = clf.predict(X_test)\n",
    "scoreFunction(Y_pred,Y_test)"
   ]
  }
 ],
 "metadata": {
  "kernelspec": {
   "display_name": "Python 3",
   "language": "python",
   "name": "python3"
  },
  "language_info": {
   "codemirror_mode": {
    "name": "ipython",
    "version": 3
   },
   "file_extension": ".py",
   "mimetype": "text/x-python",
   "name": "python",
   "nbconvert_exporter": "python",
   "pygments_lexer": "ipython3",
   "version": "3.7.6"
  }
 },
 "nbformat": 4,
 "nbformat_minor": 4
}

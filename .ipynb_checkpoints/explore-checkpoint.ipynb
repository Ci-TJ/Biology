{
 "cells": [
  {
   "cell_type": "code",
   "execution_count": 1,
   "metadata": {},
   "outputs": [
    {
     "name": "stderr",
     "output_type": "stream",
     "text": [
      "D:\\anaconda\\lib\\site-packages\\sklearn\\externals\\joblib\\__init__.py:15: DeprecationWarning: sklearn.externals.joblib is deprecated in 0.21 and will be removed in 0.23. Please import this functionality directly from joblib, which can be installed with: pip install joblib. If this warning is raised when loading pickled models, you may need to re-serialize those models with scikit-learn 0.21+.\n",
      "  warnings.warn(msg, category=DeprecationWarning)\n"
     ]
    }
   ],
   "source": [
    "from module.prepare import *\n",
    "from itertools import product\n",
    "from sklearn.externals import joblib\n",
    "# import pygraphviz"
   ]
  },
  {
   "cell_type": "code",
   "execution_count": null,
   "metadata": {},
   "outputs": [],
   "source": [
    "help(GridSearchCV)"
   ]
  },
  {
   "cell_type": "markdown",
   "metadata": {},
   "source": [
    "#### LGB"
   ]
  },
  {
   "cell_type": "code",
   "execution_count": 21,
   "metadata": {},
   "outputs": [],
   "source": [
    "def LGBTuning(Xtrain,Xtest,Ytrain,Ytest,tuning=True):\n",
    "    \n",
    "    clf = lgb.LGBMClassifier(objective='binary',\n",
    "                             silent=False,\n",
    "                             verbose=1,\n",
    "                             random_state=seed,\n",
    "                             n_jobs=4,\n",
    "#                              class_weight\n",
    "                            )\n",
    "    \n",
    "    gridParams = {\n",
    "        # step 1\n",
    "#     'learning_rate': [0.01,0.05,0.1],\n",
    "#     'boosting_type':['gbdt','goss'],\n",
    "#     'n_estimators': [50,200,500],\n",
    "#     'num_iterations':[200,400,1000],\n",
    "        # step 1 fixed\n",
    "    'learning_rate': [0.1], ### 0.1\n",
    "    'boosting_type':['gbdt'], ### goss>gbdt\n",
    "    'n_estimators': [300],\n",
    "    'num_iterations':[2000], ### 2000\n",
    "        # step 2\n",
    "    'num_leaves': [680], ### 680\n",
    "#     'max_bin':[127,255,511],\n",
    "        # step 2 fixed\n",
    "#     'num_leaves': [800],\n",
    "    'max_bin':[256],\n",
    "        # step 3\n",
    "#     'max_depth':[7,8,9,10], ### missed\n",
    "    'colsample_bytree' : [0.8], ### 0.8\n",
    "#     'subsample_freq':[1,2,3], ### 1\n",
    "#     'subsample' : [0.6,0.8,1], ### 1\n",
    "#     'reg_alpha' : [0,0.1,0.5], ### 0\n",
    "#     'reg_lambda' : [0,0.1,0.5], ### 0\n",
    "    }\n",
    "\n",
    "    print('default params\\n',clf.get_params())\n",
    "\n",
    "    if tuning:\n",
    "        grid = GridSearchCV(clf, gridParams,\n",
    "                        scoring='roc_auc',\n",
    "                        verbose=3,\n",
    "                        cv=5,\n",
    "                        n_jobs=1)\n",
    "        grid.fit(Xtrain,Ytrain)\n",
    "        return grid\n",
    "    else:\n",
    "        clf.class_weight = {1:sum(Ytrain==1),0:sum(Ytrain==0)}\n",
    "        clf.fit(Xtrain,Ytrain)\n",
    "        Ypred = clf.predict(Xtest)\n",
    "#         scores = clf.score(Xtest,Ytest)\n",
    "        return [Ypred,Ytest]"
   ]
  },
  {
   "cell_type": "code",
   "execution_count": 17,
   "metadata": {
    "jupyter": {
     "source_hidden": true
    }
   },
   "outputs": [],
   "source": [
    "def LGBTuningSingle(X_train,X_test,Y_train,Y_test,params):\n",
    "    \n",
    "    [X_train, X_test, Y_train, Y_test] = train_test_split(X_train,Y_train,test_size=0.3)\n",
    "    traindata = lgb.Dataset(X_train,Y_train)\n",
    "    testdata = lgb.Dataset(X_test,Y_test)\n",
    "    \n",
    "    params = {    \n",
    "                'boosting_type': 'gbdt',\n",
    "                'objective': 'binary',\n",
    "                'metric': 'roc-auc',\n",
    "                'n_estimators':800,\n",
    "                'learning_rate':0.08,\n",
    "                'num_leaves':500, \n",
    "                'max_depth': -1,   \n",
    "                'subsample': 0.9, \n",
    "                'colsample_bytree': 0.9, \n",
    "                'num_iterations':800,\n",
    "            }\n",
    "    \n",
    "    clf = lgb.LGBMClassifier(boosting_type=params['boosting_type'],\n",
    "                             max_depth=params['max_depth'],\n",
    "                             objective=params['objective'],\n",
    "                             num_leaves=params['num_leaves'],\n",
    "                             learning_rate=params['learning_rate'],\n",
    "                             subsample=params['subsample'],\n",
    "                             colsample_bytree=params['colsample_bytree'],\n",
    "                             metric=params['metric'],\n",
    "                             num_iterations=params['num_iterations'],\n",
    "                             n_estimators=params['n_estimators'],\n",
    "                             silent=False,\n",
    "                             verbose=4\n",
    "                            )\n",
    "\n",
    "    print('default params\\n',clf.get_params())\n",
    "\n",
    "    clf.fit(X_train,Y_train,verbose=4)\n",
    "    print('train',clf.score(X_train,Y_train))\n",
    "    print('test',clf.score(X_test,Y_test))\n",
    "    return clf"
   ]
  },
  {
   "cell_type": "code",
   "execution_count": 13,
   "metadata": {
    "jupyter": {
     "source_hidden": true
    }
   },
   "outputs": [],
   "source": [
    "def LGBFit(X_train,X_test,Y_train,Y_test):\n",
    "    lgb_train = lgb.Dataset(X_train, Y_train)\n",
    "    lgb_test = lgb.Dataset(X_test, Y_test, reference=lgb_train)\n",
    "\n",
    "    params = {    \n",
    "                'boosting_type': 'gbdt',\n",
    "                'objective': 'binary',\n",
    "                'metric': 'roc-auc',\n",
    "#                 'nthread':6,\n",
    "                'learning_rate':0.08,\n",
    "                'num_leaves':300, \n",
    "                'max_depth': -1,   \n",
    "                'subsample': 0.9, \n",
    "                'colsample_bytree': 0.9, \n",
    "                'feature_fraction': 1,\n",
    "#                 'bagging_freq': 8,\n",
    "# #                 'num_iterations':300,\n",
    "#                 'min_data_in_leaf':2,\n",
    "#                 'bagging_fraction': 0.8,\n",
    "#                 'num_boost_round':3000,\n",
    "            }\n",
    "\n",
    "    cv_results = lgb.cv(params, lgb_train, nfold=5  \n",
    "                        ,stratified=False, shuffle=True\n",
    "                        ,seed=seed,\n",
    "                        metrics=['auc','binary_logloss','mae']\n",
    "                        ,verbose_eval=1)\n",
    "    print('best n_estimators:', len(cv_results['auc-mean']))\n",
    "    for k,v in cv_results.items():\n",
    "        print('best cv score:', k, pd.Series(cv_results[k]).max())\n",
    "    return [lgb,cv_results]"
   ]
  },
  {
   "cell_type": "markdown",
   "metadata": {},
   "source": [
    "#### main"
   ]
  },
  {
   "cell_type": "code",
   "execution_count": 18,
   "metadata": {},
   "outputs": [],
   "source": [
    "hyper_params = GetConfigure()\n",
    "num_hyper_params = len(hyper_params)\n",
    "\n",
    "generalize_ratio = 0.3\n",
    "test_ratio = 0.3\n",
    "cv = 5\n",
    "mi_use = True\n",
    "\n",
    "tuning_mode = False\n",
    "if tuning_mode:\n",
    "    cv = 1\n",
    "\n",
    "cv_results = []"
   ]
  },
  {
   "cell_type": "code",
   "execution_count": 7,
   "metadata": {},
   "outputs": [
    {
     "data": {
      "text/plain": [
       "(20824,)"
      ]
     },
     "execution_count": 7,
     "metadata": {},
     "output_type": "execute_result"
    }
   ],
   "source": []
  },
  {
   "cell_type": "code",
   "execution_count": null,
   "metadata": {
    "scrolled": true,
    "slideshow": {
     "slide_type": "-"
    }
   },
   "outputs": [
    {
     "name": "stdout",
     "output_type": "stream",
     "text": [
      "=============RETRIEVE TRIAN DATA=================\n",
      "# DEBUG: # DEBUG: **************new dl 0***************\n",
      "# DEBUG: READ SEQ FROM FILE\n",
      "# DEBUG: READ CLUSTER FROM FILE\n",
      "regex error \n",
      "regex error \n",
      "# DEBUG: READ PAIR FROM FILE\n",
      "read line error \n",
      "# DEBUG: GENERATE NEGATIVE PAIR\n",
      "# DEBUG: negative pair number 10412\n",
      "INFO::count of negative pairs10412\n",
      "# DEBUG: PAIR UNION\n",
      "# DEBUG: EXTRACT FEATURES--PROTEIN\n",
      "# DEBUG: EXTRACT FEATURES--RNA\n",
      "# DEBUG: K-MER CALCULATION\n",
      "# DEBUG: FEATURE UNION\n",
      "# DEBUG: GARBAGE COLLECTION\n",
      "MATRIX TRANSFORMATION\n",
      "data shape 20824 8984\n",
      "dimension ratio 0.807881 dimension remained 7258\n",
      "INFO::mutual information sum 35.657687 select 0.988610\n",
      "INFO::MI params 0.000500\n",
      "rf raw data fit score 1.000000\n",
      "select top K features importances 0.9835707145277292\n",
      "dimension remained 3500\n",
      "default params\n",
      " {'boosting_type': 'gbdt', 'class_weight': None, 'colsample_bytree': 1.0, 'importance_type': 'split', 'learning_rate': 0.1, 'max_depth': -1, 'min_child_samples': 20, 'min_child_weight': 0.001, 'min_split_gain': 0.0, 'n_estimators': 100, 'n_jobs': 4, 'num_leaves': 31, 'objective': 'binary', 'random_state': 42, 'reg_alpha': 0.0, 'reg_lambda': 0.0, 'silent': False, 'subsample': 1.0, 'subsample_for_bin': 200000, 'subsample_freq': 0, 'verbose': 1}\n",
      "data shape 20824 8984\n",
      "dimension ratio 0.813224 dimension remained 7306\n",
      "INFO::mutual information sum 35.940096 select 0.989309\n",
      "INFO::MI params 0.000500\n",
      "rf raw data fit score 1.000000\n",
      "select top K features importances 0.9841180629120002\n",
      "dimension remained 3500\n",
      "default params\n",
      " {'boosting_type': 'gbdt', 'class_weight': None, 'colsample_bytree': 1.0, 'importance_type': 'split', 'learning_rate': 0.1, 'max_depth': -1, 'min_child_samples': 20, 'min_child_weight': 0.001, 'min_split_gain': 0.0, 'n_estimators': 100, 'n_jobs': 4, 'num_leaves': 31, 'objective': 'binary', 'random_state': 42, 'reg_alpha': 0.0, 'reg_lambda': 0.0, 'silent': False, 'subsample': 1.0, 'subsample_for_bin': 200000, 'subsample_freq': 0, 'verbose': 1}\n",
      "data shape 20824 8984\n",
      "dimension ratio 0.808660 dimension remained 7265\n",
      "INFO::mutual information sum 35.531021 select 0.988684\n",
      "INFO::MI params 0.000500\n",
      "rf raw data fit score 1.000000\n",
      "select top K features importances 0.9834048808070133\n",
      "dimension remained 3500\n",
      "default params\n",
      " {'boosting_type': 'gbdt', 'class_weight': None, 'colsample_bytree': 1.0, 'importance_type': 'split', 'learning_rate': 0.1, 'max_depth': -1, 'min_child_samples': 20, 'min_child_weight': 0.001, 'min_split_gain': 0.0, 'n_estimators': 100, 'n_jobs': 4, 'num_leaves': 31, 'objective': 'binary', 'random_state': 42, 'reg_alpha': 0.0, 'reg_lambda': 0.0, 'silent': False, 'subsample': 1.0, 'subsample_for_bin': 200000, 'subsample_freq': 0, 'verbose': 1}\n",
      "data shape 20824 8984\n",
      "dimension ratio 0.810552 dimension remained 7282\n",
      "INFO::mutual information sum 35.012161 select 0.988812\n",
      "INFO::MI params 0.000500\n"
     ]
    }
   ],
   "source": [
    "[data,T] = ReadData()\n",
    "\n",
    "# for i in \n",
    "for batch in range(cv):\n",
    "    INFO('cross validation batch %d'%batch)\n",
    "    if mi_use==True:\n",
    "        arr = ToMatrix(data,'sparse')\n",
    "        [X_train,X_test,Y_train,Y_test] = MutualInformationFeatureSelection2(arr,data,generalize_ratio)\n",
    "        [X_train,X_test,Y_train,Y_test] = \\\n",
    "            RandomForestDimensionalityReduction(X_train,X_test,Y_train,Y_test)\n",
    "    else:\n",
    "        [X,Y] = ToMatrix(data,'dense')\n",
    "        [X_train,X_test,Y_train,Y_test] = SplitDataset(X,Y,generalize_ratio)\n",
    "        [X_train,X_test,Y_train,Y_test] = \\\n",
    "            RandomForestDimensionalityReduction(X_train,X_test,Y_train,Y_test)\n",
    "    if tuning_mode:\n",
    "        [Xtrain,Ytrain] = merge_train_test(X_train,X_test,Y_train,Y_test)\n",
    "        grid = LGBTuning(Xtrain,Ytrain,[],[],True)\n",
    "        cv_results.append(grid)\n",
    "    else:\n",
    "        scores = LGBTuning(X_train,X_test,Y_train,Y_test,False)\n",
    "        cv_results.append(scores)\n"
   ]
  },
  {
   "cell_type": "markdown",
   "metadata": {},
   "source": [
    "#### test"
   ]
  },
  {
   "cell_type": "code",
   "execution_count": null,
   "metadata": {
    "slideshow": {
     "slide_type": "-"
    }
   },
   "outputs": [],
   "source": [
    "# DecisionTreePrefit(X_train,X_test,Y_train,Y_test)\n",
    "[lgb,cv_results] = LGBFit(X_train,X_test,Y_train,Y_test)\n",
    "WriteResult(DATASET,cv_results,conf,commons)"
   ]
  },
  {
   "cell_type": "markdown",
   "metadata": {},
   "source": [
    "#### tuning"
   ]
  },
  {
   "cell_type": "code",
   "execution_count": null,
   "metadata": {},
   "outputs": [],
   "source": [
    "clf1 = LGBTuningSingle(X_train,X_test,Y_train,Y_test)"
   ]
  },
  {
   "cell_type": "code",
   "execution_count": null,
   "metadata": {
    "scrolled": true
   },
   "outputs": [],
   "source": [
    "clf2 = LGBTuning(X_train,X_test,Y_train,Y_test)"
   ]
  },
  {
   "cell_type": "code",
   "execution_count": null,
   "metadata": {},
   "outputs": [],
   "source": [
    "a = np.vstack([np.array(params),np.array(rank),np.array(score)])\n",
    "\n",
    "a = a.T\n",
    "\n",
    "a = np.array( list(sorted(a,key=lambda x:x[2],reverse=True)) )\n",
    "\n",
    "a"
   ]
  },
  {
   "cell_type": "code",
   "execution_count": 32,
   "metadata": {},
   "outputs": [
    {
     "data": {
      "text/plain": [
       "['mean_fit_time',\n",
       " 'std_fit_time',\n",
       " 'mean_score_time',\n",
       " 'std_score_time',\n",
       " 'param_boosting_type',\n",
       " 'param_learning_rate',\n",
       " 'param_n_estimators',\n",
       " 'param_num_iterations',\n",
       " 'params',\n",
       " 'split0_test_score',\n",
       " 'split1_test_score',\n",
       " 'split2_test_score',\n",
       " 'split3_test_score',\n",
       " 'split4_test_score',\n",
       " 'mean_test_score',\n",
       " 'std_test_score',\n",
       " 'rank_test_score']"
      ]
     },
     "execution_count": 32,
     "metadata": {},
     "output_type": "execute_result"
    }
   ],
   "source": [
    "list(grid.cv_results_.keys())"
   ]
  },
  {
   "cell_type": "code",
   "execution_count": 16,
   "metadata": {},
   "outputs": [
    {
     "data": {
      "image/png": "[encoded data removed]",
      "text/plain": [
       "<Figure size 432x288 with 1 Axes>"
      ]
     },
     "metadata": {
      "needs_background": "light"
     },
     "output_type": "display_data"
    },
    {
     "data": {
      "text/plain": [
       "array([[0.9839204254269207,\n",
       "        {'boosting_type': 'gbdt', 'colsample_bytree': 0.8, 'learning_rate': 0.1, 'max_bin': 256, 'n_estimators': 300, 'num_iterations': 2000, 'num_leaves': 680, 'reg_alpha': 0, 'reg_lambda': 0, 'subsample': 1, 'subsample_freq': 1}],\n",
       "       [0.9839204254269207,\n",
       "        {'boosting_type': 'gbdt', 'colsample_bytree': 0.8, 'learning_rate': 0.1, 'max_bin': 256, 'n_estimators': 300, 'num_iterations': 2000, 'num_leaves': 680, 'reg_alpha': 0, 'reg_lambda': 0, 'subsample': 1, 'subsample_freq': 2}],\n",
       "       [0.9839204254269207,\n",
       "        {'boosting_type': 'gbdt', 'colsample_bytree': 0.8, 'learning_rate': 0.1, 'max_bin': 256, 'n_estimators': 300, 'num_iterations': 2000, 'num_leaves': 680, 'reg_alpha': 0, 'reg_lambda': 0, 'subsample': 1, 'subsample_freq': 3}],\n",
       "       [0.9836787353700045,\n",
       "        {'boosting_type': 'gbdt', 'colsample_bytree': 0.8, 'learning_rate': 0.1, 'max_bin': 256, 'n_estimators': 300, 'num_iterations': 2000, 'num_leaves': 680, 'reg_alpha': 0, 'reg_lambda': 0, 'subsample': 0.8, 'subsample_freq': 1}],\n",
       "       [0.9835604665889884,\n",
       "        {'boosting_type': 'gbdt', 'colsample_bytree': 0.8, 'learning_rate': 0.1, 'max_bin': 256, 'n_estimators': 300, 'num_iterations': 2000, 'num_leaves': 680, 'reg_alpha': 0, 'reg_lambda': 0, 'subsample': 0.8, 'subsample_freq': 2}],\n",
       "       [0.9834190123561067,\n",
       "        {'boosting_type': 'gbdt', 'colsample_bytree': 0.8, 'learning_rate': 0.1, 'max_bin': 256, 'n_estimators': 300, 'num_iterations': 2000, 'num_leaves': 680, 'reg_alpha': 0, 'reg_lambda': 0.1, 'subsample': 1, 'subsample_freq': 1}],\n",
       "       [0.9834190123561067,\n",
       "        {'boosting_type': 'gbdt', 'colsample_bytree': 0.8, 'learning_rate': 0.1, 'max_bin': 256, 'n_estimators': 300, 'num_iterations': 2000, 'num_leaves': 680, 'reg_alpha': 0, 'reg_lambda': 0.1, 'subsample': 1, 'subsample_freq': 2}],\n",
       "       [0.9834190123561067,\n",
       "        {'boosting_type': 'gbdt', 'colsample_bytree': 0.8, 'learning_rate': 0.1, 'max_bin': 256, 'n_estimators': 300, 'num_iterations': 2000, 'num_leaves': 680, 'reg_alpha': 0, 'reg_lambda': 0.1, 'subsample': 1, 'subsample_freq': 3}],\n",
       "       [0.9834015195186032,\n",
       "        {'boosting_type': 'gbdt', 'colsample_bytree': 0.8, 'learning_rate': 0.1, 'max_bin': 256, 'n_estimators': 300, 'num_iterations': 2000, 'num_leaves': 680, 'reg_alpha': 0, 'reg_lambda': 0.1, 'subsample': 0.8, 'subsample_freq': 1}],\n",
       "       [0.9833246382092116,\n",
       "        {'boosting_type': 'gbdt', 'colsample_bytree': 0.8, 'learning_rate': 0.1, 'max_bin': 256, 'n_estimators': 300, 'num_iterations': 2000, 'num_leaves': 680, 'reg_alpha': 0, 'reg_lambda': 0, 'subsample': 0.6, 'subsample_freq': 1}],\n",
       "       [0.9832060897017151,\n",
       "        {'boosting_type': 'gbdt', 'colsample_bytree': 0.8, 'learning_rate': 0.1, 'max_bin': 256, 'n_estimators': 300, 'num_iterations': 2000, 'num_leaves': 680, 'reg_alpha': 0, 'reg_lambda': 0.5, 'subsample': 0.8, 'subsample_freq': 3}],\n",
       "       [0.9831478980676206,\n",
       "        {'boosting_type': 'gbdt', 'colsample_bytree': 0.8, 'learning_rate': 0.1, 'max_bin': 256, 'n_estimators': 300, 'num_iterations': 2000, 'num_leaves': 680, 'reg_alpha': 0, 'reg_lambda': 0.1, 'subsample': 0.8, 'subsample_freq': 2}],\n",
       "       [0.9831471162685389,\n",
       "        {'boosting_type': 'gbdt', 'colsample_bytree': 0.8, 'learning_rate': 0.1, 'max_bin': 256, 'n_estimators': 300, 'num_iterations': 2000, 'num_leaves': 680, 'reg_alpha': 0, 'reg_lambda': 0.5, 'subsample': 1, 'subsample_freq': 1}],\n",
       "       [0.9831471162685389,\n",
       "        {'boosting_type': 'gbdt', 'colsample_bytree': 0.8, 'learning_rate': 0.1, 'max_bin': 256, 'n_estimators': 300, 'num_iterations': 2000, 'num_leaves': 680, 'reg_alpha': 0, 'reg_lambda': 0.5, 'subsample': 1, 'subsample_freq': 2}],\n",
       "       [0.9831471162685389,\n",
       "        {'boosting_type': 'gbdt', 'colsample_bytree': 0.8, 'learning_rate': 0.1, 'max_bin': 256, 'n_estimators': 300, 'num_iterations': 2000, 'num_leaves': 680, 'reg_alpha': 0, 'reg_lambda': 0.5, 'subsample': 1, 'subsample_freq': 3}],\n",
       "       [0.9831419975684941,\n",
       "        {'boosting_type': 'gbdt', 'colsample_bytree': 0.8, 'learning_rate': 0.1, 'max_bin': 256, 'n_estimators': 300, 'num_iterations': 2000, 'num_leaves': 680, 'reg_alpha': 0, 'reg_lambda': 0.1, 'subsample': 0.8, 'subsample_freq': 3}],\n",
       "       [0.9831403152897661,\n",
       "        {'boosting_type': 'gbdt', 'colsample_bytree': 0.8, 'learning_rate': 0.1, 'max_bin': 256, 'n_estimators': 300, 'num_iterations': 2000, 'num_leaves': 680, 'reg_alpha': 0, 'reg_lambda': 0.5, 'subsample': 0.8, 'subsample_freq': 2}],\n",
       "       [0.9831318018915213,\n",
       "        {'boosting_type': 'gbdt', 'colsample_bytree': 0.8, 'learning_rate': 0.1, 'max_bin': 256, 'n_estimators': 300, 'num_iterations': 2000, 'num_leaves': 680, 'reg_alpha': 0.1, 'reg_lambda': 0.1, 'subsample': 1, 'subsample_freq': 1}],\n",
       "       [0.9831318018915213,\n",
       "        {'boosting_type': 'gbdt', 'colsample_bytree': 0.8, 'learning_rate': 0.1, 'max_bin': 256, 'n_estimators': 300, 'num_iterations': 2000, 'num_leaves': 680, 'reg_alpha': 0.1, 'reg_lambda': 0.1, 'subsample': 1, 'subsample_freq': 2}],\n",
       "       [0.9831318018915213,\n",
       "        {'boosting_type': 'gbdt', 'colsample_bytree': 0.8, 'learning_rate': 0.1, 'max_bin': 256, 'n_estimators': 300, 'num_iterations': 2000, 'num_leaves': 680, 'reg_alpha': 0.1, 'reg_lambda': 0.1, 'subsample': 1, 'subsample_freq': 3}],\n",
       "       [0.983110413235495,\n",
       "        {'boosting_type': 'gbdt', 'colsample_bytree': 0.8, 'learning_rate': 0.1, 'max_bin': 256, 'n_estimators': 300, 'num_iterations': 2000, 'num_leaves': 680, 'reg_alpha': 0, 'reg_lambda': 0.5, 'subsample': 0.8, 'subsample_freq': 1}],\n",
       "       [0.983103166523616,\n",
       "        {'boosting_type': 'gbdt', 'colsample_bytree': 0.8, 'learning_rate': 0.1, 'max_bin': 256, 'n_estimators': 300, 'num_iterations': 2000, 'num_leaves': 680, 'reg_alpha': 0.1, 'reg_lambda': 0.1, 'subsample': 0.8, 'subsample_freq': 1}],\n",
       "       [0.9830563528322009,\n",
       "        {'boosting_type': 'gbdt', 'colsample_bytree': 0.8, 'learning_rate': 0.1, 'max_bin': 256, 'n_estimators': 300, 'num_iterations': 2000, 'num_leaves': 680, 'reg_alpha': 0, 'reg_lambda': 0.1, 'subsample': 0.6, 'subsample_freq': 1}],\n",
       "       [0.9829679812333296,\n",
       "        {'boosting_type': 'gbdt', 'colsample_bytree': 0.8, 'learning_rate': 0.1, 'max_bin': 256, 'n_estimators': 300, 'num_iterations': 2000, 'num_leaves': 680, 'reg_alpha': 0.1, 'reg_lambda': 0, 'subsample': 0.8, 'subsample_freq': 3}],\n",
       "       [0.9829669855700551,\n",
       "        {'boosting_type': 'gbdt', 'colsample_bytree': 0.8, 'learning_rate': 0.1, 'max_bin': 256, 'n_estimators': 300, 'num_iterations': 2000, 'num_leaves': 680, 'reg_alpha': 0.1, 'reg_lambda': 0, 'subsample': 1, 'subsample_freq': 1}],\n",
       "       [0.9829669855700551,\n",
       "        {'boosting_type': 'gbdt', 'colsample_bytree': 0.8, 'learning_rate': 0.1, 'max_bin': 256, 'n_estimators': 300, 'num_iterations': 2000, 'num_leaves': 680, 'reg_alpha': 0.1, 'reg_lambda': 0, 'subsample': 1, 'subsample_freq': 2}],\n",
       "       [0.9829669855700551,\n",
       "        {'boosting_type': 'gbdt', 'colsample_bytree': 0.8, 'learning_rate': 0.1, 'max_bin': 256, 'n_estimators': 300, 'num_iterations': 2000, 'num_leaves': 680, 'reg_alpha': 0.1, 'reg_lambda': 0, 'subsample': 1, 'subsample_freq': 3}],\n",
       "       [0.9829136331088394,\n",
       "        {'boosting_type': 'gbdt', 'colsample_bytree': 0.8, 'learning_rate': 0.1, 'max_bin': 256, 'n_estimators': 300, 'num_iterations': 2000, 'num_leaves': 680, 'reg_alpha': 0.1, 'reg_lambda': 0, 'subsample': 0.8, 'subsample_freq': 2}],\n",
       "       [0.9828335106839524,\n",
       "        {'boosting_type': 'gbdt', 'colsample_bytree': 0.8, 'learning_rate': 0.1, 'max_bin': 256, 'n_estimators': 300, 'num_iterations': 2000, 'num_leaves': 680, 'reg_alpha': 0.5, 'reg_lambda': 0.1, 'subsample': 0.8, 'subsample_freq': 1}],\n",
       "       [0.9828316881544289,\n",
       "        {'boosting_type': 'gbdt', 'colsample_bytree': 0.8, 'learning_rate': 0.1, 'max_bin': 256, 'n_estimators': 300, 'num_iterations': 2000, 'num_leaves': 680, 'reg_alpha': 0.1, 'reg_lambda': 0.1, 'subsample': 0.8, 'subsample_freq': 2}],\n",
       "       [0.9828269718920055,\n",
       "        {'boosting_type': 'gbdt', 'colsample_bytree': 0.8, 'learning_rate': 0.1, 'max_bin': 256, 'n_estimators': 300, 'num_iterations': 2000, 'num_leaves': 680, 'reg_alpha': 0.1, 'reg_lambda': 0.1, 'subsample': 0.6, 'subsample_freq': 1}],\n",
       "       [0.9828204744688392,\n",
       "        {'boosting_type': 'gbdt', 'colsample_bytree': 0.8, 'learning_rate': 0.1, 'max_bin': 256, 'n_estimators': 300, 'num_iterations': 2000, 'num_leaves': 680, 'reg_alpha': 0.1, 'reg_lambda': 0, 'subsample': 0.8, 'subsample_freq': 1}],\n",
       "       [0.9827924417829409,\n",
       "        {'boosting_type': 'gbdt', 'colsample_bytree': 0.8, 'learning_rate': 0.1, 'max_bin': 256, 'n_estimators': 300, 'num_iterations': 2000, 'num_leaves': 680, 'reg_alpha': 0.1, 'reg_lambda': 0.5, 'subsample': 1, 'subsample_freq': 1}],\n",
       "       [0.9827924417829409,\n",
       "        {'boosting_type': 'gbdt', 'colsample_bytree': 0.8, 'learning_rate': 0.1, 'max_bin': 256, 'n_estimators': 300, 'num_iterations': 2000, 'num_leaves': 680, 'reg_alpha': 0.1, 'reg_lambda': 0.5, 'subsample': 1, 'subsample_freq': 2}],\n",
       "       [0.9827924417829409,\n",
       "        {'boosting_type': 'gbdt', 'colsample_bytree': 0.8, 'learning_rate': 0.1, 'max_bin': 256, 'n_estimators': 300, 'num_iterations': 2000, 'num_leaves': 680, 'reg_alpha': 0.1, 'reg_lambda': 0.5, 'subsample': 1, 'subsample_freq': 3}],\n",
       "       [0.9827496554574551,\n",
       "        {'boosting_type': 'gbdt', 'colsample_bytree': 0.8, 'learning_rate': 0.1, 'max_bin': 256, 'n_estimators': 300, 'num_iterations': 2000, 'num_leaves': 680, 'reg_alpha': 0.1, 'reg_lambda': 0.5, 'subsample': 0.8, 'subsample_freq': 3}],\n",
       "       [0.9827288437718974,\n",
       "        {'boosting_type': 'gbdt', 'colsample_bytree': 0.8, 'learning_rate': 0.1, 'max_bin': 256, 'n_estimators': 300, 'num_iterations': 2000, 'num_leaves': 680, 'reg_alpha': 0, 'reg_lambda': 0.5, 'subsample': 0.6, 'subsample_freq': 2}],\n",
       "       [0.9827216682373524,\n",
       "        {'boosting_type': 'gbdt', 'colsample_bytree': 0.8, 'learning_rate': 0.1, 'max_bin': 256, 'n_estimators': 300, 'num_iterations': 2000, 'num_leaves': 680, 'reg_alpha': 0, 'reg_lambda': 0.5, 'subsample': 0.6, 'subsample_freq': 1}],\n",
       "       [0.9827199043726572,\n",
       "        {'boosting_type': 'gbdt', 'colsample_bytree': 0.8, 'learning_rate': 0.1, 'max_bin': 256, 'n_estimators': 300, 'num_iterations': 2000, 'num_leaves': 680, 'reg_alpha': 0.1, 'reg_lambda': 0.1, 'subsample': 0.8, 'subsample_freq': 3}],\n",
       "       [0.9827166820812855,\n",
       "        {'boosting_type': 'gbdt', 'colsample_bytree': 0.8, 'learning_rate': 0.1, 'max_bin': 256, 'n_estimators': 300, 'num_iterations': 2000, 'num_leaves': 680, 'reg_alpha': 0.1, 'reg_lambda': 0.5, 'subsample': 0.6, 'subsample_freq': 3}],\n",
       "       [0.9827098807924683,\n",
       "        {'boosting_type': 'gbdt', 'colsample_bytree': 0.8, 'learning_rate': 0.1, 'max_bin': 256, 'n_estimators': 300, 'num_iterations': 2000, 'num_leaves': 680, 'reg_alpha': 0.5, 'reg_lambda': 0.5, 'subsample': 1, 'subsample_freq': 1}],\n",
       "       [0.9827098807924683,\n",
       "        {'boosting_type': 'gbdt', 'colsample_bytree': 0.8, 'learning_rate': 0.1, 'max_bin': 256, 'n_estimators': 300, 'num_iterations': 2000, 'num_leaves': 680, 'reg_alpha': 0.5, 'reg_lambda': 0.5, 'subsample': 1, 'subsample_freq': 2}],\n",
       "       [0.9827098807924683,\n",
       "        {'boosting_type': 'gbdt', 'colsample_bytree': 0.8, 'learning_rate': 0.1, 'max_bin': 256, 'n_estimators': 300, 'num_iterations': 2000, 'num_leaves': 680, 'reg_alpha': 0.5, 'reg_lambda': 0.5, 'subsample': 1, 'subsample_freq': 3}],\n",
       "       [0.9827069683240288,\n",
       "        {'boosting_type': 'gbdt', 'colsample_bytree': 0.8, 'learning_rate': 0.1, 'max_bin': 256, 'n_estimators': 300, 'num_iterations': 2000, 'num_leaves': 680, 'reg_alpha': 0, 'reg_lambda': 0.1, 'subsample': 0.6, 'subsample_freq': 2}],\n",
       "       [0.9826669584239321,\n",
       "        {'boosting_type': 'gbdt', 'colsample_bytree': 0.8, 'learning_rate': 0.1, 'max_bin': 256, 'n_estimators': 300, 'num_iterations': 2000, 'num_leaves': 680, 'reg_alpha': 0.1, 'reg_lambda': 0, 'subsample': 0.6, 'subsample_freq': 1}],\n",
       "       [0.9826595681836454,\n",
       "        {'boosting_type': 'gbdt', 'colsample_bytree': 0.8, 'learning_rate': 0.1, 'max_bin': 256, 'n_estimators': 300, 'num_iterations': 2000, 'num_leaves': 680, 'reg_alpha': 0.1, 'reg_lambda': 0.5, 'subsample': 0.6, 'subsample_freq': 1}],\n",
       "       [0.9826592422826969,\n",
       "        {'boosting_type': 'gbdt', 'colsample_bytree': 0.8, 'learning_rate': 0.1, 'max_bin': 256, 'n_estimators': 300, 'num_iterations': 2000, 'num_leaves': 680, 'reg_alpha': 0.5, 'reg_lambda': 0.1, 'subsample': 0.8, 'subsample_freq': 2}],\n",
       "       [0.9826591422047961,\n",
       "        {'boosting_type': 'gbdt', 'colsample_bytree': 0.8, 'learning_rate': 0.1, 'max_bin': 256, 'n_estimators': 300, 'num_iterations': 2000, 'num_leaves': 680, 'reg_alpha': 0.1, 'reg_lambda': 0.5, 'subsample': 0.8, 'subsample_freq': 1}],\n",
       "       [0.9826500397886434,\n",
       "        {'boosting_type': 'gbdt', 'colsample_bytree': 0.8, 'learning_rate': 0.1, 'max_bin': 256, 'n_estimators': 300, 'num_iterations': 2000, 'num_leaves': 680, 'reg_alpha': 0, 'reg_lambda': 0.1, 'subsample': 0.6, 'subsample_freq': 3}],\n",
       "       [0.9826482589379449,\n",
       "        {'boosting_type': 'gbdt', 'colsample_bytree': 0.8, 'learning_rate': 0.1, 'max_bin': 256, 'n_estimators': 300, 'num_iterations': 2000, 'num_leaves': 680, 'reg_alpha': 0.5, 'reg_lambda': 0, 'subsample': 0.8, 'subsample_freq': 1}],\n",
       "       [0.9826480033284892,\n",
       "        {'boosting_type': 'gbdt', 'colsample_bytree': 0.8, 'learning_rate': 0.1, 'max_bin': 256, 'n_estimators': 300, 'num_iterations': 2000, 'num_leaves': 680, 'reg_alpha': 0.5, 'reg_lambda': 0.5, 'subsample': 0.8, 'subsample_freq': 3}],\n",
       "       [0.9825720969979821,\n",
       "        {'boosting_type': 'gbdt', 'colsample_bytree': 0.8, 'learning_rate': 0.1, 'max_bin': 256, 'n_estimators': 300, 'num_iterations': 2000, 'num_leaves': 680, 'reg_alpha': 0.1, 'reg_lambda': 0.5, 'subsample': 0.8, 'subsample_freq': 2}],\n",
       "       [0.9825653040360715,\n",
       "        {'boosting_type': 'gbdt', 'colsample_bytree': 0.8, 'learning_rate': 0.1, 'max_bin': 256, 'n_estimators': 300, 'num_iterations': 2000, 'num_leaves': 680, 'reg_alpha': 0.5, 'reg_lambda': 0.5, 'subsample': 0.8, 'subsample_freq': 2}],\n",
       "       [0.9825278968700663,\n",
       "        {'boosting_type': 'gbdt', 'colsample_bytree': 0.8, 'learning_rate': 0.1, 'max_bin': 256, 'n_estimators': 300, 'num_iterations': 2000, 'num_leaves': 680, 'reg_alpha': 0.5, 'reg_lambda': 0, 'subsample': 1, 'subsample_freq': 1}],\n",
       "       [0.9825278968700663,\n",
       "        {'boosting_type': 'gbdt', 'colsample_bytree': 0.8, 'learning_rate': 0.1, 'max_bin': 256, 'n_estimators': 300, 'num_iterations': 2000, 'num_leaves': 680, 'reg_alpha': 0.5, 'reg_lambda': 0, 'subsample': 1, 'subsample_freq': 2}],\n",
       "       [0.9825278968700663,\n",
       "        {'boosting_type': 'gbdt', 'colsample_bytree': 0.8, 'learning_rate': 0.1, 'max_bin': 256, 'n_estimators': 300, 'num_iterations': 2000, 'num_leaves': 680, 'reg_alpha': 0.5, 'reg_lambda': 0, 'subsample': 1, 'subsample_freq': 3}],\n",
       "       [0.9824988132444074,\n",
       "        {'boosting_type': 'gbdt', 'colsample_bytree': 0.8, 'learning_rate': 0.1, 'max_bin': 256, 'n_estimators': 300, 'num_iterations': 2000, 'num_leaves': 680, 'reg_alpha': 0.5, 'reg_lambda': 0, 'subsample': 0.8, 'subsample_freq': 3}],\n",
       "       [0.9824529779423653,\n",
       "        {'boosting_type': 'gbdt', 'colsample_bytree': 0.8, 'learning_rate': 0.1, 'max_bin': 256, 'n_estimators': 300, 'num_iterations': 2000, 'num_leaves': 680, 'reg_alpha': 0, 'reg_lambda': 0.5, 'subsample': 0.6, 'subsample_freq': 3}],\n",
       "       [0.9824361550000636,\n",
       "        {'boosting_type': 'gbdt', 'colsample_bytree': 0.8, 'learning_rate': 0.1, 'max_bin': 256, 'n_estimators': 300, 'num_iterations': 2000, 'num_leaves': 680, 'reg_alpha': 0.1, 'reg_lambda': 0, 'subsample': 0.6, 'subsample_freq': 2}],\n",
       "       [0.9823844640667476,\n",
       "        {'boosting_type': 'gbdt', 'colsample_bytree': 0.8, 'learning_rate': 0.1, 'max_bin': 256, 'n_estimators': 300, 'num_iterations': 2000, 'num_leaves': 680, 'reg_alpha': 0.5, 'reg_lambda': 0.1, 'subsample': 0.8, 'subsample_freq': 3}],\n",
       "       [0.9823331658268011,\n",
       "        {'boosting_type': 'gbdt', 'colsample_bytree': 0.8, 'learning_rate': 0.1, 'max_bin': 256, 'n_estimators': 300, 'num_iterations': 2000, 'num_leaves': 680, 'reg_alpha': 0.1, 'reg_lambda': 0.1, 'subsample': 0.6, 'subsample_freq': 2}],\n",
       "       [0.9823305708659655,\n",
       "        {'boosting_type': 'gbdt', 'colsample_bytree': 0.8, 'learning_rate': 0.1, 'max_bin': 256, 'n_estimators': 300, 'num_iterations': 2000, 'num_leaves': 680, 'reg_alpha': 0.5, 'reg_lambda': 0.5, 'subsample': 0.8, 'subsample_freq': 1}],\n",
       "       [0.9822674794231673,\n",
       "        {'boosting_type': 'gbdt', 'colsample_bytree': 0.8, 'learning_rate': 0.1, 'max_bin': 256, 'n_estimators': 300, 'num_iterations': 2000, 'num_leaves': 680, 'reg_alpha': 0.5, 'reg_lambda': 0.1, 'subsample': 1, 'subsample_freq': 1}],\n",
       "       [0.9822674794231673,\n",
       "        {'boosting_type': 'gbdt', 'colsample_bytree': 0.8, 'learning_rate': 0.1, 'max_bin': 256, 'n_estimators': 300, 'num_iterations': 2000, 'num_leaves': 680, 'reg_alpha': 0.5, 'reg_lambda': 0.1, 'subsample': 1, 'subsample_freq': 2}],\n",
       "       [0.9822674794231673,\n",
       "        {'boosting_type': 'gbdt', 'colsample_bytree': 0.8, 'learning_rate': 0.1, 'max_bin': 256, 'n_estimators': 300, 'num_iterations': 2000, 'num_leaves': 680, 'reg_alpha': 0.5, 'reg_lambda': 0.1, 'subsample': 1, 'subsample_freq': 3}],\n",
       "       [0.9822633719772009,\n",
       "        {'boosting_type': 'gbdt', 'colsample_bytree': 0.8, 'learning_rate': 0.1, 'max_bin': 256, 'n_estimators': 300, 'num_iterations': 2000, 'num_leaves': 680, 'reg_alpha': 0.5, 'reg_lambda': 0, 'subsample': 0.8, 'subsample_freq': 2}],\n",
       "       [0.9822431460983768,\n",
       "        {'boosting_type': 'gbdt', 'colsample_bytree': 0.8, 'learning_rate': 0.1, 'max_bin': 256, 'n_estimators': 300, 'num_iterations': 2000, 'num_leaves': 680, 'reg_alpha': 0.1, 'reg_lambda': 0.5, 'subsample': 0.6, 'subsample_freq': 2}],\n",
       "       [0.9822021310343596,\n",
       "        {'boosting_type': 'gbdt', 'colsample_bytree': 0.8, 'learning_rate': 0.1, 'max_bin': 256, 'n_estimators': 300, 'num_iterations': 2000, 'num_leaves': 680, 'reg_alpha': 0.1, 'reg_lambda': 0, 'subsample': 0.6, 'subsample_freq': 3}],\n",
       "       [0.982194831703518,\n",
       "        {'boosting_type': 'gbdt', 'colsample_bytree': 0.8, 'learning_rate': 0.1, 'max_bin': 256, 'n_estimators': 300, 'num_iterations': 2000, 'num_leaves': 680, 'reg_alpha': 0.5, 'reg_lambda': 0, 'subsample': 0.6, 'subsample_freq': 3}],\n",
       "       [0.9821873381298644,\n",
       "        {'boosting_type': 'gbdt', 'colsample_bytree': 0.8, 'learning_rate': 0.1, 'max_bin': 256, 'n_estimators': 300, 'num_iterations': 2000, 'num_leaves': 680, 'reg_alpha': 0.5, 'reg_lambda': 0.1, 'subsample': 0.6, 'subsample_freq': 1}],\n",
       "       [0.9821630747422305,\n",
       "        {'boosting_type': 'gbdt', 'colsample_bytree': 0.8, 'learning_rate': 0.1, 'max_bin': 256, 'n_estimators': 300, 'num_iterations': 2000, 'num_leaves': 680, 'reg_alpha': 0.5, 'reg_lambda': 0.5, 'subsample': 0.6, 'subsample_freq': 2}],\n",
       "       [0.9821204364629421,\n",
       "        {'boosting_type': 'gbdt', 'colsample_bytree': 0.8, 'learning_rate': 0.1, 'max_bin': 256, 'n_estimators': 300, 'num_iterations': 2000, 'num_leaves': 680, 'reg_alpha': 0.5, 'reg_lambda': 0, 'subsample': 0.6, 'subsample_freq': 1}],\n",
       "       [0.9820758960170132,\n",
       "        {'boosting_type': 'gbdt', 'colsample_bytree': 0.8, 'learning_rate': 0.1, 'max_bin': 256, 'n_estimators': 300, 'num_iterations': 2000, 'num_leaves': 680, 'reg_alpha': 0.5, 'reg_lambda': 0.5, 'subsample': 0.6, 'subsample_freq': 3}],\n",
       "       [0.9819416825387294,\n",
       "        {'boosting_type': 'gbdt', 'colsample_bytree': 0.8, 'learning_rate': 0.1, 'max_bin': 256, 'n_estimators': 300, 'num_iterations': 2000, 'num_leaves': 680, 'reg_alpha': 0.1, 'reg_lambda': 0.1, 'subsample': 0.6, 'subsample_freq': 3}],\n",
       "       [0.9819405723583438,\n",
       "        {'boosting_type': 'gbdt', 'colsample_bytree': 0.8, 'learning_rate': 0.1, 'max_bin': 256, 'n_estimators': 300, 'num_iterations': 2000, 'num_leaves': 680, 'reg_alpha': 0.5, 'reg_lambda': 0.1, 'subsample': 0.6, 'subsample_freq': 3}],\n",
       "       [0.9818894436240956,\n",
       "        {'boosting_type': 'gbdt', 'colsample_bytree': 0.8, 'learning_rate': 0.1, 'max_bin': 256, 'n_estimators': 300, 'num_iterations': 2000, 'num_leaves': 680, 'reg_alpha': 0.5, 'reg_lambda': 0.5, 'subsample': 0.6, 'subsample_freq': 1}],\n",
       "       [0.9818426261900021,\n",
       "        {'boosting_type': 'gbdt', 'colsample_bytree': 0.8, 'learning_rate': 0.1, 'max_bin': 256, 'n_estimators': 300, 'num_iterations': 2000, 'num_leaves': 680, 'reg_alpha': 0.5, 'reg_lambda': 0, 'subsample': 0.6, 'subsample_freq': 2}],\n",
       "       [0.9818399796510672,\n",
       "        {'boosting_type': 'gbdt', 'colsample_bytree': 0.8, 'learning_rate': 0.1, 'max_bin': 256, 'n_estimators': 300, 'num_iterations': 2000, 'num_leaves': 680, 'reg_alpha': 0.5, 'reg_lambda': 0.1, 'subsample': 0.6, 'subsample_freq': 2}],\n",
       "       [0.8223701277030635,\n",
       "        {'boosting_type': 'gbdt', 'colsample_bytree': 0.8, 'learning_rate': 0.1, 'max_bin': 256, 'n_estimators': 300, 'num_iterations': 2000, 'num_leaves': 680, 'reg_alpha': 0, 'reg_lambda': 0, 'subsample': 0.8, 'subsample_freq': 3}],\n",
       "       [0.7921724475100065,\n",
       "        {'boosting_type': 'gbdt', 'colsample_bytree': 0.8, 'learning_rate': 0.1, 'max_bin': 256, 'n_estimators': 300, 'num_iterations': 2000, 'num_leaves': 680, 'reg_alpha': 0, 'reg_lambda': 0, 'subsample': 0.6, 'subsample_freq': 3}],\n",
       "       [0.6538097659715315,\n",
       "        {'boosting_type': 'gbdt', 'colsample_bytree': 0.8, 'learning_rate': 0.1, 'max_bin': 256, 'n_estimators': 300, 'num_iterations': 2000, 'num_leaves': 680, 'reg_alpha': 0, 'reg_lambda': 0, 'subsample': 0.6, 'subsample_freq': 2}]],\n",
       "      dtype=object)"
      ]
     },
     "execution_count": 16,
     "metadata": {},
     "output_type": "execute_result"
    }
   ],
   "source": [
    "sns.distplot(grid.cv_results_['mean_test_score'],rug=True,bins=20)\n",
    "plt.show()\n",
    "param_rank = np.array([grid.cv_results_['mean_test_score'],grid.cv_results_['params']]).T\n",
    "a = sorted(param_rank,key=lambda x:x[0],reverse=True)\n",
    "a = np.array(list(a))\n",
    "\n",
    "a"
   ]
  },
  {
   "cell_type": "code",
   "execution_count": 15,
   "metadata": {},
   "outputs": [
    {
     "data": {
      "text/plain": [
       "['./result-temp/2-19-lgb-grid-tune4.m']"
      ]
     },
     "execution_count": 15,
     "metadata": {},
     "output_type": "execute_result"
    }
   ],
   "source": [
    "joblib.dump(grid,'./result-temp/2-19-lgb-grid-tune4.m')"
   ]
  }
 ],
 "metadata": {
  "kernelspec": {
   "display_name": "Python 3",
   "language": "python",
   "name": "python3"
  },
  "language_info": {
   "codemirror_mode": {
    "name": "ipython",
    "version": 3
   },
   "file_extension": ".py",
   "mimetype": "text/x-python",
   "name": "python",
   "nbconvert_exporter": "python",
   "pygments_lexer": "ipython3",
   "version": "3.7.4"
  }
 },
 "nbformat": 4,
 "nbformat_minor": 4
}

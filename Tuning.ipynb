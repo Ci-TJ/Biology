{
 "cells": [
  {
   "cell_type": "code",
   "execution_count": 1,
   "metadata": {},
   "outputs": [
    {
     "name": "stderr",
     "output_type": "stream",
     "text": [
      "D:\\IDE_Project_Programming\\Anaconda\\lib\\site-packages\\sklearn\\externals\\joblib\\__init__.py:15: FutureWarning: sklearn.externals.joblib is deprecated in 0.21 and will be removed in 0.23. Please import this functionality directly from joblib, which can be installed with: pip install joblib. If this warning is raised when loading pickled models, you may need to re-serialize those models with scikit-learn 0.21+.\n",
      "  warnings.warn(msg, category=FutureWarning)\n"
     ]
    }
   ],
   "source": [
    "from module.prepare import *\n",
    "from itertools import product\n",
    "from sklearn.externals import joblib\n",
    "from sklearn import metrics\n",
    "from sklearn.model_selection import ParameterGrid\n",
    "\n",
    "import gc\n",
    "import os\n",
    "import re\n",
    "import math\n",
    "import sys\n",
    "from collections import Counter\n",
    "import random\n",
    "from itertools import islice\n",
    "import time\n",
    "import configparser\n",
    "import json\n",
    "import datetime\n",
    "\n",
    "import seaborn as sns\n",
    "import matplotlib.pyplot as plt\n",
    "import bokeh\n",
    "\n",
    "import numpy as np\n",
    "import pandas as pd\n",
    "from scipy.sparse import csr_matrix\n",
    "import scipy as sp\n",
    "from scipy import stats\n",
    "\n",
    "import sklearn\n",
    "from joblib import dump, load\n",
    "from sklearn.decomposition import *\n",
    "from sklearn.feature_selection import *\n",
    "from sklearn.ensemble import *\n",
    "from sklearn.model_selection import *\n",
    "from sklearn.linear_model import *\n",
    "from sklearn.manifold import *\n",
    "import sklearn.tree as Tr \n",
    "\n",
    "import lightgbm as lgb"
   ]
  },
  {
   "cell_type": "code",
   "execution_count": 2,
   "metadata": {},
   "outputs": [],
   "source": [
    "def getCurrentTime():\n",
    "    return datetime.datetime.strftime(datetime.datetime.fromtimestamp(time.time()),format='%Y-%m-%d-%H-%M-%S')\n",
    "\n",
    "\n",
    "def LGBTuning(Xtrain,Xtest,Ytrain,Ytest,new_params=None):\n",
    "    \n",
    "    clf = lgb.LGBMClassifier(objective='cross_entropy', ### {cross_entropy, binary}\n",
    "                             silent=False,\n",
    "                             verbose=1,\n",
    "                             random_state=seed,\n",
    "                             n_jobs=12,\n",
    "#                              class_weight\n",
    "                            )\n",
    "    \n",
    "    default_params = {\n",
    "    'learning_rate': [0.1], \n",
    "    'boosting_type':['gbdt'], \n",
    "    'n_estimators': [500],\n",
    "    'num_iterations':[1000],\n",
    "    'max_bin':[256]\n",
    "    }\n",
    "    \n",
    "    if new_params is not None:\n",
    "        gridParams.update(new_params)\n",
    "    \n",
    "    arg_str = ''\n",
    "    for k,v in default_params.items():\n",
    "        if type(v[0])==str:\n",
    "            arg_str += k+'='+\"'\"+v[0]+\"',\"\n",
    "        else:\n",
    "            arg_str += k+'='+str(v[0])+\",\"\n",
    "    eval(\n",
    "        'clf.'+clf.set_params.__name__+\"(\"\n",
    "            +arg_str.rstrip(',')+\n",
    "            \")\"\n",
    "        )\n",
    "\n",
    "    print('DEBUG:: tuning params\\n',clf.get_params())\n",
    "    clf.fit(Xtrain,Ytrain)\n",
    "    Ypred = clf.predict(Xtest)\n",
    "    score_train = clf.score(Xtrain,Ytrain)\n",
    "    print('train score %f'%score_train)\n",
    "    \n",
    "    return [Ypred,Ytest,score_train,clf]"
   ]
  },
  {
   "cell_type": "code",
   "execution_count": 3,
   "metadata": {},
   "outputs": [],
   "source": [
    "cv = 5\n",
    "generalize_ratio = 1.0/cv\n",
    "test_ratio = 1.0/cv\n",
    "tuning_mode = False\n",
    "\n",
    "if tuning_mode:\n",
    "    cv = 1"
   ]
  },
  {
   "cell_type": "markdown",
   "metadata": {},
   "source": [
    "tuning 1"
   ]
  },
  {
   "cell_type": "code",
   "execution_count": 4,
   "metadata": {},
   "outputs": [],
   "source": [
    "def TuningParametersStage1(fname=getCurrentTime()+'-stage1.csv'):\n",
    "    res = []\n",
    "    for DATAID in [0,1,2,3,4]:\n",
    "        INFO('data id %d'%DATAID)\n",
    "        for RNA_K in range(3,7):\n",
    "            for PROTEIN_K in range(3,7):\n",
    "                for TOP_RATIO in np.linspace(0.93,0.99,5):\n",
    "                    [data,T] = ReadData(DATAID,PROTEIN_K,RNA_K)\n",
    "                    [X,Y] = ToMatrix(data,'dense')\n",
    "                    [X_train,X_test,Y_train,Y_test] = SplitDataset(X,Y,generalize_ratio)\n",
    "                    [X_train,X_test,Y_train,Y_test] = \\\n",
    "                                RandomForestDimensionalityReduction(X_train,X_test,Y_train,Y_test,topRatio=0.96)\n",
    "                    r = LGBTuning(X_train,X_test,Y_train,Y_test,tuning=False,default=True)\n",
    "                    r = {\n",
    "                        'DATAID': DATAID,\n",
    "                        'test_score':scoreFunction(r[0],r[1]),\n",
    "                        'train_score':r[2],\n",
    "                        'RNA_K':RNA_K,\n",
    "                        'PROTEIN_K':PROTEIN_K,\n",
    "                        'TOP_RATIO':TOP_RATIO\n",
    "                    }\n",
    "                    res.append(r)\n",
    "    df = pd.DataFrame(data=res,columns=['DATAID','test_score','train_score','RNA_K','PROTEIN_K','TOP_RATIO'])\n",
    "    df.to_csv(os.path.join('./result',fname))\n",
    "    return\n"
   ]
  },
  {
   "cell_type": "code",
   "execution_count": null,
   "metadata": {
    "scrolled": true
   },
   "outputs": [],
   "source": [
    "TuningParametersStage1()"
   ]
  }
 ],
 "metadata": {
  "kernelspec": {
   "display_name": "Python 3",
   "language": "python",
   "name": "python3"
  },
  "language_info": {
   "codemirror_mode": {
    "name": "ipython",
    "version": 3
   },
   "file_extension": ".py",
   "mimetype": "text/x-python",
   "name": "python",
   "nbconvert_exporter": "python",
   "pygments_lexer": "ipython3",
   "version": "3.7.6"
  }
 },
 "nbformat": 4,
 "nbformat_minor": 4
}

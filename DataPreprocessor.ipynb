{
 "cells": [
  {
   "cell_type": "code",
   "execution_count": 1,
   "metadata": {},
   "outputs": [],
   "source": [
    "import numpy as np\n",
    "import os"
   ]
  },
  {
   "cell_type": "code",
   "execution_count": 19,
   "metadata": {},
   "outputs": [],
   "source": [
    "SEQ_FILE_PATH1 = 'D:/MYPROJECT/RPITER/NONCODEv5_mouse.fa'\n",
    "OUT_FILE_PATH1 = 'D:/MYPROJECT/RPITER/out_NONCODEv5_mouse3.fa'"
   ]
  },
  {
   "cell_type": "code",
   "execution_count": 20,
   "metadata": {},
   "outputs": [],
   "source": [
    "with open(OUT_FILE_PATH1,'r+') as f:\n",
    "    text = f.read()"
   ]
  },
  {
   "cell_type": "code",
   "execution_count": null,
   "metadata": {},
   "outputs": [],
   "source": [
    "text[:2000]"
   ]
  },
  {
   "cell_type": "code",
   "execution_count": null,
   "metadata": {},
   "outputs": [],
   "source": [
    "with open(SEQ_FILE_PATH1,'r+') as f:\n",
    "    res = []\n",
    "    while f.readable():\n",
    "        line = f.readline()\n",
    "        if len(line):\n",
    "            if line[0]=='>':\n",
    "                res.append([line])\n",
    "            else:\n",
    "                res[-1].extend(line)"
   ]
  },
  {
   "cell_type": "code",
   "execution_count": 18,
   "metadata": {},
   "outputs": [],
   "source": [
    "with open(OUT_FILE_PATH1,'a+') as f:\n",
    "    for line in res:\n",
    "        seq_name = line[0]\n",
    "        seq_line = '\\n'.join(line[1:]).replace('\\n','')\n",
    "        out_line = seq_name + seq_line +'\\n'\n",
    "        f.write(out_line)"
   ]
  }
 ],
 "metadata": {
  "kernelspec": {
   "display_name": "Python 3",
   "language": "python",
   "name": "python3"
  },
  "language_info": {
   "codemirror_mode": {
    "name": "ipython",
    "version": 3
   },
   "file_extension": ".py",
   "mimetype": "text/x-python",
   "name": "python",
   "nbconvert_exporter": "python",
   "pygments_lexer": "ipython3",
   "version": "3.7.3"
  }
 },
 "nbformat": 4,
 "nbformat_minor": 2
}
